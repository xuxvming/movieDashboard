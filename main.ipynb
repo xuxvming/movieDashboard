{
 "cells": [
  {
   "cell_type": "code",
   "execution_count": 9,
   "metadata": {},
   "outputs": [
    {
     "name": "stdout",
     "output_type": "stream",
     "text": [
      "Requirement already satisfied: wordcloud in /Users/xiuxuming/anaconda3/lib/python3.7/site-packages (1.8.1)\n",
      "Requirement already satisfied: numpy>=1.6.1 in /Users/xiuxuming/anaconda3/lib/python3.7/site-packages (from wordcloud) (1.18.2)\n",
      "Requirement already satisfied: pillow in /Users/xiuxuming/anaconda3/lib/python3.7/site-packages (from wordcloud) (6.1.0)\n",
      "Requirement already satisfied: matplotlib in /Users/xiuxuming/anaconda3/lib/python3.7/site-packages (from wordcloud) (3.1.3)\n",
      "Requirement already satisfied: python-dateutil>=2.1 in /Users/xiuxuming/anaconda3/lib/python3.7/site-packages (from matplotlib->wordcloud) (2.8.0)\n",
      "Requirement already satisfied: kiwisolver>=1.0.1 in /Users/xiuxuming/anaconda3/lib/python3.7/site-packages (from matplotlib->wordcloud) (1.1.0)\n",
      "Requirement already satisfied: pyparsing!=2.0.4,!=2.1.2,!=2.1.6,>=2.0.1 in /Users/xiuxuming/anaconda3/lib/python3.7/site-packages (from matplotlib->wordcloud) (2.4.0)\n",
      "Requirement already satisfied: cycler>=0.10 in /Users/xiuxuming/anaconda3/lib/python3.7/site-packages (from matplotlib->wordcloud) (0.10.0)\n",
      "Requirement already satisfied: six>=1.5 in /Users/xiuxuming/anaconda3/lib/python3.7/site-packages (from python-dateutil>=2.1->matplotlib->wordcloud) (1.12.0)\n",
      "Requirement already satisfied: setuptools in /Users/xiuxuming/anaconda3/lib/python3.7/site-packages (from kiwisolver>=1.0.1->matplotlib->wordcloud) (42.0.1)\n",
      "\u001b[33mWARNING: You are using pip version 19.3.1; however, version 20.3.3 is available.\n",
      "You should consider upgrading via the 'pip install --upgrade pip' command.\u001b[0m\n"
     ]
    }
   ],
   "source": [
    "import pandas as pd\n",
    "import sys\n",
    "!{sys.executable} -m pip install wordcloud\n",
    "df = pd.read_csv('data/files/movie.csv')"
   ]
  },
  {
   "cell_type": "code",
   "execution_count": 10,
   "metadata": {},
   "outputs": [
    {
     "data": {
      "application/vnd.plotly.v1+json": {
       "config": {
        "plotlyServerURL": "https://plot.ly"
       },
       "data": [
        {
         "marker": {
          "color": "#EB89B5"
         },
         "name": "control",
         "opacity": 0.75,
         "type": "histogram",
         "x": [
          1,
          6,
          1,
          1,
          1,
          1,
          3,
          4,
          8,
          7,
          5,
          1,
          1,
          3,
          6,
          3,
          5,
          7,
          3,
          5,
          8,
          9,
          1,
          1,
          1
         ],
         "xbins": {
          "end": 10,
          "size": 0.5,
          "start": 1
         }
        }
       ],
       "layout": {
        "bargap": 0.2,
        "bargroupgap": 0.1,
        "template": {
         "data": {
          "bar": [
           {
            "error_x": {
             "color": "#2a3f5f"
            },
            "error_y": {
             "color": "#2a3f5f"
            },
            "marker": {
             "line": {
              "color": "#E5ECF6",
              "width": 0.5
             }
            },
            "type": "bar"
           }
          ],
          "barpolar": [
           {
            "marker": {
             "line": {
              "color": "#E5ECF6",
              "width": 0.5
             }
            },
            "type": "barpolar"
           }
          ],
          "carpet": [
           {
            "aaxis": {
             "endlinecolor": "#2a3f5f",
             "gridcolor": "white",
             "linecolor": "white",
             "minorgridcolor": "white",
             "startlinecolor": "#2a3f5f"
            },
            "baxis": {
             "endlinecolor": "#2a3f5f",
             "gridcolor": "white",
             "linecolor": "white",
             "minorgridcolor": "white",
             "startlinecolor": "#2a3f5f"
            },
            "type": "carpet"
           }
          ],
          "choropleth": [
           {
            "colorbar": {
             "outlinewidth": 0,
             "ticks": ""
            },
            "type": "choropleth"
           }
          ],
          "contour": [
           {
            "colorbar": {
             "outlinewidth": 0,
             "ticks": ""
            },
            "colorscale": [
             [
              0,
              "#0d0887"
             ],
             [
              0.1111111111111111,
              "#46039f"
             ],
             [
              0.2222222222222222,
              "#7201a8"
             ],
             [
              0.3333333333333333,
              "#9c179e"
             ],
             [
              0.4444444444444444,
              "#bd3786"
             ],
             [
              0.5555555555555556,
              "#d8576b"
             ],
             [
              0.6666666666666666,
              "#ed7953"
             ],
             [
              0.7777777777777778,
              "#fb9f3a"
             ],
             [
              0.8888888888888888,
              "#fdca26"
             ],
             [
              1,
              "#f0f921"
             ]
            ],
            "type": "contour"
           }
          ],
          "contourcarpet": [
           {
            "colorbar": {
             "outlinewidth": 0,
             "ticks": ""
            },
            "type": "contourcarpet"
           }
          ],
          "heatmap": [
           {
            "colorbar": {
             "outlinewidth": 0,
             "ticks": ""
            },
            "colorscale": [
             [
              0,
              "#0d0887"
             ],
             [
              0.1111111111111111,
              "#46039f"
             ],
             [
              0.2222222222222222,
              "#7201a8"
             ],
             [
              0.3333333333333333,
              "#9c179e"
             ],
             [
              0.4444444444444444,
              "#bd3786"
             ],
             [
              0.5555555555555556,
              "#d8576b"
             ],
             [
              0.6666666666666666,
              "#ed7953"
             ],
             [
              0.7777777777777778,
              "#fb9f3a"
             ],
             [
              0.8888888888888888,
              "#fdca26"
             ],
             [
              1,
              "#f0f921"
             ]
            ],
            "type": "heatmap"
           }
          ],
          "heatmapgl": [
           {
            "colorbar": {
             "outlinewidth": 0,
             "ticks": ""
            },
            "colorscale": [
             [
              0,
              "#0d0887"
             ],
             [
              0.1111111111111111,
              "#46039f"
             ],
             [
              0.2222222222222222,
              "#7201a8"
             ],
             [
              0.3333333333333333,
              "#9c179e"
             ],
             [
              0.4444444444444444,
              "#bd3786"
             ],
             [
              0.5555555555555556,
              "#d8576b"
             ],
             [
              0.6666666666666666,
              "#ed7953"
             ],
             [
              0.7777777777777778,
              "#fb9f3a"
             ],
             [
              0.8888888888888888,
              "#fdca26"
             ],
             [
              1,
              "#f0f921"
             ]
            ],
            "type": "heatmapgl"
           }
          ],
          "histogram": [
           {
            "marker": {
             "colorbar": {
              "outlinewidth": 0,
              "ticks": ""
             }
            },
            "type": "histogram"
           }
          ],
          "histogram2d": [
           {
            "colorbar": {
             "outlinewidth": 0,
             "ticks": ""
            },
            "colorscale": [
             [
              0,
              "#0d0887"
             ],
             [
              0.1111111111111111,
              "#46039f"
             ],
             [
              0.2222222222222222,
              "#7201a8"
             ],
             [
              0.3333333333333333,
              "#9c179e"
             ],
             [
              0.4444444444444444,
              "#bd3786"
             ],
             [
              0.5555555555555556,
              "#d8576b"
             ],
             [
              0.6666666666666666,
              "#ed7953"
             ],
             [
              0.7777777777777778,
              "#fb9f3a"
             ],
             [
              0.8888888888888888,
              "#fdca26"
             ],
             [
              1,
              "#f0f921"
             ]
            ],
            "type": "histogram2d"
           }
          ],
          "histogram2dcontour": [
           {
            "colorbar": {
             "outlinewidth": 0,
             "ticks": ""
            },
            "colorscale": [
             [
              0,
              "#0d0887"
             ],
             [
              0.1111111111111111,
              "#46039f"
             ],
             [
              0.2222222222222222,
              "#7201a8"
             ],
             [
              0.3333333333333333,
              "#9c179e"
             ],
             [
              0.4444444444444444,
              "#bd3786"
             ],
             [
              0.5555555555555556,
              "#d8576b"
             ],
             [
              0.6666666666666666,
              "#ed7953"
             ],
             [
              0.7777777777777778,
              "#fb9f3a"
             ],
             [
              0.8888888888888888,
              "#fdca26"
             ],
             [
              1,
              "#f0f921"
             ]
            ],
            "type": "histogram2dcontour"
           }
          ],
          "mesh3d": [
           {
            "colorbar": {
             "outlinewidth": 0,
             "ticks": ""
            },
            "type": "mesh3d"
           }
          ],
          "parcoords": [
           {
            "line": {
             "colorbar": {
              "outlinewidth": 0,
              "ticks": ""
             }
            },
            "type": "parcoords"
           }
          ],
          "scatter": [
           {
            "marker": {
             "colorbar": {
              "outlinewidth": 0,
              "ticks": ""
             }
            },
            "type": "scatter"
           }
          ],
          "scatter3d": [
           {
            "line": {
             "colorbar": {
              "outlinewidth": 0,
              "ticks": ""
             }
            },
            "marker": {
             "colorbar": {
              "outlinewidth": 0,
              "ticks": ""
             }
            },
            "type": "scatter3d"
           }
          ],
          "scattercarpet": [
           {
            "marker": {
             "colorbar": {
              "outlinewidth": 0,
              "ticks": ""
             }
            },
            "type": "scattercarpet"
           }
          ],
          "scattergeo": [
           {
            "marker": {
             "colorbar": {
              "outlinewidth": 0,
              "ticks": ""
             }
            },
            "type": "scattergeo"
           }
          ],
          "scattergl": [
           {
            "marker": {
             "colorbar": {
              "outlinewidth": 0,
              "ticks": ""
             }
            },
            "type": "scattergl"
           }
          ],
          "scattermapbox": [
           {
            "marker": {
             "colorbar": {
              "outlinewidth": 0,
              "ticks": ""
             }
            },
            "type": "scattermapbox"
           }
          ],
          "scatterpolar": [
           {
            "marker": {
             "colorbar": {
              "outlinewidth": 0,
              "ticks": ""
             }
            },
            "type": "scatterpolar"
           }
          ],
          "scatterpolargl": [
           {
            "marker": {
             "colorbar": {
              "outlinewidth": 0,
              "ticks": ""
             }
            },
            "type": "scatterpolargl"
           }
          ],
          "scatterternary": [
           {
            "marker": {
             "colorbar": {
              "outlinewidth": 0,
              "ticks": ""
             }
            },
            "type": "scatterternary"
           }
          ],
          "surface": [
           {
            "colorbar": {
             "outlinewidth": 0,
             "ticks": ""
            },
            "colorscale": [
             [
              0,
              "#0d0887"
             ],
             [
              0.1111111111111111,
              "#46039f"
             ],
             [
              0.2222222222222222,
              "#7201a8"
             ],
             [
              0.3333333333333333,
              "#9c179e"
             ],
             [
              0.4444444444444444,
              "#bd3786"
             ],
             [
              0.5555555555555556,
              "#d8576b"
             ],
             [
              0.6666666666666666,
              "#ed7953"
             ],
             [
              0.7777777777777778,
              "#fb9f3a"
             ],
             [
              0.8888888888888888,
              "#fdca26"
             ],
             [
              1,
              "#f0f921"
             ]
            ],
            "type": "surface"
           }
          ],
          "table": [
           {
            "cells": {
             "fill": {
              "color": "#EBF0F8"
             },
             "line": {
              "color": "white"
             }
            },
            "header": {
             "fill": {
              "color": "#C8D4E3"
             },
             "line": {
              "color": "white"
             }
            },
            "type": "table"
           }
          ]
         },
         "layout": {
          "annotationdefaults": {
           "arrowcolor": "#2a3f5f",
           "arrowhead": 0,
           "arrowwidth": 1
          },
          "colorscale": {
           "diverging": [
            [
             0,
             "#8e0152"
            ],
            [
             0.1,
             "#c51b7d"
            ],
            [
             0.2,
             "#de77ae"
            ],
            [
             0.3,
             "#f1b6da"
            ],
            [
             0.4,
             "#fde0ef"
            ],
            [
             0.5,
             "#f7f7f7"
            ],
            [
             0.6,
             "#e6f5d0"
            ],
            [
             0.7,
             "#b8e186"
            ],
            [
             0.8,
             "#7fbc41"
            ],
            [
             0.9,
             "#4d9221"
            ],
            [
             1,
             "#276419"
            ]
           ],
           "sequential": [
            [
             0,
             "#0d0887"
            ],
            [
             0.1111111111111111,
             "#46039f"
            ],
            [
             0.2222222222222222,
             "#7201a8"
            ],
            [
             0.3333333333333333,
             "#9c179e"
            ],
            [
             0.4444444444444444,
             "#bd3786"
            ],
            [
             0.5555555555555556,
             "#d8576b"
            ],
            [
             0.6666666666666666,
             "#ed7953"
            ],
            [
             0.7777777777777778,
             "#fb9f3a"
            ],
            [
             0.8888888888888888,
             "#fdca26"
            ],
            [
             1,
             "#f0f921"
            ]
           ],
           "sequentialminus": [
            [
             0,
             "#0d0887"
            ],
            [
             0.1111111111111111,
             "#46039f"
            ],
            [
             0.2222222222222222,
             "#7201a8"
            ],
            [
             0.3333333333333333,
             "#9c179e"
            ],
            [
             0.4444444444444444,
             "#bd3786"
            ],
            [
             0.5555555555555556,
             "#d8576b"
            ],
            [
             0.6666666666666666,
             "#ed7953"
            ],
            [
             0.7777777777777778,
             "#fb9f3a"
            ],
            [
             0.8888888888888888,
             "#fdca26"
            ],
            [
             1,
             "#f0f921"
            ]
           ]
          },
          "colorway": [
           "#636efa",
           "#EF553B",
           "#00cc96",
           "#ab63fa",
           "#FFA15A",
           "#19d3f3",
           "#FF6692",
           "#B6E880",
           "#FF97FF",
           "#FECB52"
          ],
          "font": {
           "color": "#2a3f5f"
          },
          "geo": {
           "bgcolor": "white",
           "lakecolor": "white",
           "landcolor": "#E5ECF6",
           "showlakes": true,
           "showland": true,
           "subunitcolor": "white"
          },
          "hoverlabel": {
           "align": "left"
          },
          "hovermode": "closest",
          "mapbox": {
           "style": "light"
          },
          "paper_bgcolor": "white",
          "plot_bgcolor": "#E5ECF6",
          "polar": {
           "angularaxis": {
            "gridcolor": "white",
            "linecolor": "white",
            "ticks": ""
           },
           "bgcolor": "#E5ECF6",
           "radialaxis": {
            "gridcolor": "white",
            "linecolor": "white",
            "ticks": ""
           }
          },
          "scene": {
           "xaxis": {
            "backgroundcolor": "#E5ECF6",
            "gridcolor": "white",
            "gridwidth": 2,
            "linecolor": "white",
            "showbackground": true,
            "ticks": "",
            "zerolinecolor": "white"
           },
           "yaxis": {
            "backgroundcolor": "#E5ECF6",
            "gridcolor": "white",
            "gridwidth": 2,
            "linecolor": "white",
            "showbackground": true,
            "ticks": "",
            "zerolinecolor": "white"
           },
           "zaxis": {
            "backgroundcolor": "#E5ECF6",
            "gridcolor": "white",
            "gridwidth": 2,
            "linecolor": "white",
            "showbackground": true,
            "ticks": "",
            "zerolinecolor": "white"
           }
          },
          "shapedefaults": {
           "line": {
            "color": "#2a3f5f"
           }
          },
          "ternary": {
           "aaxis": {
            "gridcolor": "white",
            "linecolor": "white",
            "ticks": ""
           },
           "baxis": {
            "gridcolor": "white",
            "linecolor": "white",
            "ticks": ""
           },
           "bgcolor": "#E5ECF6",
           "caxis": {
            "gridcolor": "white",
            "linecolor": "white",
            "ticks": ""
           }
          },
          "title": {
           "x": 0.05
          },
          "xaxis": {
           "automargin": true,
           "gridcolor": "white",
           "linecolor": "white",
           "ticks": "",
           "zerolinecolor": "white",
           "zerolinewidth": 2
          },
          "yaxis": {
           "automargin": true,
           "gridcolor": "white",
           "linecolor": "white",
           "ticks": "",
           "zerolinecolor": "white",
           "zerolinewidth": 2
          }
         }
        },
        "title": {
         "text": "Rating Distribution Graph"
        },
        "xaxis": {
         "title": {
          "text": "Rating"
         }
        },
        "yaxis": {
         "title": {
          "text": "Count"
         }
        }
       }
      },
      "text/html": [
       "<div>\n",
       "        \n",
       "        \n",
       "            <div id=\"5773a065-311d-4334-bd64-55cfa4d638e5\" class=\"plotly-graph-div\" style=\"height:525px; width:100%;\"></div>\n",
       "            <script type=\"text/javascript\">\n",
       "                require([\"plotly\"], function(Plotly) {\n",
       "                    window.PLOTLYENV=window.PLOTLYENV || {};\n",
       "                    \n",
       "                if (document.getElementById(\"5773a065-311d-4334-bd64-55cfa4d638e5\")) {\n",
       "                    Plotly.newPlot(\n",
       "                        '5773a065-311d-4334-bd64-55cfa4d638e5',\n",
       "                        [{\"marker\": {\"color\": \"#EB89B5\"}, \"name\": \"control\", \"opacity\": 0.75, \"type\": \"histogram\", \"x\": [1, 6, 1, 1, 1, 1, 3, 4, 8, 7, 5, 1, 1, 3, 6, 3, 5, 7, 3, 5, 8, 9, 1, 1, 1], \"xbins\": {\"end\": 10, \"size\": 0.5, \"start\": 1}}],\n",
       "                        {\"bargap\": 0.2, \"bargroupgap\": 0.1, \"template\": {\"data\": {\"bar\": [{\"error_x\": {\"color\": \"#2a3f5f\"}, \"error_y\": {\"color\": \"#2a3f5f\"}, \"marker\": {\"line\": {\"color\": \"#E5ECF6\", \"width\": 0.5}}, \"type\": \"bar\"}], \"barpolar\": [{\"marker\": {\"line\": {\"color\": \"#E5ECF6\", \"width\": 0.5}}, \"type\": \"barpolar\"}], \"carpet\": [{\"aaxis\": {\"endlinecolor\": \"#2a3f5f\", \"gridcolor\": \"white\", \"linecolor\": \"white\", \"minorgridcolor\": \"white\", \"startlinecolor\": \"#2a3f5f\"}, \"baxis\": {\"endlinecolor\": \"#2a3f5f\", \"gridcolor\": \"white\", \"linecolor\": \"white\", \"minorgridcolor\": \"white\", \"startlinecolor\": \"#2a3f5f\"}, \"type\": \"carpet\"}], \"choropleth\": [{\"colorbar\": {\"outlinewidth\": 0, \"ticks\": \"\"}, \"type\": \"choropleth\"}], \"contour\": [{\"colorbar\": {\"outlinewidth\": 0, \"ticks\": \"\"}, \"colorscale\": [[0.0, \"#0d0887\"], [0.1111111111111111, \"#46039f\"], [0.2222222222222222, \"#7201a8\"], [0.3333333333333333, \"#9c179e\"], [0.4444444444444444, \"#bd3786\"], [0.5555555555555556, \"#d8576b\"], [0.6666666666666666, \"#ed7953\"], [0.7777777777777778, \"#fb9f3a\"], [0.8888888888888888, \"#fdca26\"], [1.0, \"#f0f921\"]], \"type\": \"contour\"}], \"contourcarpet\": [{\"colorbar\": {\"outlinewidth\": 0, \"ticks\": \"\"}, \"type\": \"contourcarpet\"}], \"heatmap\": [{\"colorbar\": {\"outlinewidth\": 0, \"ticks\": \"\"}, \"colorscale\": [[0.0, \"#0d0887\"], [0.1111111111111111, \"#46039f\"], [0.2222222222222222, \"#7201a8\"], [0.3333333333333333, \"#9c179e\"], [0.4444444444444444, \"#bd3786\"], [0.5555555555555556, \"#d8576b\"], [0.6666666666666666, \"#ed7953\"], [0.7777777777777778, \"#fb9f3a\"], [0.8888888888888888, \"#fdca26\"], [1.0, \"#f0f921\"]], \"type\": \"heatmap\"}], \"heatmapgl\": [{\"colorbar\": {\"outlinewidth\": 0, \"ticks\": \"\"}, \"colorscale\": [[0.0, \"#0d0887\"], [0.1111111111111111, \"#46039f\"], [0.2222222222222222, \"#7201a8\"], [0.3333333333333333, \"#9c179e\"], [0.4444444444444444, \"#bd3786\"], [0.5555555555555556, \"#d8576b\"], [0.6666666666666666, \"#ed7953\"], [0.7777777777777778, \"#fb9f3a\"], [0.8888888888888888, \"#fdca26\"], [1.0, \"#f0f921\"]], \"type\": \"heatmapgl\"}], \"histogram\": [{\"marker\": {\"colorbar\": {\"outlinewidth\": 0, \"ticks\": \"\"}}, \"type\": \"histogram\"}], \"histogram2d\": [{\"colorbar\": {\"outlinewidth\": 0, \"ticks\": \"\"}, \"colorscale\": [[0.0, \"#0d0887\"], [0.1111111111111111, \"#46039f\"], [0.2222222222222222, \"#7201a8\"], [0.3333333333333333, \"#9c179e\"], [0.4444444444444444, \"#bd3786\"], [0.5555555555555556, \"#d8576b\"], [0.6666666666666666, \"#ed7953\"], [0.7777777777777778, \"#fb9f3a\"], [0.8888888888888888, \"#fdca26\"], [1.0, \"#f0f921\"]], \"type\": \"histogram2d\"}], \"histogram2dcontour\": [{\"colorbar\": {\"outlinewidth\": 0, \"ticks\": \"\"}, \"colorscale\": [[0.0, \"#0d0887\"], [0.1111111111111111, \"#46039f\"], [0.2222222222222222, \"#7201a8\"], [0.3333333333333333, \"#9c179e\"], [0.4444444444444444, \"#bd3786\"], [0.5555555555555556, \"#d8576b\"], [0.6666666666666666, \"#ed7953\"], [0.7777777777777778, \"#fb9f3a\"], [0.8888888888888888, \"#fdca26\"], [1.0, \"#f0f921\"]], \"type\": \"histogram2dcontour\"}], \"mesh3d\": [{\"colorbar\": {\"outlinewidth\": 0, \"ticks\": \"\"}, \"type\": \"mesh3d\"}], \"parcoords\": [{\"line\": {\"colorbar\": {\"outlinewidth\": 0, \"ticks\": \"\"}}, \"type\": \"parcoords\"}], \"scatter\": [{\"marker\": {\"colorbar\": {\"outlinewidth\": 0, \"ticks\": \"\"}}, \"type\": \"scatter\"}], \"scatter3d\": [{\"line\": {\"colorbar\": {\"outlinewidth\": 0, \"ticks\": \"\"}}, \"marker\": {\"colorbar\": {\"outlinewidth\": 0, \"ticks\": \"\"}}, \"type\": \"scatter3d\"}], \"scattercarpet\": [{\"marker\": {\"colorbar\": {\"outlinewidth\": 0, \"ticks\": \"\"}}, \"type\": \"scattercarpet\"}], \"scattergeo\": [{\"marker\": {\"colorbar\": {\"outlinewidth\": 0, \"ticks\": \"\"}}, \"type\": \"scattergeo\"}], \"scattergl\": [{\"marker\": {\"colorbar\": {\"outlinewidth\": 0, \"ticks\": \"\"}}, \"type\": \"scattergl\"}], \"scattermapbox\": [{\"marker\": {\"colorbar\": {\"outlinewidth\": 0, \"ticks\": \"\"}}, \"type\": \"scattermapbox\"}], \"scatterpolar\": [{\"marker\": {\"colorbar\": {\"outlinewidth\": 0, \"ticks\": \"\"}}, \"type\": \"scatterpolar\"}], \"scatterpolargl\": [{\"marker\": {\"colorbar\": {\"outlinewidth\": 0, \"ticks\": \"\"}}, \"type\": \"scatterpolargl\"}], \"scatterternary\": [{\"marker\": {\"colorbar\": {\"outlinewidth\": 0, \"ticks\": \"\"}}, \"type\": \"scatterternary\"}], \"surface\": [{\"colorbar\": {\"outlinewidth\": 0, \"ticks\": \"\"}, \"colorscale\": [[0.0, \"#0d0887\"], [0.1111111111111111, \"#46039f\"], [0.2222222222222222, \"#7201a8\"], [0.3333333333333333, \"#9c179e\"], [0.4444444444444444, \"#bd3786\"], [0.5555555555555556, \"#d8576b\"], [0.6666666666666666, \"#ed7953\"], [0.7777777777777778, \"#fb9f3a\"], [0.8888888888888888, \"#fdca26\"], [1.0, \"#f0f921\"]], \"type\": \"surface\"}], \"table\": [{\"cells\": {\"fill\": {\"color\": \"#EBF0F8\"}, \"line\": {\"color\": \"white\"}}, \"header\": {\"fill\": {\"color\": \"#C8D4E3\"}, \"line\": {\"color\": \"white\"}}, \"type\": \"table\"}]}, \"layout\": {\"annotationdefaults\": {\"arrowcolor\": \"#2a3f5f\", \"arrowhead\": 0, \"arrowwidth\": 1}, \"colorscale\": {\"diverging\": [[0, \"#8e0152\"], [0.1, \"#c51b7d\"], [0.2, \"#de77ae\"], [0.3, \"#f1b6da\"], [0.4, \"#fde0ef\"], [0.5, \"#f7f7f7\"], [0.6, \"#e6f5d0\"], [0.7, \"#b8e186\"], [0.8, \"#7fbc41\"], [0.9, \"#4d9221\"], [1, \"#276419\"]], \"sequential\": [[0.0, \"#0d0887\"], [0.1111111111111111, \"#46039f\"], [0.2222222222222222, \"#7201a8\"], [0.3333333333333333, \"#9c179e\"], [0.4444444444444444, \"#bd3786\"], [0.5555555555555556, \"#d8576b\"], [0.6666666666666666, \"#ed7953\"], [0.7777777777777778, \"#fb9f3a\"], [0.8888888888888888, \"#fdca26\"], [1.0, \"#f0f921\"]], \"sequentialminus\": [[0.0, \"#0d0887\"], [0.1111111111111111, \"#46039f\"], [0.2222222222222222, \"#7201a8\"], [0.3333333333333333, \"#9c179e\"], [0.4444444444444444, \"#bd3786\"], [0.5555555555555556, \"#d8576b\"], [0.6666666666666666, \"#ed7953\"], [0.7777777777777778, \"#fb9f3a\"], [0.8888888888888888, \"#fdca26\"], [1.0, \"#f0f921\"]]}, \"colorway\": [\"#636efa\", \"#EF553B\", \"#00cc96\", \"#ab63fa\", \"#FFA15A\", \"#19d3f3\", \"#FF6692\", \"#B6E880\", \"#FF97FF\", \"#FECB52\"], \"font\": {\"color\": \"#2a3f5f\"}, \"geo\": {\"bgcolor\": \"white\", \"lakecolor\": \"white\", \"landcolor\": \"#E5ECF6\", \"showlakes\": true, \"showland\": true, \"subunitcolor\": \"white\"}, \"hoverlabel\": {\"align\": \"left\"}, \"hovermode\": \"closest\", \"mapbox\": {\"style\": \"light\"}, \"paper_bgcolor\": \"white\", \"plot_bgcolor\": \"#E5ECF6\", \"polar\": {\"angularaxis\": {\"gridcolor\": \"white\", \"linecolor\": \"white\", \"ticks\": \"\"}, \"bgcolor\": \"#E5ECF6\", \"radialaxis\": {\"gridcolor\": \"white\", \"linecolor\": \"white\", \"ticks\": \"\"}}, \"scene\": {\"xaxis\": {\"backgroundcolor\": \"#E5ECF6\", \"gridcolor\": \"white\", \"gridwidth\": 2, \"linecolor\": \"white\", \"showbackground\": true, \"ticks\": \"\", \"zerolinecolor\": \"white\"}, \"yaxis\": {\"backgroundcolor\": \"#E5ECF6\", \"gridcolor\": \"white\", \"gridwidth\": 2, \"linecolor\": \"white\", \"showbackground\": true, \"ticks\": \"\", \"zerolinecolor\": \"white\"}, \"zaxis\": {\"backgroundcolor\": \"#E5ECF6\", \"gridcolor\": \"white\", \"gridwidth\": 2, \"linecolor\": \"white\", \"showbackground\": true, \"ticks\": \"\", \"zerolinecolor\": \"white\"}}, \"shapedefaults\": {\"line\": {\"color\": \"#2a3f5f\"}}, \"ternary\": {\"aaxis\": {\"gridcolor\": \"white\", \"linecolor\": \"white\", \"ticks\": \"\"}, \"baxis\": {\"gridcolor\": \"white\", \"linecolor\": \"white\", \"ticks\": \"\"}, \"bgcolor\": \"#E5ECF6\", \"caxis\": {\"gridcolor\": \"white\", \"linecolor\": \"white\", \"ticks\": \"\"}}, \"title\": {\"x\": 0.05}, \"xaxis\": {\"automargin\": true, \"gridcolor\": \"white\", \"linecolor\": \"white\", \"ticks\": \"\", \"zerolinecolor\": \"white\", \"zerolinewidth\": 2}, \"yaxis\": {\"automargin\": true, \"gridcolor\": \"white\", \"linecolor\": \"white\", \"ticks\": \"\", \"zerolinecolor\": \"white\", \"zerolinewidth\": 2}}}, \"title\": {\"text\": \"Rating Distribution Graph\"}, \"xaxis\": {\"title\": {\"text\": \"Rating\"}}, \"yaxis\": {\"title\": {\"text\": \"Count\"}}},\n",
       "                        {\"responsive\": true}\n",
       "                    ).then(function(){\n",
       "                            \n",
       "var gd = document.getElementById('5773a065-311d-4334-bd64-55cfa4d638e5');\n",
       "var x = new MutationObserver(function (mutations, observer) {{\n",
       "        var display = window.getComputedStyle(gd).display;\n",
       "        if (!display || display === 'none') {{\n",
       "            console.log([gd, 'removed!']);\n",
       "            Plotly.purge(gd);\n",
       "            observer.disconnect();\n",
       "        }}\n",
       "}});\n",
       "\n",
       "// Listen for the removal of the full notebook cells\n",
       "var notebookContainer = gd.closest('#notebook-container');\n",
       "if (notebookContainer) {{\n",
       "    x.observe(notebookContainer, {childList: true});\n",
       "}}\n",
       "\n",
       "// Listen for the clearing of the current output cell\n",
       "var outputEl = gd.closest('.output');\n",
       "if (outputEl) {{\n",
       "    x.observe(outputEl, {childList: true});\n",
       "}}\n",
       "\n",
       "                        })\n",
       "                };\n",
       "                });\n",
       "            </script>\n",
       "        </div>"
      ]
     },
     "metadata": {},
     "output_type": "display_data"
    }
   ],
   "source": [
    "import plotly.graph_objects as go\n",
    "fig = go.Figure()\n",
    "fig.add_trace(go.Histogram(\n",
    "    x=df['rating'],\n",
    "    name='control', # name used in legend and hover labels\n",
    "    xbins=dict( # bins used for histogram\n",
    "        start=1,\n",
    "        end=10,\n",
    "        size=0.5\n",
    "    ),\n",
    "    marker_color='#EB89B5',\n",
    "    opacity=0.75\n",
    "))\n",
    "fig.update_layout(\n",
    "    title_text='Rating Distribution Graph', # title of plot\n",
    "    xaxis_title_text='Rating', # xaxis label\n",
    "    yaxis_title_text='Count', # yaxis label\n",
    "    bargap=0.2, # gap between bars of adjacent location coordinates\n",
    "    bargroupgap=0.1 # gap between bars of the same location coordinates\n",
    ")\n",
    "fig.show()"
   ]
  },
  {
   "cell_type": "code",
   "execution_count": 11,
   "metadata": {},
   "outputs": [],
   "source": [
    "df_pos = df.loc[df['rating'] >=7]\n",
    "df_neg = df.loc[df['rating'] <5]\n",
    "df_nutral = df.loc[(df['rating'] >=5) & (df['rating'] <7)]"
   ]
  },
  {
   "cell_type": "code",
   "execution_count": 14,
   "metadata": {},
   "outputs": [
    {
     "data": {
      "application/vnd.plotly.v1+json": {
       "config": {
        "plotlyServerURL": "https://plot.ly"
       },
       "data": [
        {
         "cells": {
          "align": "center",
          "fill": {
           "color": [
            [
             "rgb(200.0, 22.22222222222223, 22.22222222222223)",
             "rgb(200.0, 44.44444444444446, 44.44444444444446)",
             "rgb(200.0, 44.44444444444446, 44.44444444444446)",
             "rgb(200.0, 22.22222222222223, 22.22222222222223)",
             "rgb(200.0, 0.0, 0.0)"
            ],
            [
             "rgb(200.0, 66.66666666666669, 66.66666666666669)",
             "rgb(200.0, 88.88888888888889, 88.88888888888889)",
             "rgb(200.0, 66.66666666666669, 66.66666666666669)",
             "rgb(200.0, 88.88888888888889, 88.88888888888889)",
             "rgb(200.0, 88.88888888888889, 88.88888888888889)"
            ],
            [
             "rgb(200.0, 177.77777777777777, 177.77777777777777)",
             "rgb(200.0, 177.77777777777777, 177.77777777777777)",
             "rgb(200.0, 177.77777777777777, 177.77777777777777)",
             "rgb(200.0, 177.77777777777777, 177.77777777777777)",
             "rgb(200.0, 177.77777777777777, 177.77777777777777)",
             "rgb(200.0, 133.33333333333334, 133.33333333333334)",
             "rgb(200.0, 111.11111111111111, 111.11111111111111)",
             "rgb(200.0, 177.77777777777777, 177.77777777777777)",
             "rgb(200.0, 177.77777777777777, 177.77777777777777)",
             "rgb(200.0, 133.33333333333334, 133.33333333333334)",
             "rgb(200.0, 133.33333333333334, 133.33333333333334)",
             "rgb(200.0, 133.33333333333334, 133.33333333333334)",
             "rgb(200.0, 177.77777777777777, 177.77777777777777)",
             "rgb(200.0, 177.77777777777777, 177.77777777777777)",
             "rgb(200.0, 177.77777777777777, 177.77777777777777)"
            ]
           ]
          },
          "font": {
           "color": "white",
           "size": 11
          },
          "line": {
           "color": [
            [
             "rgb(200.0, 22.22222222222223, 22.22222222222223)",
             "rgb(200.0, 44.44444444444446, 44.44444444444446)",
             "rgb(200.0, 44.44444444444446, 44.44444444444446)",
             "rgb(200.0, 22.22222222222223, 22.22222222222223)",
             "rgb(200.0, 0.0, 0.0)"
            ],
            [
             "rgb(200.0, 66.66666666666669, 66.66666666666669)",
             "rgb(200.0, 88.88888888888889, 88.88888888888889)",
             "rgb(200.0, 66.66666666666669, 66.66666666666669)",
             "rgb(200.0, 88.88888888888889, 88.88888888888889)",
             "rgb(200.0, 88.88888888888889, 88.88888888888889)"
            ],
            [
             "rgb(200.0, 177.77777777777777, 177.77777777777777)",
             "rgb(200.0, 177.77777777777777, 177.77777777777777)",
             "rgb(200.0, 177.77777777777777, 177.77777777777777)",
             "rgb(200.0, 177.77777777777777, 177.77777777777777)",
             "rgb(200.0, 177.77777777777777, 177.77777777777777)",
             "rgb(200.0, 133.33333333333334, 133.33333333333334)",
             "rgb(200.0, 111.11111111111111, 111.11111111111111)",
             "rgb(200.0, 177.77777777777777, 177.77777777777777)",
             "rgb(200.0, 177.77777777777777, 177.77777777777777)",
             "rgb(200.0, 133.33333333333334, 133.33333333333334)",
             "rgb(200.0, 133.33333333333334, 133.33333333333334)",
             "rgb(200.0, 133.33333333333334, 133.33333333333334)",
             "rgb(200.0, 177.77777777777777, 177.77777777777777)",
             "rgb(200.0, 177.77777777777777, 177.77777777777777)",
             "rgb(200.0, 177.77777777777777, 177.77777777777777)"
            ]
           ]
          },
          "values": [
           [
            "It was so long ago that this furred creature talked of life and other miraculous things hoisted up by far fetched maturity and sensibility presumably alien for a being draped in fur, but it resonates louder and makes even more sense now, when after all this years I re-read the novella that was first published in 1943 after the outbreak of second WW, by French writer and artist Antoine De- Saint Exupery, The Little Prince. It makes me wonder if it ever were a children's tale, but again to decode such an honest, sincerely beautiful written work of art, a child's innocence and naivety is the only play. Such stories don't need working out you feel the characters as they evolve through the pages and identify with you. 2015 is about to see in a re-imagined spirit the animated adaptation of Exupery's invention, from Kung- Fu Panda director Mark Osborne of the same name. It is majorly awaited. The trailer was irresistibly delicious instilling a magic like atmosphere with the equally enchanting background score by Richard Harvey and Hans Zimmer. This movie got an amazing cast from Bridges to Cottilard, it will be dream on screen. The little girl's imagination of the Prince and the fox is done by stop motion animation resembling and staying true to those old painted images. Remember the dewy water color illustrations by Exupery depicting the Prince on the asteroid, the magical rose that grew on itwith flaxen hair and a scarf he just looked like a cherry boy who lost his way. Walking through the sands, if you please I would draw you a sheep.",
            ".......................................................from Pasto,Colombia...Via: L.A. CA., CALI, COLOMBIA and ORLANDO, FL *** This review may contain spoilers ***The expectations you have going into a film have a tremendous influence, as you no doubt have experienced, on your take away after viewing! Other than a couple general comments, only God knows their origin, that The Little Prince was really \"worth it\", I did not have much in the way of any well-defined expectations. Lucky Me! RESULT: A Nine Star experience! Although my wife, Carmen, was the only person accompanying me, soon after initiating viewing, I imagined my granddaughter and daughter in the room, sharing the experience with us! My granddaughter, as is the case with most eight year old girls, loves anything involving a princess! If you have grand kids, you must watch this with them. If thousands of kilometers separate youUse your imagination, as I did! Little Prince seems tailor made for Grandparents/Grandkids viewing a la \"UP\" ? There are a few comments that need to be made regarding Little Prince \"purists\"But let's first focus on analyzing it. This 2015 French version has European Production written all over itBut in the best sense. It is artistic, tells a touching and delicate story, has a number of songs in French that manage to be uplifting and, yet, simultaneously haunting, and, perhaps most importantly, interweaves the Classic 1940's Original story line with a cautionary helicopter parent tale that both compliments and underscores said original! POSSIBLE SPOILER COMING UP:Obviously, one of the great ironies of this 2015 version is that the old man/pilot takes it upon himself to help the Little Girl learn just what it is to be a kid! At the heart of both story lines is that one of the most important things in life is keeping that spark of being a kid alive within us, even if we live to be 100! Earlier, I mentioned Little Prince purists Well, whenever a movie brings a classic literary work to the screen, there are always viewers who want to see the original literary work brought to the screen with no changes, whatsoever, to dialogue or story line! Forget that we are dealing with the now one century old, two different medium conundrum! Needless to say, many of them simply could not get past this point. Obviously, this was absolutely no problem at all for me! To the contrary, it seemed quite a plus! IMDb Stats (Only 37 other reviews and 12,000 ratings votes) indicate that very few people have seen the filmDon't miss it! And make it a family affair! (However, kids under 7 year might find PRINCE a bit \"Slow\", or might not \"Get It\"!) 9*...ENJOY! / DISFRUTELA! Any comments or questions, in English o en Español, are most welcome!",
            "Made for illiterate people. The new movie of \"The Little Prince\" is an awful bastardization of one of the worlds most delightful books. I can not believe that permission was granted to rewrite and make this dribble. No wonder it is not being released. The family of Antoine de Saint-Exupéry should sue heavily. No emotions come through. It is like watching a Walt Disney cartoon, although Disney would have done better. I guess people today like pablum and cartoons. PC to the utmost, it has NOTHING TO DO WITH THE STORY. If this book was one of your favorites, as it was mine you will cringe. It is one thing to adapt something but to change it entirely is unacceptable.",
            "The Little Prince is timeless story for both, children and adult.It is so carefully and thoughtfully written so there is no wonder it's still so popular and inspirational. For some it has such influence that Saint-Exupéry's thoughts guide them through life and are reminding them of beauty, simplicity, but also absurdity of today's life. Reading The Little Prince several times I must say that this movie is nothing like Saint-Exupéry's Little Prince. Yes, it is hard to put such a story on screen, especially to make every book fan satisfied, but this should just not have happened. Sadly, in a movie industry called Hollywood it is already usual to make movies with a superficial plot and well known American patheticness. This 'The Little Prince' movie is not exception, it gives people who have never read a book a totally different and wrong perception of this outstanding literary work. To finish this review I will go back to the headline and say that this is definitely NOT Saint-Exupéry's Little Prince IT IS Hollywood's Little prince.",
            "This is not The Little Prince. This is another Hollywood movie with clichés.I don't get the countless number of good reviews. Who and why let this director to touch this otherwise fantastic story.He directed Kung-Fu Panda? Well, that tells everything.Someone wanted to be be very clever and put every word into our mouths. They wanted to explain everything by their very much simplified understanding. The writers and directors managed to destroy all the beautiful, underlying infinite analogies that the original story consist.This movie is banal, there isn't any better word to it. The typical case when someone wants to tell, explain everything and at the end does not say anything.It is superficial and crawl to touch our inner-self with obviously fake, emotional imitations.There are certain things in the world that made, finished and no one should try to do a re-make and add their own self indulgent rubbish to it, because this is what happens. Self claimed artists who have nothing to say use other peoples' work to pretend at the front of world that they actually have their own thoughts and they are capable to do something relevant. In fact, they cannot.Cant wait when Hollywood decides and re-paint the the Sistine Chapel.Do not watch this whatever. Read the book again!"
           ],
           [
            "There is one thing you have to know before even read about this movie, and it isn't the summary: There is already a LOT of things telling the same old story of the book. How the pilot and the prince became friends, all the adventures and beyond, in other animations and endless other media. This movie isn't about those two characters only. It's about how this story can touch people since it was created, from toddlers to grandpas, in different ways and in different ages. I've seen people say out loud \"this is not little prince!\", but I say \"yes, it is!\". Want to see a pure version? Read the book. The animation and the characters are rich and lovely, the CG and the stop motion are perfect and well used. Everything is heartwarming. If you don't know the book, you'll read it after seeing this. If you do, I'm sure you'll cry a lot. And at the end of the movie you'll want a fox for you too.",
            "I usually love the French animations, because unlike American, the stories, musics, characters that influences the thousands of year cultural history. Definitely not comparable to the Hollywood standards, but it had its own technical brilliance. All I wondered was why this film was in English language.It deserves to be on the upcoming's big occasion (2016 February), if it is eligible for the American Academy Awards. From the director of 'Kung Fu Panda' original movie, which was partially based on the children's novel. The book adaptation is the stop-motion animation and the remaining story's the regular 3D animation.Just remember the movies like 'What Dreams May Come' and 'The Lovely Bones', those magical worlds and breathtaking landscapes. Usually animations are associated with comedy genre, especially when a child character attached to it. This film was not even a comedy, more like those two titles I mentioned.The screenplay wise it was a very 'Neverwas' type, except this one was an animation. But appropriate for people of all ages. The kids can realise the importance of their childhood and the older people can become kids again. The film compressed the gap and erected a bridge between the two hoods, the childhood and the adulthood.\"What is essential is invisible to the eye.\"I did not know what to expect from it, but I highly satisfied with the final product. The film characters had no names, but called, the Little Girl, Mother, Fox, Rose, Snake, King et cetera as what their role is and species. Barely there are only 3-4 characters where the story was focused. Obviously it had a villain, but very unusual existence time and in a crucial part of the story.I don't remember how the 100 minutes went so fast like a ray of the light beam flashed away. The pace of narration was not a rushy, except the opening part. But once the old man character, the Aviator, voiced by Jeff Bridge was introduced, the movie turned into completely different and awesome. Yes, Jeff Bridge's voice was so good for the background narration.This story is about an old man who refused to grow up mentally and believes the existence of the magical stars and planets. The whole neighborhood stayed away from him and his troubles, until a new girl arrives at the next door. The little girl befriends him and falls for all his stories discarding her daily routines, but later it complicates their relationship after her mother finds out what they're up to. What happens to them and how the story concludes is the remaining part.\"She was not a common rose. She was the only one of her kind in the whole universe.\"This story was finely fused between the reality and fantasy. Most essential storyline for the present world. In the name of education how the children were enforced by their parents to mechanical life with less time to play out and make their own friends. Especially as they were lacking the creativity to make up their own fictional worlds with their toys like the kids from a century ago were.It might psychologically affect their characters while becoming an adult like the Aviator in this film, but as one of lines from the movie say 'Growing up is not the problem. Forgetting is', the children are losing their innocence over the adult's reality world. Who knows, someday those kids may become the greatest writer inspired by their childhood days.If you ask me, I strongly recommend it for all. It is very encouraging film for the parents how not to raise their children and for the grown ups how not to get lost is the adult world. Most elegant flick of the year, along with a very few others.You don't have to ignore it because you have read the book, like I said it was not completely borrowed from the original material. Instead, two-third of the film was freshly established out of the same name masterpiece. I'm not familiar with the book, so I've no thoughts that differentiate between these two formats. But definitely the film deserved all the appreciation from critics and movie 9½/10",
            "I could predict the movie ending by the first few minutes or so and I told my wife \"okay, let's see if it can still be entertaining on the details...\". Oh boy, I may never been so glad to be so wrong. I mean, of course I was hoping for it to be good, but I was expecting very, very little of it. Most animations I've been watching in the past 2 years or so, including Pixar's, have not being able to move me at all. At all. And IMDb score was just below what I'd expect from a good one.( Okay, Inside Out was an exception: great and cute. Maybe my hopes for that one were too high but I was hoping for a better neural representation there, and it had some weak science behind it ( don't take my or Steve Novella's word for it, do your homework ). I would argue it is even harmful, because it will certainly create new bad myths about the mind and the brain. )Anyway, Little Prince at least isn't about science - because else they'd get it wrong at very least on the lucid dreaming there... But it's perfectly done. Perfectly. Every little detail. Right near the beginning the girl gets a new friend and starts to wonder how his stories could be possible. While she is thinking, the wind in the background is moving engines. That's art. And science, even if only subconsciously. Even if.The symbolism there is exquisite. I have watched a few french movies, I do know a little about the culture there, I've toured through France more than any other European country in my 2013 tour... I haven't seen anything like this before. Maybe I will need to take my french classes back again, eventually.Here, let me tell you about 2 math formulas that appear in there (not the only ones, the first book she does open is about math, probably algebra, but in french sorry), for a few seconds: first one is about analytical geometry, and got an Escher picture in it. Now, in Brazil we don't learn any of that in school, not even Calculus, but I've gone to first year of Statistics and 1 got semester of Math in there... That shoot is complex! The only thing I can say about the first picture is she got a great compressed writing and thinking there. This to me means more than anything that whoever wrote the script (I haven't read the book) was an avid math enthusiast (like myself) at very least.On the second one, however, she gets on to some Calculus, which to me was one of the funnest parts in school (after geometry, and I didn't really enjoy Math in college). Math was always my favorite topic in school. And that's a \"simple\" 3rd degree expression. All I can say is it's not being properly resolved, at first sight. But I bet there's a meaning there I just can't see yet. This is how this movie was made. Filled with tiny little details at every single second.I'm very good at Math and at counting, but I can't even understand what the 6 year old is doing in her book there and those are images that just don't matter to the plot or for anything else, really. They're there on their own!I'll make a real bold guess here, but I think this have became instantly my favorite film of all times. On top of Forrest Gump, Matrix, any Pixar's, Bedazzled, Terry Gilliam's, Huckabees, Stranger than Fiction, BttF, 2001, Interstellar, The Martian (still unwatched), Terminator you name it. I know almost nobody would agree with me here, but that's just how I felt having just watched the movie less than 8 hours ago.It touched me deeply, and it did so by touching both my heart and brains, like no other one ever did. 34 year old, happily married, with no kids due to life issues, no job and lots of work to do. Specially after being this inspired. =)-- Caue",
            "Animation is under-estimated, perhaps because we tend to be afraid of what we do not understand.I have seen a lot of films, done a lot of reviews and thought I had seen it all.I was wrong.First, I had not read the book prior to seeing this film nor had I seen the earlier screen version.No matter. I was transfixed and stunned. I was still sitting there when the final credits rolled, which is really a feat because the credits roll for 10 minutes after the word FIN (THE END) rolls. (If you miss the credits, you miss the TURN AROUND song which itself could be highlight of one of the most incredible music scores in one of the most incredible movies ever).When computers were first being married to animation -- a marriage made in heaven I think -- I recall an interview with a senior animator who confided that when the day came that they could get the \"eyes\" right, they would have reached the pinnacle of their craft.That day has arrived. This movie is the herald.Watching the eyes in this film, I felt as though I was watching real people. Does that make me sound daft? I hope not. There is one scene where the little girl watches the Aviator go to the hospital in the rain. She is at the same time transfixed with sadness and soaking wet. The animation made both conditions \"real\" at the same time. I don't know how. But it did.Jeff Bridges, a brilliant actor with a record longer than your arm, gives the \"voice\" performance of his career here, and Rachael McAdams, former Femme Fatale, former \"against type\" actress (TRUE DETECTIVE) ditto.Running out of superlatives, something I seldom do, so I will stop here.See it. Don't argue. Just see it.",
            "You always get the book readers moaning about the movies based on them, I get it, books are wonderful, but not everyone can read books, there are people like me, maybe invalid in some way, a visual person who likes to see, hear and learn from movies, but learn in a positive way.This is such a movie, I have not read the book, I probably won't but watching this, I get the message, I get the wonder, I learn the lessons, but I also am amazed at the skill of the animation, the characters drawn, the lighting, the direction, the editing and the wonderful dialogues by so many actors, and the actors I love, the whole thing is wonderful experience.So, those who wrote the horrible reviews moaning about what it should be, what it turned out to be etc. open your mind or in the case close it, put the movie on, and watch it like a child would, enjoy it, and appreciate the huge work that has gone into it.Tayfun",
            "Of course this movie must be special. Anyone who uses the book \"the little prince\" for a movie must have something great in mind. Anything else is a total insult to one of the very best books in historyThis movie manages to go in-between. In the first hour or so I wanted to get up and applaud every 10min. It was stunning and great. The combination of animation and stop-motion worked perfectly. The contrast boring modern time and fantasy well pictured. The book was used well as carrier of the movie...And then the old man was brought to the hospital... and it was the movie that died. The search for the little prince was ridiculous, why did we need a chase and \"happy\" ending? Why not put more attention to the different planets the little prince visits in the book instead? It was all just touched to make space for the ending. Why not make an ending that worked out the relation little girl/old man better.Yes the movie is worthwhile, The first hour is stunning, but the 2nd part makes you leave the theater somewhat disappointed",
            "The movie opened today - 29 July 2015 - here in France, and I saw the second show here where I live, the small town of Paimpol. There were perhaps 30 people altogether in attendance. I could hear that the few children among them were bored. So, first comment: 1) This is not a movie for small children. It won't interest them.2) If you are expecting a video reproduction of St Exupéry's story, you will be very disappointed. It's in this movie, but it only comprises a small part of it. Most of the movie is a frame for that tale, the story of a small girl who meets an elderly aviator who tells her, in bits and pieces, the story of his encounter, many years before, with the Little Prince. If you go expecting just what you know from St Exupéry's story, most of this movie will therefore be an annoyance to you.It took me awhile to accept the frame story. It's fairly banal, fairly Hollywood. Nowhere near the originality of St. Exupéry's remarkable tale. But if you let yourself go with it, it has an appeal over time.The part devoted to St. Exupéry's original tale is the best, as far as I'm concerned.We also see the prince as an adult, very changed. That came as a shock at first to me, but again, I let myself go with it, and it had a certain fairly obvious interest.This is not a great movie. \"Ernest and Célestine\" is a thousand times better. But it's worth seeing.Again, however, this is NOT a movie for little children. They will be bored.",
            "Huge fan of the book and the original 1975 movie. I thought the animated movie was amazing. YES. They switched up the story to create something more family friendly. I watched it with my 10 year old. The original story would have troubled him. The story is still there. Intact. Its just been mixed in with this girls story that matches that of the book. He loved it. The soundtrack is superb. Helps with the story. Even though its all french, my teen sons all downloaded it. Give this \"adaptation\" a chance. The voice acting is really super. Jeff Bridges doesn't mumble his lines and the scenes with the girl are real touching. YOu become attached to the characters quickly. The animation is incredible.",
            "First of all, i never read the book even though i heard about The Little Prince since i was just a little kid. It's a well-known classic literature, after all. So, when i hear the book was made into a movie, i got so excited and couldn't wait to watch it. After i watched it, i do not regret it at all. It was a good movie and make me want to read the book version ( I read some of the review, that tell me that this movie was really different from the book version, so it intrigued my curiosity )My review is as an outsider who doesn't know it real story. So, i won't compare the movie version with the book version. For the movie version, i guess i pretty much like it. I agree that this movie is not suitable for kids, since kids will find it boring. The pace of the movie is kinda slow ( also, it kinds of hard to understand for kids ). The visual itself, went so well and beautifully finished with the combination of stop motion and 3D animation.Well, from my point of view, i think the story itself tried to teach us about life, happiness, sadness, and how to grow up without forgetting who we are. All those kinds of valuable things that we tend to forget, as we grown up and be part of the adult world.I highly recommended this movie for those who do not read the novel yet and those who like philosophical things wrapped in a beautiful visual.",
            "The Little Prince is one of my favourite books. It's simply beautiful. I was looking forward watching this movie. And I'm deeply disappointed by how the director killed the Little Prince. The first part of the movie was nice, and the animation that told the Little Prince's story was amazing. Loved how it was created.The second part...you see how a book is killed. It was disappointing seeing how the movie director mutilated the personality of the Little Prince. In the end, this movie is not about The Little Prince. Indeed, it sends nice messages about friendship, love, what is really important in life, and how we can see the unseen. But it's horrible to see how the Little Prince story is simply destroyed. Catastrophic! Catastrophic!",
            "This review is intended for all those fans of Le petit prince, the original book, and all those who like the character of Le Petit Prince.The Little Prince (original story book) has a very simple storyline (although it's quite rich and complex in analogies and depth), written in French, first published in 1943, shorty before the untimely death of its author/illustrator, a real pilot.I am a French teacher who has always included Le petit prince in my classroom whenever possible and for almost any age group (making the necessary modifications of course). I am a big fan of Antoine de St-Exupery and Le petit prince IS my favourite classic of all time. I don't have a problem with the storyline of this film. I actually think it was made to entertain and even educate a little. My great concern arises from the fact that this film is NOT Le petit prince.This film is trying too hard to cater to so-called modern audiences who like disproportionate faces and odd looking animations that barely resemble human faces. This is an insult to the author whose goal was to put his readers in touch with what's human, as opposed to money, business, rush and all those mundane exigences of the modern world.Instead, the makers of this film exploited a well-loved story and broke it down to pieces, placing the Le petit prince story in a totally unrelated frame story to make it what I call Hollywood-friendly. Even worse, they did not bother to give it a more appropriate title such as Discovering the Little Prince. This film is not the story of Le petit prince. They named it after the original story to attract more viewers and create a poster which makes you believe this is the story of The Little Prince. If I believed in the afterlife, I'd say Antoine de St-Exupert must be shaking in his grave.I have a three year old daughter who is very intelligent and although part of the modern generation, she already knows about this book. Do yourself and your children a favour and if you understand French, read the original. If not, read the translation of the book. Do not go for this film unless you have already read the main story.",
            "Sorry. I grew up on the book and love it for so many reasons. Doing a \"what would happen to the little prince later on?\" I'm not feeling it. Take a poetic masterpiece, add one scoop of Hollywood, a tablespoon of marketing and a pinch of focus groups and you get this schlock. Gross and sad.Better off rereading the book and watching Coraline and Up. This is too slow and boring for kids and too simplistic and poorly thought out for adults. It's in no-man's land.Grand deception - this movie makes France sad and Saint-Exupéry is rolling in his grave depressed that the evil characters of his story, jumped off the pages, got their nasty little hands all over it and ruined it in movie form.",
            "A multi-country collaboration between a LOT of studios, by the director of Kung Fu Panda adapted The Little Prince, one of France's most beloved children's books back in 2015. The film however, takes a very interesting approach to the book.For those who haven't read it, The Little Prince contains a lot of philosophical anecdotes, the first several of which have a theme of the child versus the adult. And this movie opens with a girl being raised in a strict household with her mother's intention of turning her into a \"proper adult.\" But then she makes friends with the strange eccentric man next door, who is the aviator and writer of the The Little Prince book, (in universe.)Just to clarify that The Little Girl is not in the little prince book. Also, none of the characters in the book or the movie, have proper names. The movie cuts between the story of the prince, and the little girl's reaction to the story.And in a nutshell, this movie is INCREDIBLY good. I love it. It feels like a movie that could have come right out of a mainstream Western studio; if they didn't have to force in a joke every 10 seconds, and were allowed to be subtler and metaphorical. While it does draw the lines between kids and adults in such a blatant, stark way, and maybe her transition from a mini adult into a playful kid is a little bit too easy, and MAYBE this whole lesson of keeping hold of your inner child isn't really one this generation has any problems with, there's still a lot of relatable, inspirational material here!I love the way she initially reacts to the story in a SUPER literal way, which seems to echo how much fiction is judged that way recently! Also, this film approaches the concept of belief in a remarkably mature and tactful way.But then the last act suddenly takes a SHARP left turn, and takes on a VASTLY different tactic of re-imaging the book that's an interesting idea, but completely ruined because of how over-the-top spastic-ally CONTROLLING the tone was. Also, because the moral is SPELLED OUT to the audience, which it didn't need to be.But overall, I thought this movie was AMAZING. It's beautiful, it's touching, and it gets these really complex ideas across in very relatable ways. This is a movie I would watch again and again.",
            "I havnt read the book yet so I dont know of any differences between the two. Its a very heartwarming movie that will make the toughest tear up a little. also shows the importance of family time and the importance of just being a kid. easily watchable more than once!",
            "The Little Prince is the best Film I ever seen. The animation is great, the Soundtrack is perfect and the story is heartfull."
           ],
           [
            "Very successful in bringing Little Prince into today. The movie made me to read the Little Prince again and learn more. The challenge between living natural and living modern became fully alive in my mind again and again. Like my childhood. I have a neighbor very similar to Aviator. He had long white hair and a very old jacket. He had a magic smile. I think he was very similar to Aviator. All of my memories of him became animated in front of my eyes while watching the movie. Maybe everyone has someone like Aviator in his or her life or must find. The snake scene was very deep like book. The movie made me to believe yet there is hope for peace.",
            "I have read this marvelous book many times; first as a naive school boy and years later as a \"grown up\", have enjoyed reading it in 4 languages, so I was excited to see this new animation. I watched it having in mind to stay open-minded hence the first half was somehow acceptable; the story of a little girl with St. Exupery in his last days, mixed with parts from the original story of the book. I tried to understand the director's viewpoint that: you can't present this classic, as it is, for today's audience... well, yes and no!The parts telling the original story; as animation, visuals, colors, textures are beautiful and touching indeed! Bravo! but the second half: \"Little prince in the 21 century\" was rather average, and the ending more or less disappointing. I think there are works of music, literature,art which are to be reinterpreted very carefully, or better be left in their pure original form.I feel Exupery's book is in that category. If you value the book as a treasure of human literature it's probably better not to watch this animation. If you don't know the book you may enjoy this animation, it is not bad, but it is not a successful interpretation of \"The little Prince\". At least, they could have the sensitivity of not using the original title! 6/10  for the first 55 minutes.",
            "First of all - I'm a fan of The Little Prince. I've read it ever since I was a very young kid, and now that I'm a middle aged adult, it still holds tons of surprises and things to thoroughly think about. It may as well be my favorite book ever.So, when I saw there was going to be an adaptation of the book, I hoped for a somewhat true to the book story. Anything close to it would have been fine by me, really. I mean, the book just doesn't lend itself to a movie, IMHO. It's just too deep and complex, and too simple and sweet at the same time. The book, to me, it's the sweetest and most delicate balance of what being a human being is all about. What moves us, as seen from the eyes of a wise, sweet, innocent child.The movie, therefore, is an atrocity and an insult to Antoine De Saint-Exupery. Period. It's the grossest, vilest insult to The Little Prince I could ever imagine.First - I should have known from the ads. The Little Prince is a little icon, far away from the main characters - The Aviator, The Fox, and... The Girl???? Where did the little girl come from? Apparently, the movie makers thought they just couldn't make a movie without adding extra characters. And then, I suppose, they thought making a movie about the original story would have been too difficult, so they just tossed it all away and wrote an original story about a little girl and her mom.I wish I was kidding. I'm not. The Little Prince story is just an excuse to move along a primary story about something else. It's treated as an extra, as something superfluous, as something - I guess - they had to do because the movie was named \"The Little Prince\", If you went in, expecting to watch something related to the real story, you are going to be very, very disappointed.Second - the story never goes into what makes The Little Prince so special. You get to see the Little Prince traveling through asteroids, talking to his rose, taming his fox. Is any of this explained or explored in detail? No. It is treated as a distraction to the main story. The filmmakers never even bother to explore the symbolism behind the story. It's merely treated as an excuse for telling an alternate story.Third - and this is where the spoiler goes. The Little Prince is all about love, tenderness, anger, happiness and ultimately, sadness. It's a moving story, told in the sweetest way possible - through the eyes of a small child. What on EARTH were the filmmakers thinking when they threw in action scenes? WHAT WERE THEY THINKING?!?!?!? I won't spoil it all, but when I saw scenes straight out of a video game, with violence, planes zooming in and out, adventure, etc., I almost walked out of the theater. The only thing that made me stay there was my child.Fourth - another spoiler. The aviator was a child with a wonderful imagination, who grew up to become a jaded person. The Little Prince helped him question his beliefs and rediscover a sense of wonder he had lost. In the movie, the aviator is a childish old man. Not \"child-like\", or full of wonder. The whole point of the book was how an adult can become responsible, knowledgeable, yet retain his sensibility and sense of wonder throughout. Nowhere is this to be seen - the aviator is just like a spoiled, irreverent, incoherent child. Which is even more absurd when you see the real Little Prince's sequences, and you realize how different both versions of the aviator are.Fifth - another spoiler. If you ever want to see part of your childhood ruined and torn to pieces, go watch this movie. You'll see where The Little Prince ended up. And believe me, you'll want to shout your lungs out at the filmmakers for destroying your childhood image of what his little Majesty would end up like. It's a travesty. It's depressing. It's false. And it's absolutely, completely wrong.This is the most misguided, insulting and infuriating book adaptation I've ever seen. It's as if Star Wars: Episode 7 was about a kid watching Star Wars: A New Hope 30 minutes at a time. It's just... wrong. Shame on everyone involved in making this travesty. 2 stars, because the animation showing what The Little Prince was really about was actually very well done.",
            "I like to think there is two act to this movie. The first act that still relate to the book, and the second act the script writers just added in to fill the last 35 minutes.The movie begins wonderfully; full of artsy and inspiring animation. All the little side story and characters were left open for the audience to interpret - the same way the author did in the book. The characters were as interesting as they were in the book and the writers adaptation of telling their tale were flawless executed. However, the second act of the movie felt like a straight-up socialist propaganda. Blaming all the problems on businesses. Mocking academic achievement and hard work. Painting the grown-up world gloom and dread; and anyone who obtain any wealth must be evil. Remember when I said leaving the characters open for interpretation? Nope, The Little Prince has been exploited and any of the original story's meaning has been killed.",
            "I would give this a zero if IMDb allowed a zero. This lame, pseudo adaptation of the Little Prince deserves nothing precisely because it has NOTHING to do with the book. It capitalizes on a good story by turning it into some dreadful vehicle for how \"it would have been such a better story if it had been entirely about a girl who saves several men..her mother..and probably the population of a small, androgynous colony on Mars... from the failures they were doomed to, without her...sniff\". really, really lousy. Saint-Exupery wrote a beautiful story. But it didn't involve a precocious girl (oh, poor, poor sad thing.) who was exploited by her single, regretful mother (oh, bad, bad mummy) and how said girl redeems the life of a crusty old man or the eponymous Little Prince. This SUCKS. SUCK FEST. FESTIVAL OF SUCK. SUCKY, SUCKY, SUCKY, SUCKY, SUCKY SUCK. i think you get my drift. SUUUUUUCKCKCKCKCKCKS!!!!!!!!"
           ]
          ]
         },
         "header": {
          "align": "center",
          "fill": {
           "color": "white"
          },
          "font": {
           "color": "black",
           "size": 12
          },
          "line": {
           "color": "white"
          },
          "values": [
           "<b>Positive Comments</b>",
           "<b>Nautral Comments</b>",
           "<b>Negative Comments</b>"
          ]
         },
         "type": "table"
        }
       ],
       "layout": {
        "template": {
         "data": {
          "bar": [
           {
            "error_x": {
             "color": "#2a3f5f"
            },
            "error_y": {
             "color": "#2a3f5f"
            },
            "marker": {
             "line": {
              "color": "#E5ECF6",
              "width": 0.5
             }
            },
            "type": "bar"
           }
          ],
          "barpolar": [
           {
            "marker": {
             "line": {
              "color": "#E5ECF6",
              "width": 0.5
             }
            },
            "type": "barpolar"
           }
          ],
          "carpet": [
           {
            "aaxis": {
             "endlinecolor": "#2a3f5f",
             "gridcolor": "white",
             "linecolor": "white",
             "minorgridcolor": "white",
             "startlinecolor": "#2a3f5f"
            },
            "baxis": {
             "endlinecolor": "#2a3f5f",
             "gridcolor": "white",
             "linecolor": "white",
             "minorgridcolor": "white",
             "startlinecolor": "#2a3f5f"
            },
            "type": "carpet"
           }
          ],
          "choropleth": [
           {
            "colorbar": {
             "outlinewidth": 0,
             "ticks": ""
            },
            "type": "choropleth"
           }
          ],
          "contour": [
           {
            "colorbar": {
             "outlinewidth": 0,
             "ticks": ""
            },
            "colorscale": [
             [
              0,
              "#0d0887"
             ],
             [
              0.1111111111111111,
              "#46039f"
             ],
             [
              0.2222222222222222,
              "#7201a8"
             ],
             [
              0.3333333333333333,
              "#9c179e"
             ],
             [
              0.4444444444444444,
              "#bd3786"
             ],
             [
              0.5555555555555556,
              "#d8576b"
             ],
             [
              0.6666666666666666,
              "#ed7953"
             ],
             [
              0.7777777777777778,
              "#fb9f3a"
             ],
             [
              0.8888888888888888,
              "#fdca26"
             ],
             [
              1,
              "#f0f921"
             ]
            ],
            "type": "contour"
           }
          ],
          "contourcarpet": [
           {
            "colorbar": {
             "outlinewidth": 0,
             "ticks": ""
            },
            "type": "contourcarpet"
           }
          ],
          "heatmap": [
           {
            "colorbar": {
             "outlinewidth": 0,
             "ticks": ""
            },
            "colorscale": [
             [
              0,
              "#0d0887"
             ],
             [
              0.1111111111111111,
              "#46039f"
             ],
             [
              0.2222222222222222,
              "#7201a8"
             ],
             [
              0.3333333333333333,
              "#9c179e"
             ],
             [
              0.4444444444444444,
              "#bd3786"
             ],
             [
              0.5555555555555556,
              "#d8576b"
             ],
             [
              0.6666666666666666,
              "#ed7953"
             ],
             [
              0.7777777777777778,
              "#fb9f3a"
             ],
             [
              0.8888888888888888,
              "#fdca26"
             ],
             [
              1,
              "#f0f921"
             ]
            ],
            "type": "heatmap"
           }
          ],
          "heatmapgl": [
           {
            "colorbar": {
             "outlinewidth": 0,
             "ticks": ""
            },
            "colorscale": [
             [
              0,
              "#0d0887"
             ],
             [
              0.1111111111111111,
              "#46039f"
             ],
             [
              0.2222222222222222,
              "#7201a8"
             ],
             [
              0.3333333333333333,
              "#9c179e"
             ],
             [
              0.4444444444444444,
              "#bd3786"
             ],
             [
              0.5555555555555556,
              "#d8576b"
             ],
             [
              0.6666666666666666,
              "#ed7953"
             ],
             [
              0.7777777777777778,
              "#fb9f3a"
             ],
             [
              0.8888888888888888,
              "#fdca26"
             ],
             [
              1,
              "#f0f921"
             ]
            ],
            "type": "heatmapgl"
           }
          ],
          "histogram": [
           {
            "marker": {
             "colorbar": {
              "outlinewidth": 0,
              "ticks": ""
             }
            },
            "type": "histogram"
           }
          ],
          "histogram2d": [
           {
            "colorbar": {
             "outlinewidth": 0,
             "ticks": ""
            },
            "colorscale": [
             [
              0,
              "#0d0887"
             ],
             [
              0.1111111111111111,
              "#46039f"
             ],
             [
              0.2222222222222222,
              "#7201a8"
             ],
             [
              0.3333333333333333,
              "#9c179e"
             ],
             [
              0.4444444444444444,
              "#bd3786"
             ],
             [
              0.5555555555555556,
              "#d8576b"
             ],
             [
              0.6666666666666666,
              "#ed7953"
             ],
             [
              0.7777777777777778,
              "#fb9f3a"
             ],
             [
              0.8888888888888888,
              "#fdca26"
             ],
             [
              1,
              "#f0f921"
             ]
            ],
            "type": "histogram2d"
           }
          ],
          "histogram2dcontour": [
           {
            "colorbar": {
             "outlinewidth": 0,
             "ticks": ""
            },
            "colorscale": [
             [
              0,
              "#0d0887"
             ],
             [
              0.1111111111111111,
              "#46039f"
             ],
             [
              0.2222222222222222,
              "#7201a8"
             ],
             [
              0.3333333333333333,
              "#9c179e"
             ],
             [
              0.4444444444444444,
              "#bd3786"
             ],
             [
              0.5555555555555556,
              "#d8576b"
             ],
             [
              0.6666666666666666,
              "#ed7953"
             ],
             [
              0.7777777777777778,
              "#fb9f3a"
             ],
             [
              0.8888888888888888,
              "#fdca26"
             ],
             [
              1,
              "#f0f921"
             ]
            ],
            "type": "histogram2dcontour"
           }
          ],
          "mesh3d": [
           {
            "colorbar": {
             "outlinewidth": 0,
             "ticks": ""
            },
            "type": "mesh3d"
           }
          ],
          "parcoords": [
           {
            "line": {
             "colorbar": {
              "outlinewidth": 0,
              "ticks": ""
             }
            },
            "type": "parcoords"
           }
          ],
          "scatter": [
           {
            "marker": {
             "colorbar": {
              "outlinewidth": 0,
              "ticks": ""
             }
            },
            "type": "scatter"
           }
          ],
          "scatter3d": [
           {
            "line": {
             "colorbar": {
              "outlinewidth": 0,
              "ticks": ""
             }
            },
            "marker": {
             "colorbar": {
              "outlinewidth": 0,
              "ticks": ""
             }
            },
            "type": "scatter3d"
           }
          ],
          "scattercarpet": [
           {
            "marker": {
             "colorbar": {
              "outlinewidth": 0,
              "ticks": ""
             }
            },
            "type": "scattercarpet"
           }
          ],
          "scattergeo": [
           {
            "marker": {
             "colorbar": {
              "outlinewidth": 0,
              "ticks": ""
             }
            },
            "type": "scattergeo"
           }
          ],
          "scattergl": [
           {
            "marker": {
             "colorbar": {
              "outlinewidth": 0,
              "ticks": ""
             }
            },
            "type": "scattergl"
           }
          ],
          "scattermapbox": [
           {
            "marker": {
             "colorbar": {
              "outlinewidth": 0,
              "ticks": ""
             }
            },
            "type": "scattermapbox"
           }
          ],
          "scatterpolar": [
           {
            "marker": {
             "colorbar": {
              "outlinewidth": 0,
              "ticks": ""
             }
            },
            "type": "scatterpolar"
           }
          ],
          "scatterpolargl": [
           {
            "marker": {
             "colorbar": {
              "outlinewidth": 0,
              "ticks": ""
             }
            },
            "type": "scatterpolargl"
           }
          ],
          "scatterternary": [
           {
            "marker": {
             "colorbar": {
              "outlinewidth": 0,
              "ticks": ""
             }
            },
            "type": "scatterternary"
           }
          ],
          "surface": [
           {
            "colorbar": {
             "outlinewidth": 0,
             "ticks": ""
            },
            "colorscale": [
             [
              0,
              "#0d0887"
             ],
             [
              0.1111111111111111,
              "#46039f"
             ],
             [
              0.2222222222222222,
              "#7201a8"
             ],
             [
              0.3333333333333333,
              "#9c179e"
             ],
             [
              0.4444444444444444,
              "#bd3786"
             ],
             [
              0.5555555555555556,
              "#d8576b"
             ],
             [
              0.6666666666666666,
              "#ed7953"
             ],
             [
              0.7777777777777778,
              "#fb9f3a"
             ],
             [
              0.8888888888888888,
              "#fdca26"
             ],
             [
              1,
              "#f0f921"
             ]
            ],
            "type": "surface"
           }
          ],
          "table": [
           {
            "cells": {
             "fill": {
              "color": "#EBF0F8"
             },
             "line": {
              "color": "white"
             }
            },
            "header": {
             "fill": {
              "color": "#C8D4E3"
             },
             "line": {
              "color": "white"
             }
            },
            "type": "table"
           }
          ]
         },
         "layout": {
          "annotationdefaults": {
           "arrowcolor": "#2a3f5f",
           "arrowhead": 0,
           "arrowwidth": 1
          },
          "colorscale": {
           "diverging": [
            [
             0,
             "#8e0152"
            ],
            [
             0.1,
             "#c51b7d"
            ],
            [
             0.2,
             "#de77ae"
            ],
            [
             0.3,
             "#f1b6da"
            ],
            [
             0.4,
             "#fde0ef"
            ],
            [
             0.5,
             "#f7f7f7"
            ],
            [
             0.6,
             "#e6f5d0"
            ],
            [
             0.7,
             "#b8e186"
            ],
            [
             0.8,
             "#7fbc41"
            ],
            [
             0.9,
             "#4d9221"
            ],
            [
             1,
             "#276419"
            ]
           ],
           "sequential": [
            [
             0,
             "#0d0887"
            ],
            [
             0.1111111111111111,
             "#46039f"
            ],
            [
             0.2222222222222222,
             "#7201a8"
            ],
            [
             0.3333333333333333,
             "#9c179e"
            ],
            [
             0.4444444444444444,
             "#bd3786"
            ],
            [
             0.5555555555555556,
             "#d8576b"
            ],
            [
             0.6666666666666666,
             "#ed7953"
            ],
            [
             0.7777777777777778,
             "#fb9f3a"
            ],
            [
             0.8888888888888888,
             "#fdca26"
            ],
            [
             1,
             "#f0f921"
            ]
           ],
           "sequentialminus": [
            [
             0,
             "#0d0887"
            ],
            [
             0.1111111111111111,
             "#46039f"
            ],
            [
             0.2222222222222222,
             "#7201a8"
            ],
            [
             0.3333333333333333,
             "#9c179e"
            ],
            [
             0.4444444444444444,
             "#bd3786"
            ],
            [
             0.5555555555555556,
             "#d8576b"
            ],
            [
             0.6666666666666666,
             "#ed7953"
            ],
            [
             0.7777777777777778,
             "#fb9f3a"
            ],
            [
             0.8888888888888888,
             "#fdca26"
            ],
            [
             1,
             "#f0f921"
            ]
           ]
          },
          "colorway": [
           "#636efa",
           "#EF553B",
           "#00cc96",
           "#ab63fa",
           "#FFA15A",
           "#19d3f3",
           "#FF6692",
           "#B6E880",
           "#FF97FF",
           "#FECB52"
          ],
          "font": {
           "color": "#2a3f5f"
          },
          "geo": {
           "bgcolor": "white",
           "lakecolor": "white",
           "landcolor": "#E5ECF6",
           "showlakes": true,
           "showland": true,
           "subunitcolor": "white"
          },
          "hoverlabel": {
           "align": "left"
          },
          "hovermode": "closest",
          "mapbox": {
           "style": "light"
          },
          "paper_bgcolor": "white",
          "plot_bgcolor": "#E5ECF6",
          "polar": {
           "angularaxis": {
            "gridcolor": "white",
            "linecolor": "white",
            "ticks": ""
           },
           "bgcolor": "#E5ECF6",
           "radialaxis": {
            "gridcolor": "white",
            "linecolor": "white",
            "ticks": ""
           }
          },
          "scene": {
           "xaxis": {
            "backgroundcolor": "#E5ECF6",
            "gridcolor": "white",
            "gridwidth": 2,
            "linecolor": "white",
            "showbackground": true,
            "ticks": "",
            "zerolinecolor": "white"
           },
           "yaxis": {
            "backgroundcolor": "#E5ECF6",
            "gridcolor": "white",
            "gridwidth": 2,
            "linecolor": "white",
            "showbackground": true,
            "ticks": "",
            "zerolinecolor": "white"
           },
           "zaxis": {
            "backgroundcolor": "#E5ECF6",
            "gridcolor": "white",
            "gridwidth": 2,
            "linecolor": "white",
            "showbackground": true,
            "ticks": "",
            "zerolinecolor": "white"
           }
          },
          "shapedefaults": {
           "line": {
            "color": "#2a3f5f"
           }
          },
          "ternary": {
           "aaxis": {
            "gridcolor": "white",
            "linecolor": "white",
            "ticks": ""
           },
           "baxis": {
            "gridcolor": "white",
            "linecolor": "white",
            "ticks": ""
           },
           "bgcolor": "#E5ECF6",
           "caxis": {
            "gridcolor": "white",
            "linecolor": "white",
            "ticks": ""
           }
          },
          "title": {
           "x": 0.05
          },
          "xaxis": {
           "automargin": true,
           "gridcolor": "white",
           "linecolor": "white",
           "ticks": "",
           "zerolinecolor": "white",
           "zerolinewidth": 2
          },
          "yaxis": {
           "automargin": true,
           "gridcolor": "white",
           "linecolor": "white",
           "ticks": "",
           "zerolinecolor": "white",
           "zerolinewidth": 2
          }
         }
        }
       }
      },
      "text/html": [
       "<div>\n",
       "        \n",
       "        \n",
       "            <div id=\"53f1a638-0756-4dd1-bd76-4c13bdefa6a3\" class=\"plotly-graph-div\" style=\"height:525px; width:100%;\"></div>\n",
       "            <script type=\"text/javascript\">\n",
       "                require([\"plotly\"], function(Plotly) {\n",
       "                    window.PLOTLYENV=window.PLOTLYENV || {};\n",
       "                    \n",
       "                if (document.getElementById(\"53f1a638-0756-4dd1-bd76-4c13bdefa6a3\")) {\n",
       "                    Plotly.newPlot(\n",
       "                        '53f1a638-0756-4dd1-bd76-4c13bdefa6a3',\n",
       "                        [{\"cells\": {\"align\": \"center\", \"fill\": {\"color\": [[\"rgb(200.0, 22.22222222222223, 22.22222222222223)\", \"rgb(200.0, 44.44444444444446, 44.44444444444446)\", \"rgb(200.0, 44.44444444444446, 44.44444444444446)\", \"rgb(200.0, 22.22222222222223, 22.22222222222223)\", \"rgb(200.0, 0.0, 0.0)\"], [\"rgb(200.0, 66.66666666666669, 66.66666666666669)\", \"rgb(200.0, 88.88888888888889, 88.88888888888889)\", \"rgb(200.0, 66.66666666666669, 66.66666666666669)\", \"rgb(200.0, 88.88888888888889, 88.88888888888889)\", \"rgb(200.0, 88.88888888888889, 88.88888888888889)\"], [\"rgb(200.0, 177.77777777777777, 177.77777777777777)\", \"rgb(200.0, 177.77777777777777, 177.77777777777777)\", \"rgb(200.0, 177.77777777777777, 177.77777777777777)\", \"rgb(200.0, 177.77777777777777, 177.77777777777777)\", \"rgb(200.0, 177.77777777777777, 177.77777777777777)\", \"rgb(200.0, 133.33333333333334, 133.33333333333334)\", \"rgb(200.0, 111.11111111111111, 111.11111111111111)\", \"rgb(200.0, 177.77777777777777, 177.77777777777777)\", \"rgb(200.0, 177.77777777777777, 177.77777777777777)\", \"rgb(200.0, 133.33333333333334, 133.33333333333334)\", \"rgb(200.0, 133.33333333333334, 133.33333333333334)\", \"rgb(200.0, 133.33333333333334, 133.33333333333334)\", \"rgb(200.0, 177.77777777777777, 177.77777777777777)\", \"rgb(200.0, 177.77777777777777, 177.77777777777777)\", \"rgb(200.0, 177.77777777777777, 177.77777777777777)\"]]}, \"font\": {\"color\": \"white\", \"size\": 11}, \"line\": {\"color\": [[\"rgb(200.0, 22.22222222222223, 22.22222222222223)\", \"rgb(200.0, 44.44444444444446, 44.44444444444446)\", \"rgb(200.0, 44.44444444444446, 44.44444444444446)\", \"rgb(200.0, 22.22222222222223, 22.22222222222223)\", \"rgb(200.0, 0.0, 0.0)\"], [\"rgb(200.0, 66.66666666666669, 66.66666666666669)\", \"rgb(200.0, 88.88888888888889, 88.88888888888889)\", \"rgb(200.0, 66.66666666666669, 66.66666666666669)\", \"rgb(200.0, 88.88888888888889, 88.88888888888889)\", \"rgb(200.0, 88.88888888888889, 88.88888888888889)\"], [\"rgb(200.0, 177.77777777777777, 177.77777777777777)\", \"rgb(200.0, 177.77777777777777, 177.77777777777777)\", \"rgb(200.0, 177.77777777777777, 177.77777777777777)\", \"rgb(200.0, 177.77777777777777, 177.77777777777777)\", \"rgb(200.0, 177.77777777777777, 177.77777777777777)\", \"rgb(200.0, 133.33333333333334, 133.33333333333334)\", \"rgb(200.0, 111.11111111111111, 111.11111111111111)\", \"rgb(200.0, 177.77777777777777, 177.77777777777777)\", \"rgb(200.0, 177.77777777777777, 177.77777777777777)\", \"rgb(200.0, 133.33333333333334, 133.33333333333334)\", \"rgb(200.0, 133.33333333333334, 133.33333333333334)\", \"rgb(200.0, 133.33333333333334, 133.33333333333334)\", \"rgb(200.0, 177.77777777777777, 177.77777777777777)\", \"rgb(200.0, 177.77777777777777, 177.77777777777777)\", \"rgb(200.0, 177.77777777777777, 177.77777777777777)\"]]}, \"values\": [[\"It was so long ago that this furred creature talked of life and other miraculous things hoisted up by far fetched maturity and sensibility presumably alien for a being draped in fur, but it resonates louder and makes even more sense now, when after all this years I re-read the novella that was first published in 1943 after the outbreak of second WW, by French writer and artist Antoine De- Saint Exupery, The Little Prince. It makes me wonder if it ever were a children's tale, but again to decode such an honest, sincerely beautiful written work of art, a child's innocence and naivety is the only play. Such stories don't need working out you feel the characters as they evolve through the pages and identify with you. 2015 is about to see in a re-imagined spirit the animated adaptation of Exupery's invention, from Kung- Fu Panda director Mark Osborne of the same name. It is majorly awaited. The trailer was irresistibly delicious instilling a magic like atmosphere with the equally enchanting background score by Richard Harvey and Hans Zimmer. This movie got an amazing cast from Bridges to Cottilard, it will be dream on screen. The little girl's imagination of the Prince and the fox is done by stop motion animation resembling and staying true to those old painted images. Remember the dewy water color illustrations by Exupery depicting the Prince on the asteroid, the magical rose that grew on it\\u0085with flaxen hair and a scarf he just looked like a cherry boy who lost his way. Walking through the sands, if you please I would draw you a sheep.\", \".......................................................from Pasto,Colombia...Via: L.A. CA., CALI, COLOMBIA and ORLANDO, FL *** This review may contain spoilers ***The expectations you have going into a film have a tremendous influence, as you no doubt have experienced, on your take away after viewing! Other than a couple general comments, only God knows their origin, that The Little Prince was really \\\"worth it\\\", I did not have much in the way of any well-defined expectations. Lucky Me! RESULT: A Nine Star experience! Although my wife, Carmen, was the only person accompanying me, soon after initiating viewing, I imagined my granddaughter and daughter in the room, sharing the experience with us! My granddaughter, as is the case with most eight year old girls, loves anything involving a princess! If you have grand kids, you must watch this with them. If thousands of kilometers separate you\\u0085Use your imagination, as I did! Little Prince seems tailor made for Grandparents/Grandkids viewing\\u0085 a la \\\"UP\\\" ? There are a few comments that need to be made regarding Little Prince \\\"purists\\\"\\u0085But let's first focus on analyzing it. This 2015 French version has European Production written all over it\\u0085But in the best sense. It is artistic, tells a touching and delicate story, has a number of songs in French that manage to be uplifting and, yet, simultaneously haunting, and, perhaps most importantly, interweaves the Classic 1940's Original story line with a cautionary helicopter parent tale that both compliments and underscores said original! POSSIBLE SPOILER COMING UP:Obviously, one of the great ironies of this 2015 version is that the old man/pilot takes it upon himself to help the Little Girl learn just what it is to be a kid! At the heart of both story lines is that one of the most important things in life is keeping that spark of being a kid alive within us, even if we live to be 100! Earlier, I mentioned Little Prince purists\\u0085 Well, whenever a movie brings a classic literary work to the screen, there are always viewers who want to see the original literary work brought to the screen with no changes, whatsoever, to dialogue or story line! Forget that we are dealing with the now one century old, two different medium conundrum! Needless to say, many of them simply could not get past this point. Obviously, this was absolutely no problem at all for me! To the contrary, it seemed quite a plus! IMDb Stats (Only 37 other reviews and 12,000 ratings votes) indicate that very few people have seen the film\\u0085Don't miss it! And make it a family affair! (However, kids under 7 year might find PRINCE a bit \\\"Slow\\\", or might not \\\"Get It\\\"!) 9*...ENJOY! / DISFRUTELA! Any comments or questions, in English o en Espa\\u00f1ol, are most welcome!\", \"Made for illiterate people. The new movie of \\\"The Little Prince\\\" is an awful bastardization of one of the worlds most delightful books. I can not believe that permission was granted to rewrite and make this dribble. No wonder it is not being released. The family of Antoine de Saint-Exup\\u00e9ry should sue heavily. No emotions come through. It is like watching a Walt Disney cartoon, although Disney would have done better. I guess people today like pablum and cartoons. PC to the utmost, it has NOTHING TO DO WITH THE STORY. If this book was one of your favorites, as it was mine you will cringe. It is one thing to adapt something but to change it entirely is unacceptable.\", \"The Little Prince is timeless story for both, children and adult.It is so carefully and thoughtfully written so there is no wonder it's still so popular and inspirational. For some it has such influence that Saint-Exup\\u00e9ry's thoughts guide them through life and are reminding them of beauty, simplicity, but also absurdity of today's life. Reading The Little Prince several times I must say that this movie is nothing like Saint-Exup\\u00e9ry's Little Prince. Yes, it is hard to put such a story on screen, especially to make every book fan satisfied, but this should just not have happened. Sadly, in a movie industry called Hollywood it is already usual to make movies with a superficial plot and well known American patheticness. This 'The Little Prince' movie is not exception, it gives people who have never read a book a totally different and wrong perception of this outstanding literary work. To finish this review I will go back to the headline and say that this is definitely NOT Saint-Exup\\u00e9ry's Little Prince IT IS Hollywood's Little prince.\", \"This is not The Little Prince. This is another Hollywood movie with clich\\u00e9s.I don't get the countless number of good reviews. Who and why let this director to touch this otherwise fantastic story.He directed Kung-Fu Panda? Well, that tells everything.Someone wanted to be be very clever and put every word into our mouths. They wanted to explain everything by their very much simplified understanding. The writers and directors managed to destroy all the beautiful, underlying infinite analogies that the original story consist.This movie is banal, there isn't any better word to it. The typical case when someone wants to tell, explain everything and at the end does not say anything.It is superficial and crawl to touch our inner-self with obviously fake, emotional imitations.There are certain things in the world that made, finished and no one should try to do a re-make and add their own self indulgent rubbish to it, because this is what happens. Self claimed artists who have nothing to say use other peoples' work to pretend at the front of world that they actually have their own thoughts and they are capable to do something relevant. In fact, they cannot.Cant wait when Hollywood decides and re-paint the the Sistine Chapel.Do not watch this whatever. Read the book again!\"], [\"There is one thing you have to know before even read about this movie, and it isn't the summary: There is already a LOT of things telling the same old story of the book. How the pilot and the prince became friends, all the adventures and beyond, in other animations and endless other media. This movie isn't about those two characters only. It's about how this story can touch people since it was created, from toddlers to grandpas, in different ways and in different ages. I've seen people say out loud \\\"this is not little prince!\\\", but I say \\\"yes, it is!\\\". Want to see a pure version? Read the book. The animation and the characters are rich and lovely, the CG and the stop motion are perfect and well used. Everything is heartwarming. If you don't know the book, you'll read it after seeing this. If you do, I'm sure you'll cry a lot. And at the end of the movie you'll want a fox for you too.\", \"I usually love the French animations, because unlike American, the stories, musics, characters that influences the thousands of year cultural history. Definitely not comparable to the Hollywood standards, but it had its own technical brilliance. All I wondered was why this film was in English language.It deserves to be on the upcoming's big occasion (2016 February), if it is eligible for the American Academy Awards. From the director of 'Kung Fu Panda' original movie, which was partially based on the children's novel. The book adaptation is the stop-motion animation and the remaining story's the regular 3D animation.Just remember the movies like 'What Dreams May Come' and 'The Lovely Bones', those magical worlds and breathtaking landscapes. Usually animations are associated with comedy genre, especially when a child character attached to it. This film was not even a comedy, more like those two titles I mentioned.The screenplay wise it was a very 'Neverwas' type, except this one was an animation. But appropriate for people of all ages. The kids can realise the importance of their childhood and the older people can become kids again. The film compressed the gap and erected a bridge between the two hoods, the childhood and the adulthood.\\\"What is essential is invisible to the eye.\\\"I did not know what to expect from it, but I highly satisfied with the final product. The film characters had no names, but called, the Little Girl, Mother, Fox, Rose, Snake, King et cetera as what their role is and species. Barely there are only 3-4 characters where the story was focused. Obviously it had a villain, but very unusual existence time and in a crucial part of the story.I don't remember how the 100 minutes went so fast like a ray of the light beam flashed away. The pace of narration was not a rushy, except the opening part. But once the old man character, the Aviator, voiced by Jeff Bridge was introduced, the movie turned into completely different and awesome. Yes, Jeff Bridge's voice was so good for the background narration.This story is about an old man who refused to grow up mentally and believes the existence of the magical stars and planets. The whole neighborhood stayed away from him and his troubles, until a new girl arrives at the next door. The little girl befriends him and falls for all his stories discarding her daily routines, but later it complicates their relationship after her mother finds out what they're up to. What happens to them and how the story concludes is the remaining part.\\\"She was not a common rose. She was the only one of her kind in the whole universe.\\\"This story was finely fused between the reality and fantasy. Most essential storyline for the present world. In the name of education how the children were enforced by their parents to mechanical life with less time to play out and make their own friends. Especially as they were lacking the creativity to make up their own fictional worlds with their toys like the kids from a century ago were.It might psychologically affect their characters while becoming an adult like the Aviator in this film, but as one of lines from the movie say 'Growing up is not the problem. Forgetting is', the children are losing their innocence over the adult's reality world. Who knows, someday those kids may become the greatest writer inspired by their childhood days.If you ask me, I strongly recommend it for all. It is very encouraging film for the parents how not to raise their children and for the grown ups how not to get lost is the adult world. Most elegant flick of the year, along with a very few others.You don't have to ignore it because you have read the book, like I said it was not completely borrowed from the original material. Instead, two-third of the film was freshly established out of the same name masterpiece. I'm not familiar with the book, so I've no thoughts that differentiate between these two formats. But definitely the film deserved all the appreciation from critics and movie 9\\u00bd/10\", \"I could predict the movie ending by the first few minutes or so and I told my wife \\\"okay, let's see if it can still be entertaining on the details...\\\". Oh boy, I may never been so glad to be so wrong. I mean, of course I was hoping for it to be good, but I was expecting very, very little of it. Most animations I've been watching in the past 2 years or so, including Pixar's, have not being able to move me at all. At all. And IMDb score was just below what I'd expect from a good one.( Okay, Inside Out was an exception: great and cute. Maybe my hopes for that one were too high but I was hoping for a better neural representation there, and it had some weak science behind it ( don't take my or Steve Novella's word for it, do your homework ). I would argue it is even harmful, because it will certainly create new bad myths about the mind and the brain. )Anyway, Little Prince at least isn't about science - because else they'd get it wrong at very least on the lucid dreaming there... But it's perfectly done. Perfectly. Every little detail. Right near the beginning the girl gets a new friend and starts to wonder how his stories could be possible. While she is thinking, the wind in the background is moving engines. That's art. And science, even if only subconsciously. Even if.The symbolism there is exquisite. I have watched a few french movies, I do know a little about the culture there, I've toured through France more than any other European country in my 2013 tour... I haven't seen anything like this before. Maybe I will need to take my french classes back again, eventually.Here, let me tell you about 2 math formulas that appear in there (not the only ones, the first book she does open is about math, probably algebra, but in french sorry), for a few seconds: first one is about analytical geometry, and got an Escher picture in it. Now, in Brazil we don't learn any of that in school, not even Calculus, but I've gone to first year of Statistics and 1 got semester of Math in there... That shoot is complex! The only thing I can say about the first picture is she got a great compressed writing and thinking there. This to me means more than anything that whoever wrote the script (I haven't read the book) was an avid math enthusiast (like myself) at very least.On the second one, however, she gets on to some Calculus, which to me was one of the funnest parts in school (after geometry, and I didn't really enjoy Math in college). Math was always my favorite topic in school. And that's a \\\"simple\\\" 3rd degree expression. All I can say is it's not being properly resolved, at first sight. But I bet there's a meaning there I just can't see yet. This is how this movie was made. Filled with tiny little details at every single second.I'm very good at Math and at counting, but I can't even understand what the 6 year old is doing in her book there and those are images that just don't matter to the plot or for anything else, really. They're there on their own!I'll make a real bold guess here, but I think this have became instantly my favorite film of all times. On top of Forrest Gump, Matrix, any Pixar's, Bedazzled, Terry Gilliam's, Huckabees, Stranger than Fiction, BttF, 2001, Interstellar, The Martian (still unwatched), Terminator you name it. I know almost nobody would agree with me here, but that's just how I felt having just watched the movie less than 8 hours ago.It touched me deeply, and it did so by touching both my heart and brains, like no other one ever did. 34 year old, happily married, with no kids due to life issues, no job and lots of work to do. Specially after being this inspired. =)-- Caue\", \"Animation is under-estimated, perhaps because we tend to be afraid of what we do not understand.I have seen a lot of films, done a lot of reviews and thought I had seen it all.I was wrong.First, I had not read the book prior to seeing this film nor had I seen the earlier screen version.No matter. I was transfixed and stunned. I was still sitting there when the final credits rolled, which is really a feat because the credits roll for 10 minutes after the word FIN (THE END) rolls. (If you miss the credits, you miss the TURN AROUND song which itself could be highlight of one of the most incredible music scores in one of the most incredible movies ever).When computers were first being married to animation -- a marriage made in heaven I think -- I recall an interview with a senior animator who confided that when the day came that they could get the \\\"eyes\\\" right, they would have reached the pinnacle of their craft.That day has arrived. This movie is the herald.Watching the eyes in this film, I felt as though I was watching real people. Does that make me sound daft? I hope not. There is one scene where the little girl watches the Aviator go to the hospital in the rain. She is at the same time transfixed with sadness and soaking wet. The animation made both conditions \\\"real\\\" at the same time. I don't know how. But it did.Jeff Bridges, a brilliant actor with a record longer than your arm, gives the \\\"voice\\\" performance of his career here, and Rachael McAdams, former Femme Fatale, former \\\"against type\\\" actress (TRUE DETECTIVE) ditto.Running out of superlatives, something I seldom do, so I will stop here.See it. Don't argue. Just see it.\", \"You always get the book readers moaning about the movies based on them, I get it, books are wonderful, but not everyone can read books, there are people like me, maybe invalid in some way, a visual person who likes to see, hear and learn from movies, but learn in a positive way.This is such a movie, I have not read the book, I probably won't but watching this, I get the message, I get the wonder, I learn the lessons, but I also am amazed at the skill of the animation, the characters drawn, the lighting, the direction, the editing and the wonderful dialogues by so many actors, and the actors I love, the whole thing is wonderful experience.So, those who wrote the horrible reviews moaning about what it should be, what it turned out to be etc. open your mind or in the case close it, put the movie on, and watch it like a child would, enjoy it, and appreciate the huge work that has gone into it.Tayfun\", \"Of course this movie must be special. Anyone who uses the book \\\"the little prince\\\" for a movie must have something great in mind. Anything else is a total insult to one of the very best books in historyThis movie manages to go in-between. In the first hour or so I wanted to get up and applaud every 10min. It was stunning and great. The combination of animation and stop-motion worked perfectly. The contrast boring modern time and fantasy well pictured. The book was used well as carrier of the movie...And then the old man was brought to the hospital... and it was the movie that died. The search for the little prince was ridiculous, why did we need a chase and \\\"happy\\\" ending? Why not put more attention to the different planets the little prince visits in the book instead? It was all just touched to make space for the ending. Why not make an ending that worked out the relation little girl/old man better.Yes the movie is worthwhile, The first hour is stunning, but the 2nd part makes you leave the theater somewhat disappointed\", \"The movie opened today - 29 July 2015 - here in France, and I saw the second show here where I live, the small town of Paimpol. There were perhaps 30 people altogether in attendance. I could hear that the few children among them were bored. So, first comment: 1) This is not a movie for small children. It won't interest them.2) If you are expecting a video reproduction of St Exup\\u00e9ry's story, you will be very disappointed. It's in this movie, but it only comprises a small part of it. Most of the movie is a frame for that tale, the story of a small girl who meets an elderly aviator who tells her, in bits and pieces, the story of his encounter, many years before, with the Little Prince. If you go expecting just what you know from St Exup\\u00e9ry's story, most of this movie will therefore be an annoyance to you.It took me awhile to accept the frame story. It's fairly banal, fairly Hollywood. Nowhere near the originality of St. Exup\\u00e9ry's remarkable tale. But if you let yourself go with it, it has an appeal over time.The part devoted to St. Exup\\u00e9ry's original tale is the best, as far as I'm concerned.We also see the prince as an adult, very changed. That came as a shock at first to me, but again, I let myself go with it, and it had a certain fairly obvious interest.This is not a great movie. \\\"Ernest and C\\u00e9lestine\\\" is a thousand times better. But it's worth seeing.Again, however, this is NOT a movie for little children. They will be bored.\", \"Huge fan of the book and the original 1975 movie. I thought the animated movie was amazing. YES. They switched up the story to create something more family friendly. I watched it with my 10 year old. The original story would have troubled him. The story is still there. Intact. Its just been mixed in with this girls story that matches that of the book. He loved it. The soundtrack is superb. Helps with the story. Even though its all french, my teen sons all downloaded it. Give this \\\"adaptation\\\" a chance. The voice acting is really super. Jeff Bridges doesn't mumble his lines and the scenes with the girl are real touching. YOu become attached to the characters quickly. The animation is incredible.\", \"First of all, i never read the book even though i heard about The Little Prince since i was just a little kid. It's a well-known classic literature, after all. So, when i hear the book was made into a movie, i got so excited and couldn't wait to watch it. After i watched it, i do not regret it at all. It was a good movie and make me want to read the book version ( I read some of the review, that tell me that this movie was really different from the book version, so it intrigued my curiosity )My review is as an outsider who doesn't know it real story. So, i won't compare the movie version with the book version. For the movie version, i guess i pretty much like it. I agree that this movie is not suitable for kids, since kids will find it boring. The pace of the movie is kinda slow ( also, it kinds of hard to understand for kids ). The visual itself, went so well and beautifully finished with the combination of stop motion and 3D animation.Well, from my point of view, i think the story itself tried to teach us about life, happiness, sadness, and how to grow up without forgetting who we are. All those kinds of valuable things that we tend to forget, as we grown up and be part of the adult world.I highly recommended this movie for those who do not read the novel yet and those who like philosophical things wrapped in a beautiful visual.\", \"The Little Prince is one of my favourite books. It's simply beautiful. I was looking forward watching this movie. And I'm deeply disappointed by how the director killed the Little Prince. The first part of the movie was nice, and the animation that told the Little Prince's story was amazing. Loved how it was created.The second part...you see how a book is killed. It was disappointing seeing how the movie director mutilated the personality of the Little Prince. In the end, this movie is not about The Little Prince. Indeed, it sends nice messages about friendship, love, what is really important in life, and how we can see the unseen. But it's horrible to see how the Little Prince story is simply destroyed. Catastrophic! Catastrophic!\", \"This review is intended for all those fans of Le petit prince, the original book, and all those who like the character of Le Petit Prince.The Little Prince (original story book) has a very simple storyline (although it's quite rich and complex in analogies and depth), written in French, first published in 1943, shorty before the untimely death of its author/illustrator, a real pilot.I am a French teacher who has always included Le petit prince in my classroom whenever possible and for almost any age group (making the necessary modifications of course). I am a big fan of Antoine de St-Exupery and Le petit prince IS my favourite classic of all time. I don't have a problem with the storyline of this film. I actually think it was made to entertain and even educate a little. My great concern arises from the fact that this film is NOT Le petit prince.This film is trying too hard to cater to so-called modern audiences who like disproportionate faces and odd looking animations that barely resemble human faces. This is an insult to the author whose goal was to put his readers in touch with what's human, as opposed to money, business, rush and all those mundane exigences of the modern world.Instead, the makers of this film exploited a well-loved story and broke it down to pieces, placing the Le petit prince story in a totally unrelated frame story to make it what I call Hollywood-friendly. Even worse, they did not bother to give it a more appropriate title such as Discovering the Little Prince. This film is not the story of Le petit prince. They named it after the original story to attract more viewers and create a poster which makes you believe this is the story of The Little Prince. If I believed in the afterlife, I'd say Antoine de St-Exupert must be shaking in his grave.I have a three year old daughter who is very intelligent and although part of the modern generation, she already knows about this book. Do yourself and your children a favour and if you understand French, read the original. If not, read the translation of the book. Do not go for this film unless you have already read the main story.\", \"Sorry. I grew up on the book and love it for so many reasons. Doing a \\\"what would happen to the little prince later on?\\\" I'm not feeling it. Take a poetic masterpiece, add one scoop of Hollywood, a tablespoon of marketing and a pinch of focus groups and you get this schlock. Gross and sad.Better off rereading the book and watching Coraline and Up. This is too slow and boring for kids and too simplistic and poorly thought out for adults. It's in no-man's land.Grand deception - this movie makes France sad and Saint-Exup\\u00e9ry is rolling in his grave depressed that the evil characters of his story, jumped off the pages, got their nasty little hands all over it and ruined it in movie form.\", \"A multi-country collaboration between a LOT of studios, by the director of Kung Fu Panda adapted The Little Prince, one of France's most beloved children's books back in 2015. The film however, takes a very interesting approach to the book.For those who haven't read it, The Little Prince contains a lot of philosophical anecdotes, the first several of which have a theme of the child versus the adult. And this movie opens with a girl being raised in a strict household with her mother's intention of turning her into a \\\"proper adult.\\\" But then she makes friends with the strange eccentric man next door, who is the aviator and writer of the The Little Prince book, (in universe.)Just to clarify that The Little Girl is not in the little prince book. Also, none of the characters in the book or the movie, have proper names. The movie cuts between the story of the prince, and the little girl's reaction to the story.And in a nutshell, this movie is INCREDIBLY good. I love it. It feels like a movie that could have come right out of a mainstream Western studio; if they didn't have to force in a joke every 10 seconds, and were allowed to be subtler and metaphorical. While it does draw the lines between kids and adults in such a blatant, stark way, and maybe her transition from a mini adult into a playful kid is a little bit too easy, and MAYBE this whole lesson of keeping hold of your inner child isn't really one this generation has any problems with, there's still a lot of relatable, inspirational material here!I love the way she initially reacts to the story in a SUPER literal way, which seems to echo how much fiction is judged that way recently! Also, this film approaches the concept of belief in a remarkably mature and tactful way.But then the last act suddenly takes a SHARP left turn, and takes on a VASTLY different tactic of re-imaging the book that's an interesting idea, but completely ruined because of how over-the-top spastic-ally CONTROLLING the tone was. Also, because the moral is SPELLED OUT to the audience, which it didn't need to be.But overall, I thought this movie was AMAZING. It's beautiful, it's touching, and it gets these really complex ideas across in very relatable ways. This is a movie I would watch again and again.\", \"I havnt read the book yet so I dont know of any differences between the two. Its a very heartwarming movie that will make the toughest tear up a little. also shows the importance of family time and the importance of just being a kid. easily watchable more than once!\", \"The Little Prince is the best Film I ever seen. The animation is great, the Soundtrack is perfect and the story is heartfull.\"], [\"Very successful in bringing Little Prince into today. The movie made me to read the Little Prince again and learn more. The challenge between living natural and living modern became fully alive in my mind again and again. Like my childhood. I have a neighbor very similar to Aviator. He had long white hair and a very old jacket. He had a magic smile. I think he was very similar to Aviator. All of my memories of him became animated in front of my eyes while watching the movie. Maybe everyone has someone like Aviator in his or her life or must find. The snake scene was very deep like book. The movie made me to believe yet there is hope for peace.\", \"I have read this marvelous book many times; first as a naive school boy and years later as a \\\"grown up\\\", have enjoyed reading it in 4 languages, so I was excited to see this new animation. I watched it having in mind to stay open-minded\\u0085 hence the first half was somehow acceptable; the story of a little girl with St. Exupery in his last days, mixed with parts from the original story of the book. I tried to understand the director's viewpoint that: you can't present this classic, as it is, for today's audience... well, yes and no!The parts telling the original story; as animation, visuals, colors, textures\\u0085 are beautiful and touching indeed! Bravo! but the second half: \\\"Little prince in the 21 century\\\" was rather average, and the ending more or less disappointing. I think there are works of music, literature,art\\u0085 which are to be reinterpreted very carefully, or better be left in their pure original form.I feel Exupery's book is in that category. If you value the book as a treasure of human literature\\u0085 it's probably better not to watch this animation. If you don't know the book\\u0085 you may enjoy this animation, it is not bad, but it is not a successful interpretation of \\\"The little Prince\\\". At least, they could have the sensitivity of not using the original title! 6/10 \\u0085 for the first 55 minutes.\", \"First of all - I'm a fan of The Little Prince. I've read it ever since I was a very young kid, and now that I'm a middle aged adult, it still holds tons of surprises and things to thoroughly think about. It may as well be my favorite book ever.So, when I saw there was going to be an adaptation of the book, I hoped for a somewhat true to the book story. Anything close to it would have been fine by me, really. I mean, the book just doesn't lend itself to a movie, IMHO. It's just too deep and complex, and too simple and sweet at the same time. The book, to me, it's the sweetest and most delicate balance of what being a human being is all about. What moves us, as seen from the eyes of a wise, sweet, innocent child.The movie, therefore, is an atrocity and an insult to Antoine De Saint-Exupery. Period. It's the grossest, vilest insult to The Little Prince I could ever imagine.First - I should have known from the ads. The Little Prince is a little icon, far away from the main characters - The Aviator, The Fox, and... The Girl???? Where did the little girl come from? Apparently, the movie makers thought they just couldn't make a movie without adding extra characters. And then, I suppose, they thought making a movie about the original story would have been too difficult, so they just tossed it all away and wrote an original story about a little girl and her mom.I wish I was kidding. I'm not. The Little Prince story is just an excuse to move along a primary story about something else. It's treated as an extra, as something superfluous, as something - I guess - they had to do because the movie was named \\\"The Little Prince\\\", If you went in, expecting to watch something related to the real story, you are going to be very, very disappointed.Second - the story never goes into what makes The Little Prince so special. You get to see the Little Prince traveling through asteroids, talking to his rose, taming his fox. Is any of this explained or explored in detail? No. It is treated as a distraction to the main story. The filmmakers never even bother to explore the symbolism behind the story. It's merely treated as an excuse for telling an alternate story.Third - and this is where the spoiler goes. The Little Prince is all about love, tenderness, anger, happiness and ultimately, sadness. It's a moving story, told in the sweetest way possible - through the eyes of a small child. What on EARTH were the filmmakers thinking when they threw in action scenes? WHAT WERE THEY THINKING?!?!?!? I won't spoil it all, but when I saw scenes straight out of a video game, with violence, planes zooming in and out, adventure, etc., I almost walked out of the theater. The only thing that made me stay there was my child.Fourth - another spoiler. The aviator was a child with a wonderful imagination, who grew up to become a jaded person. The Little Prince helped him question his beliefs and rediscover a sense of wonder he had lost. In the movie, the aviator is a childish old man. Not \\\"child-like\\\", or full of wonder. The whole point of the book was how an adult can become responsible, knowledgeable, yet retain his sensibility and sense of wonder throughout. Nowhere is this to be seen - the aviator is just like a spoiled, irreverent, incoherent child. Which is even more absurd when you see the real Little Prince's sequences, and you realize how different both versions of the aviator are.Fifth - another spoiler. If you ever want to see part of your childhood ruined and torn to pieces, go watch this movie. You'll see where The Little Prince ended up. And believe me, you'll want to shout your lungs out at the filmmakers for destroying your childhood image of what his little Majesty would end up like. It's a travesty. It's depressing. It's false. And it's absolutely, completely wrong.This is the most misguided, insulting and infuriating book adaptation I've ever seen. It's as if Star Wars: Episode 7 was about a kid watching Star Wars: A New Hope 30 minutes at a time. It's just... wrong. Shame on everyone involved in making this travesty. 2 stars, because the animation showing what The Little Prince was really about was actually very well done.\", \"I like to think there is two act to this movie. The first act that still relate to the book, and the second act the script writers just added in to fill the last 35 minutes.The movie begins wonderfully; full of artsy and inspiring animation. All the little side story and characters were left open for the audience to interpret - the same way the author did in the book. The characters were as interesting as they were in the book and the writers adaptation of telling their tale were flawless executed. However, the second act of the movie felt like a straight-up socialist propaganda. Blaming all the problems on businesses. Mocking academic achievement and hard work. Painting the grown-up world gloom and dread; and anyone who obtain any wealth must be evil. Remember when I said leaving the characters open for interpretation? Nope, The Little Prince has been exploited and any of the original story's meaning has been killed.\", \"I would give this a zero if IMDb allowed a zero. This lame, pseudo adaptation of the Little Prince deserves nothing precisely because it has NOTHING to do with the book. It capitalizes on a good story by turning it into some dreadful vehicle for how \\\"it would have been such a better story if it had been entirely about a girl who saves several men..her mother..and probably the population of a small, androgynous colony on Mars... from the failures they were doomed to, without her...sniff\\\". really, really lousy. Saint-Exupery wrote a beautiful story. But it didn't involve a precocious girl (oh, poor, poor sad thing.) who was exploited by her single, regretful mother (oh, bad, bad mummy) and how said girl redeems the life of a crusty old man or the eponymous Little Prince. This SUCKS. SUCK FEST. FESTIVAL OF SUCK. SUCKY, SUCKY, SUCKY, SUCKY, SUCKY SUCK. i think you get my drift. SUUUUUUCKCKCKCKCKCKS!!!!!!!!\"]]}, \"header\": {\"align\": \"center\", \"fill\": {\"color\": \"white\"}, \"font\": {\"color\": \"black\", \"size\": 12}, \"line\": {\"color\": \"white\"}, \"values\": [\"<b>Positive Comments</b>\", \"<b>Nautral Comments</b>\", \"<b>Negative Comments</b>\"]}, \"type\": \"table\"}],\n",
       "                        {\"template\": {\"data\": {\"bar\": [{\"error_x\": {\"color\": \"#2a3f5f\"}, \"error_y\": {\"color\": \"#2a3f5f\"}, \"marker\": {\"line\": {\"color\": \"#E5ECF6\", \"width\": 0.5}}, \"type\": \"bar\"}], \"barpolar\": [{\"marker\": {\"line\": {\"color\": \"#E5ECF6\", \"width\": 0.5}}, \"type\": \"barpolar\"}], \"carpet\": [{\"aaxis\": {\"endlinecolor\": \"#2a3f5f\", \"gridcolor\": \"white\", \"linecolor\": \"white\", \"minorgridcolor\": \"white\", \"startlinecolor\": \"#2a3f5f\"}, \"baxis\": {\"endlinecolor\": \"#2a3f5f\", \"gridcolor\": \"white\", \"linecolor\": \"white\", \"minorgridcolor\": \"white\", \"startlinecolor\": \"#2a3f5f\"}, \"type\": \"carpet\"}], \"choropleth\": [{\"colorbar\": {\"outlinewidth\": 0, \"ticks\": \"\"}, \"type\": \"choropleth\"}], \"contour\": [{\"colorbar\": {\"outlinewidth\": 0, \"ticks\": \"\"}, \"colorscale\": [[0.0, \"#0d0887\"], [0.1111111111111111, \"#46039f\"], [0.2222222222222222, \"#7201a8\"], [0.3333333333333333, \"#9c179e\"], [0.4444444444444444, \"#bd3786\"], [0.5555555555555556, \"#d8576b\"], [0.6666666666666666, \"#ed7953\"], [0.7777777777777778, \"#fb9f3a\"], [0.8888888888888888, \"#fdca26\"], [1.0, \"#f0f921\"]], \"type\": \"contour\"}], \"contourcarpet\": [{\"colorbar\": {\"outlinewidth\": 0, \"ticks\": \"\"}, \"type\": \"contourcarpet\"}], \"heatmap\": [{\"colorbar\": {\"outlinewidth\": 0, \"ticks\": \"\"}, \"colorscale\": [[0.0, \"#0d0887\"], [0.1111111111111111, \"#46039f\"], [0.2222222222222222, \"#7201a8\"], [0.3333333333333333, \"#9c179e\"], [0.4444444444444444, \"#bd3786\"], [0.5555555555555556, \"#d8576b\"], [0.6666666666666666, \"#ed7953\"], [0.7777777777777778, \"#fb9f3a\"], [0.8888888888888888, \"#fdca26\"], [1.0, \"#f0f921\"]], \"type\": \"heatmap\"}], \"heatmapgl\": [{\"colorbar\": {\"outlinewidth\": 0, \"ticks\": \"\"}, \"colorscale\": [[0.0, \"#0d0887\"], [0.1111111111111111, \"#46039f\"], [0.2222222222222222, \"#7201a8\"], [0.3333333333333333, \"#9c179e\"], [0.4444444444444444, \"#bd3786\"], [0.5555555555555556, \"#d8576b\"], [0.6666666666666666, \"#ed7953\"], [0.7777777777777778, \"#fb9f3a\"], [0.8888888888888888, \"#fdca26\"], [1.0, \"#f0f921\"]], \"type\": \"heatmapgl\"}], \"histogram\": [{\"marker\": {\"colorbar\": {\"outlinewidth\": 0, \"ticks\": \"\"}}, \"type\": \"histogram\"}], \"histogram2d\": [{\"colorbar\": {\"outlinewidth\": 0, \"ticks\": \"\"}, \"colorscale\": [[0.0, \"#0d0887\"], [0.1111111111111111, \"#46039f\"], [0.2222222222222222, \"#7201a8\"], [0.3333333333333333, \"#9c179e\"], [0.4444444444444444, \"#bd3786\"], [0.5555555555555556, \"#d8576b\"], [0.6666666666666666, \"#ed7953\"], [0.7777777777777778, \"#fb9f3a\"], [0.8888888888888888, \"#fdca26\"], [1.0, \"#f0f921\"]], \"type\": \"histogram2d\"}], \"histogram2dcontour\": [{\"colorbar\": {\"outlinewidth\": 0, \"ticks\": \"\"}, \"colorscale\": [[0.0, \"#0d0887\"], [0.1111111111111111, \"#46039f\"], [0.2222222222222222, \"#7201a8\"], [0.3333333333333333, \"#9c179e\"], [0.4444444444444444, \"#bd3786\"], [0.5555555555555556, \"#d8576b\"], [0.6666666666666666, \"#ed7953\"], [0.7777777777777778, \"#fb9f3a\"], [0.8888888888888888, \"#fdca26\"], [1.0, \"#f0f921\"]], \"type\": \"histogram2dcontour\"}], \"mesh3d\": [{\"colorbar\": {\"outlinewidth\": 0, \"ticks\": \"\"}, \"type\": \"mesh3d\"}], \"parcoords\": [{\"line\": {\"colorbar\": {\"outlinewidth\": 0, \"ticks\": \"\"}}, \"type\": \"parcoords\"}], \"scatter\": [{\"marker\": {\"colorbar\": {\"outlinewidth\": 0, \"ticks\": \"\"}}, \"type\": \"scatter\"}], \"scatter3d\": [{\"line\": {\"colorbar\": {\"outlinewidth\": 0, \"ticks\": \"\"}}, \"marker\": {\"colorbar\": {\"outlinewidth\": 0, \"ticks\": \"\"}}, \"type\": \"scatter3d\"}], \"scattercarpet\": [{\"marker\": {\"colorbar\": {\"outlinewidth\": 0, \"ticks\": \"\"}}, \"type\": \"scattercarpet\"}], \"scattergeo\": [{\"marker\": {\"colorbar\": {\"outlinewidth\": 0, \"ticks\": \"\"}}, \"type\": \"scattergeo\"}], \"scattergl\": [{\"marker\": {\"colorbar\": {\"outlinewidth\": 0, \"ticks\": \"\"}}, \"type\": \"scattergl\"}], \"scattermapbox\": [{\"marker\": {\"colorbar\": {\"outlinewidth\": 0, \"ticks\": \"\"}}, \"type\": \"scattermapbox\"}], \"scatterpolar\": [{\"marker\": {\"colorbar\": {\"outlinewidth\": 0, \"ticks\": \"\"}}, \"type\": \"scatterpolar\"}], \"scatterpolargl\": [{\"marker\": {\"colorbar\": {\"outlinewidth\": 0, \"ticks\": \"\"}}, \"type\": \"scatterpolargl\"}], \"scatterternary\": [{\"marker\": {\"colorbar\": {\"outlinewidth\": 0, \"ticks\": \"\"}}, \"type\": \"scatterternary\"}], \"surface\": [{\"colorbar\": {\"outlinewidth\": 0, \"ticks\": \"\"}, \"colorscale\": [[0.0, \"#0d0887\"], [0.1111111111111111, \"#46039f\"], [0.2222222222222222, \"#7201a8\"], [0.3333333333333333, \"#9c179e\"], [0.4444444444444444, \"#bd3786\"], [0.5555555555555556, \"#d8576b\"], [0.6666666666666666, \"#ed7953\"], [0.7777777777777778, \"#fb9f3a\"], [0.8888888888888888, \"#fdca26\"], [1.0, \"#f0f921\"]], \"type\": \"surface\"}], \"table\": [{\"cells\": {\"fill\": {\"color\": \"#EBF0F8\"}, \"line\": {\"color\": \"white\"}}, \"header\": {\"fill\": {\"color\": \"#C8D4E3\"}, \"line\": {\"color\": \"white\"}}, \"type\": \"table\"}]}, \"layout\": {\"annotationdefaults\": {\"arrowcolor\": \"#2a3f5f\", \"arrowhead\": 0, \"arrowwidth\": 1}, \"colorscale\": {\"diverging\": [[0, \"#8e0152\"], [0.1, \"#c51b7d\"], [0.2, \"#de77ae\"], [0.3, \"#f1b6da\"], [0.4, \"#fde0ef\"], [0.5, \"#f7f7f7\"], [0.6, \"#e6f5d0\"], [0.7, \"#b8e186\"], [0.8, \"#7fbc41\"], [0.9, \"#4d9221\"], [1, \"#276419\"]], \"sequential\": [[0.0, \"#0d0887\"], [0.1111111111111111, \"#46039f\"], [0.2222222222222222, \"#7201a8\"], [0.3333333333333333, \"#9c179e\"], [0.4444444444444444, \"#bd3786\"], [0.5555555555555556, \"#d8576b\"], [0.6666666666666666, \"#ed7953\"], [0.7777777777777778, \"#fb9f3a\"], [0.8888888888888888, \"#fdca26\"], [1.0, \"#f0f921\"]], \"sequentialminus\": [[0.0, \"#0d0887\"], [0.1111111111111111, \"#46039f\"], [0.2222222222222222, \"#7201a8\"], [0.3333333333333333, \"#9c179e\"], [0.4444444444444444, \"#bd3786\"], [0.5555555555555556, \"#d8576b\"], [0.6666666666666666, \"#ed7953\"], [0.7777777777777778, \"#fb9f3a\"], [0.8888888888888888, \"#fdca26\"], [1.0, \"#f0f921\"]]}, \"colorway\": [\"#636efa\", \"#EF553B\", \"#00cc96\", \"#ab63fa\", \"#FFA15A\", \"#19d3f3\", \"#FF6692\", \"#B6E880\", \"#FF97FF\", \"#FECB52\"], \"font\": {\"color\": \"#2a3f5f\"}, \"geo\": {\"bgcolor\": \"white\", \"lakecolor\": \"white\", \"landcolor\": \"#E5ECF6\", \"showlakes\": true, \"showland\": true, \"subunitcolor\": \"white\"}, \"hoverlabel\": {\"align\": \"left\"}, \"hovermode\": \"closest\", \"mapbox\": {\"style\": \"light\"}, \"paper_bgcolor\": \"white\", \"plot_bgcolor\": \"#E5ECF6\", \"polar\": {\"angularaxis\": {\"gridcolor\": \"white\", \"linecolor\": \"white\", \"ticks\": \"\"}, \"bgcolor\": \"#E5ECF6\", \"radialaxis\": {\"gridcolor\": \"white\", \"linecolor\": \"white\", \"ticks\": \"\"}}, \"scene\": {\"xaxis\": {\"backgroundcolor\": \"#E5ECF6\", \"gridcolor\": \"white\", \"gridwidth\": 2, \"linecolor\": \"white\", \"showbackground\": true, \"ticks\": \"\", \"zerolinecolor\": \"white\"}, \"yaxis\": {\"backgroundcolor\": \"#E5ECF6\", \"gridcolor\": \"white\", \"gridwidth\": 2, \"linecolor\": \"white\", \"showbackground\": true, \"ticks\": \"\", \"zerolinecolor\": \"white\"}, \"zaxis\": {\"backgroundcolor\": \"#E5ECF6\", \"gridcolor\": \"white\", \"gridwidth\": 2, \"linecolor\": \"white\", \"showbackground\": true, \"ticks\": \"\", \"zerolinecolor\": \"white\"}}, \"shapedefaults\": {\"line\": {\"color\": \"#2a3f5f\"}}, \"ternary\": {\"aaxis\": {\"gridcolor\": \"white\", \"linecolor\": \"white\", \"ticks\": \"\"}, \"baxis\": {\"gridcolor\": \"white\", \"linecolor\": \"white\", \"ticks\": \"\"}, \"bgcolor\": \"#E5ECF6\", \"caxis\": {\"gridcolor\": \"white\", \"linecolor\": \"white\", \"ticks\": \"\"}}, \"title\": {\"x\": 0.05}, \"xaxis\": {\"automargin\": true, \"gridcolor\": \"white\", \"linecolor\": \"white\", \"ticks\": \"\", \"zerolinecolor\": \"white\", \"zerolinewidth\": 2}, \"yaxis\": {\"automargin\": true, \"gridcolor\": \"white\", \"linecolor\": \"white\", \"ticks\": \"\", \"zerolinecolor\": \"white\", \"zerolinewidth\": 2}}}},\n",
       "                        {\"responsive\": true}\n",
       "                    ).then(function(){\n",
       "                            \n",
       "var gd = document.getElementById('53f1a638-0756-4dd1-bd76-4c13bdefa6a3');\n",
       "var x = new MutationObserver(function (mutations, observer) {{\n",
       "        var display = window.getComputedStyle(gd).display;\n",
       "        if (!display || display === 'none') {{\n",
       "            console.log([gd, 'removed!']);\n",
       "            Plotly.purge(gd);\n",
       "            observer.disconnect();\n",
       "        }}\n",
       "}});\n",
       "\n",
       "// Listen for the removal of the full notebook cells\n",
       "var notebookContainer = gd.closest('#notebook-container');\n",
       "if (notebookContainer) {{\n",
       "    x.observe(notebookContainer, {childList: true});\n",
       "}}\n",
       "\n",
       "// Listen for the clearing of the current output cell\n",
       "var outputEl = gd.closest('.output');\n",
       "if (outputEl) {{\n",
       "    x.observe(outputEl, {childList: true});\n",
       "}}\n",
       "\n",
       "                        })\n",
       "                };\n",
       "                });\n",
       "            </script>\n",
       "        </div>"
      ]
     },
     "metadata": {},
     "output_type": "display_data"
    }
   ],
   "source": [
    "from plotly.colors import n_colors\n",
    "import numpy as np\n",
    "colors = n_colors('rgb(200, 200, 200)', 'rgb(200, 0, 0)', 10, colortype='rgb')\n",
    "fig = go.Figure(data=[go.Table(\n",
    "  header=dict(\n",
    "    values=['<b>Positive Comments</b>', '<b>Nautral Comments</b>', '<b>Negative Comments</b>'],\n",
    "    line_color='white', fill_color='white',\n",
    "    align='center',font=dict(color='black', size=12)\n",
    "  ),\n",
    "  cells=dict(\n",
    "    values=[df_pos['content'], df_neg['content'], df_nutral['content']],\n",
    "    line_color=[np.array(colors)[df_pos['rating']],np.array(colors)[df_nutral['rating']], np.array(colors)[df_neg['rating']]],\n",
    "    fill_color=[np.array(colors)[df_pos['rating']],np.array(colors)[df_nutral['rating']], np.array(colors)[df_neg['rating']]],\n",
    "    align='center', font=dict(color='white', size=11)\n",
    "    ))\n",
    "])\n",
    "\n",
    "fig.show()"
   ]
  },
  {
   "cell_type": "code",
   "execution_count": 15,
   "metadata": {},
   "outputs": [
    {
     "data": {
      "text/html": [
       "        <script type=\"text/javascript\">\n",
       "        window.PlotlyConfig = {MathJaxConfig: 'local'};\n",
       "        if (window.MathJax) {MathJax.Hub.Config({SVG: {font: \"STIX-Web\"}});}\n",
       "        if (typeof require !== 'undefined') {\n",
       "        require.undef(\"plotly\");\n",
       "        requirejs.config({\n",
       "            paths: {\n",
       "                'plotly': ['https://cdn.plot.ly/plotly-latest.min']\n",
       "            }\n",
       "        });\n",
       "        require(['plotly'], function(Plotly) {\n",
       "            window._Plotly = Plotly;\n",
       "        });\n",
       "        }\n",
       "        </script>\n",
       "        "
      ]
     },
     "metadata": {},
     "output_type": "display_data"
    }
   ],
   "source": [
    "from data.plotly_world_cloud import plotly_wordcloud as pwc\n",
    "from plotly.offline import iplot, init_notebook_mode\n",
    "init_notebook_mode(connected=True)"
   ]
  },
  {
   "cell_type": "code",
   "execution_count": 16,
   "metadata": {},
   "outputs": [
    {
     "data": {
      "application/vnd.plotly.v1+json": {
       "config": {
        "linkText": "Export to plot.ly",
        "plotlyServerURL": "https://plot.ly",
        "showLink": false
       },
       "data": [
        {
         "hoverinfo": "text",
         "hovertext": [
          "Little Prince1.0",
          "movie0.75",
          "story0.75",
          "one0.5833333333333334",
          "make0.5833333333333334",
          "say0.4166666666666667",
          "book0.4166666666666667",
          "life0.3333333333333333",
          "re0.3333333333333333",
          "screen0.3333333333333333",
          "old0.3333333333333333",
          "review0.3333333333333333",
          "well0.3333333333333333",
          "made0.3333333333333333",
          "original0.3333333333333333",
          "kid0.3333333333333333",
          "people0.3333333333333333",
          "thing0.3333333333333333",
          "Hollywood0.3333333333333333",
          "Saint Exupéry0.3333333333333333",
          "read0.25",
          "French0.25",
          "Exupery0.25",
          "Little0.25",
          "Prince0.25",
          "wonder0.25",
          "written0.25",
          "director0.25",
          "will0.25",
          "girl0.25",
          "viewing0.25",
          "comments0.25",
          "year0.25",
          "line0.25",
          "Obviously0.25",
          "nothing0.25",
          "everything0.25",
          "tell0.25",
          "self0.25",
          "world0.25",
          "literary work0.25",
          "even0.16666666666666666",
          "sense0.16666666666666666",
          "now0.16666666666666666",
          "first0.16666666666666666",
          "writer0.16666666666666666",
          "artist0.16666666666666666",
          "Antoine0.16666666666666666",
          "De0.16666666666666666",
          "children0.16666666666666666",
          "tale0.16666666666666666",
          "beautiful0.16666666666666666",
          "work0.16666666666666666",
          "need0.16666666666666666",
          "see0.16666666666666666",
          "imagined0.16666666666666666",
          "Kung0.16666666666666666",
          "Fu0.16666666666666666",
          "Panda0.16666666666666666",
          "imagination0.16666666666666666",
          "done0.16666666666666666",
          "way0.16666666666666666",
          "Colombia0.16666666666666666",
          "expectations0.16666666666666666",
          "film0.16666666666666666",
          "influence0.16666666666666666",
          "take0.16666666666666666",
          "much0.16666666666666666",
          "experience0.16666666666666666",
          "Although0.16666666666666666",
          "granddaughter0.16666666666666666",
          "us0.16666666666666666",
          "case0.16666666666666666",
          "anything0.16666666666666666",
          "must0.16666666666666666",
          "watch0.16666666666666666",
          "Use0.16666666666666666",
          "purists0.16666666666666666",
          "let0.16666666666666666",
          "version0.16666666666666666",
          "number0.16666666666666666",
          "Classic0.16666666666666666",
          "SPOILER0.16666666666666666",
          "want0.16666666666666666",
          "different0.16666666666666666",
          "family0.16666666666666666",
          "might0.16666666666666666",
          "Disney0.16666666666666666",
          "cartoon0.16666666666666666",
          "better0.16666666666666666",
          "today0.16666666666666666",
          "something0.16666666666666666",
          "change0.16666666666666666",
          "thoughts0.16666666666666666",
          "put0.16666666666666666",
          "every0.16666666666666666",
          "superficial0.16666666666666666",
          "touch0.16666666666666666",
          "Someone0.16666666666666666",
          "wanted0.16666666666666666",
          "word0.16666666666666666",
          "explain0.16666666666666666",
          "long0.08333333333333333",
          "ago0.08333333333333333",
          "furred0.08333333333333333",
          "creature0.08333333333333333",
          "talked0.08333333333333333",
          "miraculous0.08333333333333333",
          "hoisted0.08333333333333333",
          "far0.08333333333333333",
          "fetched0.08333333333333333",
          "maturity0.08333333333333333",
          "sensibility0.08333333333333333",
          "presumably0.08333333333333333",
          "alien0.08333333333333333",
          "draped0.08333333333333333",
          "fur0.08333333333333333",
          "resonates0.08333333333333333",
          "louder0.08333333333333333",
          "novella0.08333333333333333",
          "published0.08333333333333333",
          "outbreak0.08333333333333333",
          "second0.08333333333333333",
          "WW0.08333333333333333",
          "Saint0.08333333333333333",
          "decode0.08333333333333333",
          "honest0.08333333333333333",
          "sincerely0.08333333333333333",
          "art0.08333333333333333",
          "child0.08333333333333333",
          "innocence0.08333333333333333",
          "naivety0.08333333333333333",
          "play0.08333333333333333",
          "stories0.08333333333333333",
          "working0.08333333333333333",
          "feel0.08333333333333333",
          "characters0.08333333333333333",
          "evolve0.08333333333333333",
          "pages0.08333333333333333",
          "identify0.08333333333333333",
          "spirit0.08333333333333333",
          "animated0.08333333333333333",
          "adaptation0.08333333333333333",
          "invention0.08333333333333333",
          "Mark0.08333333333333333",
          "Osborne0.08333333333333333",
          "name0.08333333333333333",
          "majorly0.08333333333333333",
          "awaited0.08333333333333333",
          "trailer0.08333333333333333",
          "irresistibly0.08333333333333333",
          "delicious0.08333333333333333",
          "instilling0.08333333333333333",
          "magic0.08333333333333333",
          "atmosphere0.08333333333333333",
          "equally0.08333333333333333",
          "enchanting0.08333333333333333",
          "background0.08333333333333333",
          "score0.08333333333333333",
          "Richard0.08333333333333333",
          "Harvey0.08333333333333333",
          "Hans0.08333333333333333",
          "Zimmer0.08333333333333333",
          "got0.08333333333333333",
          "amazing0.08333333333333333",
          "cast0.08333333333333333",
          "Bridges0.08333333333333333",
          "Cottilard0.08333333333333333",
          "dream0.08333333333333333",
          "fox0.08333333333333333",
          "stop0.08333333333333333",
          "motion0.08333333333333333",
          "animation0.08333333333333333",
          "resembling0.08333333333333333",
          "staying0.08333333333333333",
          "true0.08333333333333333",
          "painted0.08333333333333333",
          "images0.08333333333333333",
          "Remember0.08333333333333333",
          "dewy0.08333333333333333",
          "water0.08333333333333333",
          "color0.08333333333333333",
          "illustrations0.08333333333333333",
          "depicting0.08333333333333333",
          "asteroid0.08333333333333333",
          "magical0.08333333333333333",
          "rose0.08333333333333333",
          "grew0.08333333333333333",
          "flaxen0.08333333333333333",
          "hair0.08333333333333333",
          "scarf0.08333333333333333",
          "looked0.08333333333333333",
          "cherry0.08333333333333333",
          "boy0.08333333333333333",
          "lost0.08333333333333333",
          "Walking0.08333333333333333",
          "sands0.08333333333333333",
          "please0.08333333333333333",
          "draw0.08333333333333333",
          "sheep0.08333333333333333"
         ],
         "mode": "text",
         "text": [
          "Little Prince",
          "movie",
          "story",
          "one",
          "make",
          "say",
          "book",
          "life",
          "re",
          "screen",
          "old",
          "review",
          "well",
          "made",
          "original",
          "kid",
          "people",
          "thing",
          "Hollywood",
          "Saint Exupéry",
          "read",
          "French",
          "Exupery",
          "Little",
          "Prince",
          "wonder",
          "written",
          "director",
          "will",
          "girl",
          "viewing",
          "comments",
          "year",
          "line",
          "Obviously",
          "nothing",
          "everything",
          "tell",
          "self",
          "world",
          "literary work",
          "even",
          "sense",
          "now",
          "first",
          "writer",
          "artist",
          "Antoine",
          "De",
          "children",
          "tale",
          "beautiful",
          "work",
          "need",
          "see",
          "imagined",
          "Kung",
          "Fu",
          "Panda",
          "imagination",
          "done",
          "way",
          "Colombia",
          "expectations",
          "film",
          "influence",
          "take",
          "much",
          "experience",
          "Although",
          "granddaughter",
          "us",
          "case",
          "anything",
          "must",
          "watch",
          "Use",
          "purists",
          "let",
          "version",
          "number",
          "Classic",
          "SPOILER",
          "want",
          "different",
          "family",
          "might",
          "Disney",
          "cartoon",
          "better",
          "today",
          "something",
          "change",
          "thoughts",
          "put",
          "every",
          "superficial",
          "touch",
          "Someone",
          "wanted",
          "word",
          "explain",
          "long",
          "ago",
          "furred",
          "creature",
          "talked",
          "miraculous",
          "hoisted",
          "far",
          "fetched",
          "maturity",
          "sensibility",
          "presumably",
          "alien",
          "draped",
          "fur",
          "resonates",
          "louder",
          "novella",
          "published",
          "outbreak",
          "second",
          "WW",
          "Saint",
          "decode",
          "honest",
          "sincerely",
          "art",
          "child",
          "innocence",
          "naivety",
          "play",
          "stories",
          "working",
          "feel",
          "characters",
          "evolve",
          "pages",
          "identify",
          "spirit",
          "animated",
          "adaptation",
          "invention",
          "Mark",
          "Osborne",
          "name",
          "majorly",
          "awaited",
          "trailer",
          "irresistibly",
          "delicious",
          "instilling",
          "magic",
          "atmosphere",
          "equally",
          "enchanting",
          "background",
          "score",
          "Richard",
          "Harvey",
          "Hans",
          "Zimmer",
          "got",
          "amazing",
          "cast",
          "Bridges",
          "Cottilard",
          "dream",
          "fox",
          "stop",
          "motion",
          "animation",
          "resembling",
          "staying",
          "true",
          "painted",
          "images",
          "Remember",
          "dewy",
          "water",
          "color",
          "illustrations",
          "depicting",
          "asteroid",
          "magical",
          "rose",
          "grew",
          "flaxen",
          "hair",
          "scarf",
          "looked",
          "cherry",
          "boy",
          "lost",
          "Walking",
          "sands",
          "please",
          "draw",
          "sheep"
         ],
         "textfont": {
          "color": [
           "rgb(88, 199, 101)",
           "rgb(36, 135, 142)",
           "rgb(31, 162, 135)",
           "rgb(53, 183, 121)",
           "rgb(205, 225, 29)",
           "rgb(71, 46, 124)",
           "rgb(59, 187, 117)",
           "rgb(71, 45, 123)",
           "rgb(65, 66, 135)",
           "rgb(58, 83, 139)",
           "rgb(46, 109, 142)",
           "rgb(42, 118, 142)",
           "rgb(58, 83, 139)",
           "rgb(31, 160, 136)",
           "rgb(218, 227, 25)",
           "rgb(40, 124, 142)",
           "rgb(30, 155, 138)",
           "rgb(31, 159, 136)",
           "rgb(200, 224, 32)",
           "rgb(46, 110, 142)",
           "rgb(186, 222, 40)",
           "rgb(42, 119, 142)",
           "rgb(82, 197, 105)",
           "rgb(45, 113, 142)",
           "rgb(70, 52, 128)",
           "rgb(36, 134, 142)",
           "rgb(31, 161, 136)",
           "rgb(33, 165, 133)",
           "rgb(46, 109, 142)",
           "rgb(251, 231, 35)",
           "rgb(31, 148, 140)",
           "rgb(46, 110, 142)",
           "rgb(32, 163, 134)",
           "rgb(30, 156, 137)",
           "rgb(64, 69, 136)",
           "rgb(72, 27, 109)",
           "rgb(31, 149, 139)",
           "rgb(34, 168, 132)",
           "rgb(32, 146, 140)",
           "rgb(69, 5, 89)",
           "rgb(65, 66, 135)",
           "rgb(37, 132, 142)",
           "rgb(72, 36, 117)",
           "rgb(142, 214, 69)",
           "rgb(46, 110, 142)",
           "rgb(42, 118, 142)",
           "rgb(251, 231, 35)",
           "rgb(69, 4, 87)",
           "rgb(33, 145, 140)",
           "rgb(39, 128, 142)",
           "rgb(32, 146, 140)",
           "rgb(32, 164, 134)",
           "rgb(72, 33, 115)",
           "rgb(71, 16, 99)",
           "rgb(139, 214, 70)",
           "rgb(42, 120, 142)",
           "rgb(58, 186, 118)",
           "rgb(36, 170, 131)",
           "rgb(59, 81, 139)",
           "rgb(34, 140, 141)",
           "rgb(124, 210, 80)",
           "rgb(70, 52, 128)",
           "rgb(64, 69, 136)",
           "rgb(72, 27, 109)",
           "rgb(38, 130, 142)",
           "rgb(59, 82, 139)",
           "rgb(50, 182, 122)",
           "rgb(236, 229, 27)",
           "rgb(57, 86, 140)",
           "rgb(253, 231, 37)",
           "rgb(71, 42, 122)",
           "rgb(186, 222, 40)",
           "rgb(72, 36, 117)",
           "rgb(72, 33, 115)",
           "rgb(72, 22, 104)",
           "rgb(61, 78, 138)",
           "rgb(72, 35, 116)",
           "rgb(251, 231, 35)",
           "rgb(33, 142, 141)",
           "rgb(69, 4, 87)",
           "rgb(71, 17, 100)",
           "rgb(200, 224, 32)",
           "rgb(40, 124, 142)",
           "rgb(35, 138, 141)",
           "rgb(168, 219, 52)",
           "rgb(101, 203, 94)",
           "rgb(162, 218, 55)",
           "rgb(35, 169, 131)",
           "rgb(197, 224, 33)",
           "rgb(34, 168, 132)",
           "rgb(36, 135, 142)",
           "rgb(57, 85, 140)",
           "rgb(67, 62, 133)",
           "rgb(30, 156, 137)",
           "rgb(63, 188, 115)",
           "rgb(70, 50, 126)",
           "rgb(162, 218, 55)",
           "rgb(33, 142, 141)",
           "rgb(35, 169, 131)",
           "rgb(66, 64, 134)",
           "rgb(112, 207, 87)",
           "rgb(71, 46, 124)",
           "rgb(58, 186, 118)",
           "rgb(229, 228, 25)",
           "rgb(71, 14, 97)",
           "rgb(236, 229, 27)",
           "rgb(119, 209, 83)",
           "rgb(55, 184, 120)",
           "rgb(31, 161, 135)",
           "rgb(36, 135, 142)",
           "rgb(178, 221, 45)",
           "rgb(69, 53, 129)",
           "rgb(52, 182, 121)",
           "rgb(71, 19, 101)",
           "rgb(134, 213, 73)",
           "rgb(71, 17, 100)",
           "rgb(69, 4, 87)",
           "rgb(69, 53, 129)",
           "rgb(68, 57, 131)",
           "rgb(202, 225, 31)",
           "rgb(71, 46, 124)",
           "rgb(41, 121, 142)",
           "rgb(178, 221, 45)",
           "rgb(105, 205, 91)",
           "rgb(49, 181, 123)",
           "rgb(52, 96, 141)",
           "rgb(31, 161, 135)",
           "rgb(63, 72, 137)",
           "rgb(32, 163, 134)",
           "rgb(157, 217, 59)",
           "rgb(72, 24, 106)",
           "rgb(50, 182, 122)",
           "rgb(31, 161, 135)",
           "rgb(50, 182, 122)",
           "rgb(31, 154, 138)",
           "rgb(72, 26, 108)",
           "rgb(72, 31, 112)",
           "rgb(200, 224, 32)",
           "rgb(71, 17, 100)",
           "rgb(44, 114, 142)",
           "rgb(72, 35, 116)",
           "rgb(70, 51, 127)",
           "rgb(38, 173, 129)",
           "rgb(44, 114, 142)",
           "rgb(68, 59, 132)",
           "rgb(54, 93, 141)",
           "rgb(35, 137, 142)",
           "rgb(51, 98, 141)",
           "rgb(61, 188, 116)",
           "rgb(94, 201, 98)",
           "rgb(103, 204, 92)",
           "rgb(71, 19, 101)",
           "rgb(49, 104, 142)",
           "rgb(72, 36, 117)",
           "rgb(31, 149, 139)",
           "rgb(71, 14, 97)",
           "rgb(56, 89, 140)",
           "rgb(35, 137, 142)",
           "rgb(33, 144, 141)",
           "rgb(37, 133, 142)",
           "rgb(194, 223, 35)",
           "rgb(173, 220, 48)",
           "rgb(200, 224, 32)",
           "rgb(31, 159, 136)",
           "rgb(162, 218, 55)",
           "rgb(68, 57, 131)",
           "rgb(39, 126, 142)",
           "rgb(31, 152, 139)",
           "rgb(64, 69, 136)",
           "rgb(35, 138, 141)",
           "rgb(31, 158, 137)",
           "rgb(72, 20, 103)",
           "rgb(208, 225, 28)",
           "rgb(61, 188, 116)",
           "rgb(38, 130, 142)",
           "rgb(205, 225, 29)",
           "rgb(49, 104, 142)",
           "rgb(72, 33, 115)",
           "rgb(56, 185, 119)",
           "rgb(36, 170, 131)",
           "rgb(49, 104, 142)",
           "rgb(239, 229, 28)",
           "rgb(45, 178, 125)",
           "rgb(74, 193, 109)",
           "rgb(49, 102, 142)",
           "rgb(56, 88, 140)",
           "rgb(42, 120, 142)",
           "rgb(60, 79, 138)",
           "rgb(223, 227, 24)",
           "rgb(246, 230, 32)",
           "rgb(41, 123, 142)",
           "rgb(31, 153, 138)",
           "rgb(72, 33, 115)",
           "rgb(72, 27, 109)",
           "rgb(66, 65, 134)",
           "rgb(48, 106, 142)",
           "rgb(47, 108, 142)",
           "rgb(31, 161, 135)",
           "rgb(72, 36, 117)",
           "rgb(34, 141, 141)"
          ],
          "size": [
           100,
           75,
           75,
           58.333333333333336,
           58.333333333333336,
           41.66666666666667,
           41.66666666666667,
           33.33333333333333,
           33.33333333333333,
           33.33333333333333,
           33.33333333333333,
           33.33333333333333,
           33.33333333333333,
           33.33333333333333,
           33.33333333333333,
           33.33333333333333,
           33.33333333333333,
           33.33333333333333,
           33.33333333333333,
           33.33333333333333,
           25,
           25,
           25,
           25,
           25,
           25,
           25,
           25,
           25,
           25,
           25,
           25,
           25,
           25,
           25,
           25,
           25,
           25,
           25,
           25,
           25,
           16.666666666666664,
           16.666666666666664,
           16.666666666666664,
           16.666666666666664,
           16.666666666666664,
           16.666666666666664,
           16.666666666666664,
           16.666666666666664,
           16.666666666666664,
           16.666666666666664,
           16.666666666666664,
           16.666666666666664,
           16.666666666666664,
           16.666666666666664,
           16.666666666666664,
           16.666666666666664,
           16.666666666666664,
           16.666666666666664,
           16.666666666666664,
           16.666666666666664,
           16.666666666666664,
           16.666666666666664,
           16.666666666666664,
           16.666666666666664,
           16.666666666666664,
           16.666666666666664,
           16.666666666666664,
           16.666666666666664,
           16.666666666666664,
           16.666666666666664,
           16.666666666666664,
           16.666666666666664,
           16.666666666666664,
           16.666666666666664,
           16.666666666666664,
           16.666666666666664,
           16.666666666666664,
           16.666666666666664,
           16.666666666666664,
           16.666666666666664,
           16.666666666666664,
           16.666666666666664,
           16.666666666666664,
           16.666666666666664,
           16.666666666666664,
           16.666666666666664,
           16.666666666666664,
           16.666666666666664,
           16.666666666666664,
           16.666666666666664,
           16.666666666666664,
           16.666666666666664,
           16.666666666666664,
           16.666666666666664,
           16.666666666666664,
           16.666666666666664,
           16.666666666666664,
           16.666666666666664,
           16.666666666666664,
           16.666666666666664,
           16.666666666666664,
           8.333333333333332,
           8.333333333333332,
           8.333333333333332,
           8.333333333333332,
           8.333333333333332,
           8.333333333333332,
           8.333333333333332,
           8.333333333333332,
           8.333333333333332,
           8.333333333333332,
           8.333333333333332,
           8.333333333333332,
           8.333333333333332,
           8.333333333333332,
           8.333333333333332,
           8.333333333333332,
           8.333333333333332,
           8.333333333333332,
           8.333333333333332,
           8.333333333333332,
           8.333333333333332,
           8.333333333333332,
           8.333333333333332,
           8.333333333333332,
           8.333333333333332,
           8.333333333333332,
           8.333333333333332,
           8.333333333333332,
           8.333333333333332,
           8.333333333333332,
           8.333333333333332,
           8.333333333333332,
           8.333333333333332,
           8.333333333333332,
           8.333333333333332,
           8.333333333333332,
           8.333333333333332,
           8.333333333333332,
           8.333333333333332,
           8.333333333333332,
           8.333333333333332,
           8.333333333333332,
           8.333333333333332,
           8.333333333333332,
           8.333333333333332,
           8.333333333333332,
           8.333333333333332,
           8.333333333333332,
           8.333333333333332,
           8.333333333333332,
           8.333333333333332,
           8.333333333333332,
           8.333333333333332,
           8.333333333333332,
           8.333333333333332,
           8.333333333333332,
           8.333333333333332,
           8.333333333333332,
           8.333333333333332,
           8.333333333333332,
           8.333333333333332,
           8.333333333333332,
           8.333333333333332,
           8.333333333333332,
           8.333333333333332,
           8.333333333333332,
           8.333333333333332,
           8.333333333333332,
           8.333333333333332,
           8.333333333333332,
           8.333333333333332,
           8.333333333333332,
           8.333333333333332,
           8.333333333333332,
           8.333333333333332,
           8.333333333333332,
           8.333333333333332,
           8.333333333333332,
           8.333333333333332,
           8.333333333333332,
           8.333333333333332,
           8.333333333333332,
           8.333333333333332,
           8.333333333333332,
           8.333333333333332,
           8.333333333333332,
           8.333333333333332,
           8.333333333333332,
           8.333333333333332,
           8.333333333333332,
           8.333333333333332,
           8.333333333333332,
           8.333333333333332,
           8.333333333333332,
           8.333333333333332,
           8.333333333333332,
           8.333333333333332,
           8.333333333333332
          ]
         },
         "type": "scatter",
         "x": [
          103,
          38,
          144,
          156,
          6,
          32,
          49,
          1,
          77,
          3,
          64,
          74,
          34,
          169,
          141,
          2,
          173,
          146,
          175,
          87,
          2,
          21,
          7,
          5,
          72,
          23,
          185,
          87,
          120,
          135,
          87,
          52,
          185,
          187,
          100,
          162,
          97,
          143,
          11,
          3,
          4,
          39,
          67,
          94,
          61,
          31,
          163,
          101,
          24,
          190,
          65,
          74,
          36,
          125,
          175,
          1,
          20,
          158,
          127,
          36,
          44,
          9,
          190,
          12,
          163,
          11,
          19,
          31,
          143,
          72,
          192,
          108,
          112,
          190,
          99,
          142,
          141,
          27,
          172,
          124,
          103,
          38,
          128,
          145,
          178,
          141,
          121,
          168,
          192,
          74,
          164,
          24,
          167,
          192,
          96,
          99,
          57,
          34,
          46,
          4,
          79,
          94,
          124,
          86,
          131,
          38,
          73,
          106,
          145,
          158,
          79,
          74,
          193,
          18,
          117,
          87,
          67,
          35,
          67,
          80,
          34,
          6,
          1,
          73,
          128,
          169,
          50,
          25,
          142,
          96,
          92,
          137,
          137,
          171,
          155,
          133,
          107,
          83,
          129,
          160,
          20,
          91,
          74,
          158,
          109,
          42,
          18,
          119,
          150,
          164,
          101,
          193,
          141,
          129,
          96,
          141,
          97,
          192,
          49,
          79,
          17,
          99,
          127,
          3,
          126,
          60,
          108,
          60,
          75,
          43,
          162,
          101,
          46,
          120,
          129,
          1,
          106,
          81,
          101,
          28,
          84,
          187,
          194,
          118,
          171,
          128,
          97,
          125,
          168,
          88,
          178,
          116,
          40,
          178,
          68,
          63,
          171,
          177,
          1,
          120
         ],
         "y": [
          5,
          238,
          93,
          329,
          186,
          96,
          150,
          53,
          307,
          366,
          62,
          146,
          6,
          256,
          224,
          288,
          6,
          18,
          89,
          34,
          332,
          300,
          160,
          19,
          264,
          1,
          328,
          260,
          186,
          182,
          18,
          81,
          224,
          371,
          152,
          251,
          302,
          333,
          334,
          257,
          384,
          198,
          3,
          1,
          46,
          291,
          3,
          241,
          87,
          53,
          129,
          4,
          339,
          93,
          234,
          172,
          137,
          295,
          257,
          227,
          167,
          169,
          156,
          8,
          222,
          124,
          278,
          3,
          358,
          114,
          231,
          365,
          197,
          10,
          109,
          157,
          102,
          337,
          215,
          2,
          111,
          304,
          25,
          4,
          353,
          70,
          120,
          66,
          309,
          230,
          43,
          40,
          310,
          100,
          57,
          391,
          7,
          168,
          232,
          123,
          259,
          276,
          115,
          130,
          236,
          173,
          352,
          305,
          104,
          116,
          272,
          165,
          204,
          337,
          295,
          384,
          46,
          20,
          28,
          129,
          78,
          214,
          240,
          80,
          146,
          255,
          194,
          109,
          200,
          83,
          126,
          210,
          263,
          25,
          1,
          224,
          343,
          273,
          205,
          308,
          360,
          345,
          183,
          237,
          2,
          77,
          31,
          53,
          367,
          182,
          27,
          331,
          132,
          173,
          123,
          53,
          209,
          275,
          333,
          289,
          168,
          36,
          346,
          357,
          332,
          317,
          176,
          391,
          211,
          54,
          116,
          56,
          75,
          393,
          375,
          161,
          56,
          19,
          146,
          389,
          254,
          199,
          354,
          81,
          40,
          184,
          290,
          53,
          191,
          70,
          383,
          244,
          289,
          342,
          307,
          93,
          12,
          217,
          5,
          350
         ]
        }
       ],
       "layout": {
        "template": {
         "data": {
          "bar": [
           {
            "error_x": {
             "color": "#2a3f5f"
            },
            "error_y": {
             "color": "#2a3f5f"
            },
            "marker": {
             "line": {
              "color": "#E5ECF6",
              "width": 0.5
             }
            },
            "type": "bar"
           }
          ],
          "barpolar": [
           {
            "marker": {
             "line": {
              "color": "#E5ECF6",
              "width": 0.5
             }
            },
            "type": "barpolar"
           }
          ],
          "carpet": [
           {
            "aaxis": {
             "endlinecolor": "#2a3f5f",
             "gridcolor": "white",
             "linecolor": "white",
             "minorgridcolor": "white",
             "startlinecolor": "#2a3f5f"
            },
            "baxis": {
             "endlinecolor": "#2a3f5f",
             "gridcolor": "white",
             "linecolor": "white",
             "minorgridcolor": "white",
             "startlinecolor": "#2a3f5f"
            },
            "type": "carpet"
           }
          ],
          "choropleth": [
           {
            "colorbar": {
             "outlinewidth": 0,
             "ticks": ""
            },
            "type": "choropleth"
           }
          ],
          "contour": [
           {
            "colorbar": {
             "outlinewidth": 0,
             "ticks": ""
            },
            "colorscale": [
             [
              0,
              "#0d0887"
             ],
             [
              0.1111111111111111,
              "#46039f"
             ],
             [
              0.2222222222222222,
              "#7201a8"
             ],
             [
              0.3333333333333333,
              "#9c179e"
             ],
             [
              0.4444444444444444,
              "#bd3786"
             ],
             [
              0.5555555555555556,
              "#d8576b"
             ],
             [
              0.6666666666666666,
              "#ed7953"
             ],
             [
              0.7777777777777778,
              "#fb9f3a"
             ],
             [
              0.8888888888888888,
              "#fdca26"
             ],
             [
              1,
              "#f0f921"
             ]
            ],
            "type": "contour"
           }
          ],
          "contourcarpet": [
           {
            "colorbar": {
             "outlinewidth": 0,
             "ticks": ""
            },
            "type": "contourcarpet"
           }
          ],
          "heatmap": [
           {
            "colorbar": {
             "outlinewidth": 0,
             "ticks": ""
            },
            "colorscale": [
             [
              0,
              "#0d0887"
             ],
             [
              0.1111111111111111,
              "#46039f"
             ],
             [
              0.2222222222222222,
              "#7201a8"
             ],
             [
              0.3333333333333333,
              "#9c179e"
             ],
             [
              0.4444444444444444,
              "#bd3786"
             ],
             [
              0.5555555555555556,
              "#d8576b"
             ],
             [
              0.6666666666666666,
              "#ed7953"
             ],
             [
              0.7777777777777778,
              "#fb9f3a"
             ],
             [
              0.8888888888888888,
              "#fdca26"
             ],
             [
              1,
              "#f0f921"
             ]
            ],
            "type": "heatmap"
           }
          ],
          "heatmapgl": [
           {
            "colorbar": {
             "outlinewidth": 0,
             "ticks": ""
            },
            "colorscale": [
             [
              0,
              "#0d0887"
             ],
             [
              0.1111111111111111,
              "#46039f"
             ],
             [
              0.2222222222222222,
              "#7201a8"
             ],
             [
              0.3333333333333333,
              "#9c179e"
             ],
             [
              0.4444444444444444,
              "#bd3786"
             ],
             [
              0.5555555555555556,
              "#d8576b"
             ],
             [
              0.6666666666666666,
              "#ed7953"
             ],
             [
              0.7777777777777778,
              "#fb9f3a"
             ],
             [
              0.8888888888888888,
              "#fdca26"
             ],
             [
              1,
              "#f0f921"
             ]
            ],
            "type": "heatmapgl"
           }
          ],
          "histogram": [
           {
            "marker": {
             "colorbar": {
              "outlinewidth": 0,
              "ticks": ""
             }
            },
            "type": "histogram"
           }
          ],
          "histogram2d": [
           {
            "colorbar": {
             "outlinewidth": 0,
             "ticks": ""
            },
            "colorscale": [
             [
              0,
              "#0d0887"
             ],
             [
              0.1111111111111111,
              "#46039f"
             ],
             [
              0.2222222222222222,
              "#7201a8"
             ],
             [
              0.3333333333333333,
              "#9c179e"
             ],
             [
              0.4444444444444444,
              "#bd3786"
             ],
             [
              0.5555555555555556,
              "#d8576b"
             ],
             [
              0.6666666666666666,
              "#ed7953"
             ],
             [
              0.7777777777777778,
              "#fb9f3a"
             ],
             [
              0.8888888888888888,
              "#fdca26"
             ],
             [
              1,
              "#f0f921"
             ]
            ],
            "type": "histogram2d"
           }
          ],
          "histogram2dcontour": [
           {
            "colorbar": {
             "outlinewidth": 0,
             "ticks": ""
            },
            "colorscale": [
             [
              0,
              "#0d0887"
             ],
             [
              0.1111111111111111,
              "#46039f"
             ],
             [
              0.2222222222222222,
              "#7201a8"
             ],
             [
              0.3333333333333333,
              "#9c179e"
             ],
             [
              0.4444444444444444,
              "#bd3786"
             ],
             [
              0.5555555555555556,
              "#d8576b"
             ],
             [
              0.6666666666666666,
              "#ed7953"
             ],
             [
              0.7777777777777778,
              "#fb9f3a"
             ],
             [
              0.8888888888888888,
              "#fdca26"
             ],
             [
              1,
              "#f0f921"
             ]
            ],
            "type": "histogram2dcontour"
           }
          ],
          "mesh3d": [
           {
            "colorbar": {
             "outlinewidth": 0,
             "ticks": ""
            },
            "type": "mesh3d"
           }
          ],
          "parcoords": [
           {
            "line": {
             "colorbar": {
              "outlinewidth": 0,
              "ticks": ""
             }
            },
            "type": "parcoords"
           }
          ],
          "scatter": [
           {
            "marker": {
             "colorbar": {
              "outlinewidth": 0,
              "ticks": ""
             }
            },
            "type": "scatter"
           }
          ],
          "scatter3d": [
           {
            "line": {
             "colorbar": {
              "outlinewidth": 0,
              "ticks": ""
             }
            },
            "marker": {
             "colorbar": {
              "outlinewidth": 0,
              "ticks": ""
             }
            },
            "type": "scatter3d"
           }
          ],
          "scattercarpet": [
           {
            "marker": {
             "colorbar": {
              "outlinewidth": 0,
              "ticks": ""
             }
            },
            "type": "scattercarpet"
           }
          ],
          "scattergeo": [
           {
            "marker": {
             "colorbar": {
              "outlinewidth": 0,
              "ticks": ""
             }
            },
            "type": "scattergeo"
           }
          ],
          "scattergl": [
           {
            "marker": {
             "colorbar": {
              "outlinewidth": 0,
              "ticks": ""
             }
            },
            "type": "scattergl"
           }
          ],
          "scattermapbox": [
           {
            "marker": {
             "colorbar": {
              "outlinewidth": 0,
              "ticks": ""
             }
            },
            "type": "scattermapbox"
           }
          ],
          "scatterpolar": [
           {
            "marker": {
             "colorbar": {
              "outlinewidth": 0,
              "ticks": ""
             }
            },
            "type": "scatterpolar"
           }
          ],
          "scatterpolargl": [
           {
            "marker": {
             "colorbar": {
              "outlinewidth": 0,
              "ticks": ""
             }
            },
            "type": "scatterpolargl"
           }
          ],
          "scatterternary": [
           {
            "marker": {
             "colorbar": {
              "outlinewidth": 0,
              "ticks": ""
             }
            },
            "type": "scatterternary"
           }
          ],
          "surface": [
           {
            "colorbar": {
             "outlinewidth": 0,
             "ticks": ""
            },
            "colorscale": [
             [
              0,
              "#0d0887"
             ],
             [
              0.1111111111111111,
              "#46039f"
             ],
             [
              0.2222222222222222,
              "#7201a8"
             ],
             [
              0.3333333333333333,
              "#9c179e"
             ],
             [
              0.4444444444444444,
              "#bd3786"
             ],
             [
              0.5555555555555556,
              "#d8576b"
             ],
             [
              0.6666666666666666,
              "#ed7953"
             ],
             [
              0.7777777777777778,
              "#fb9f3a"
             ],
             [
              0.8888888888888888,
              "#fdca26"
             ],
             [
              1,
              "#f0f921"
             ]
            ],
            "type": "surface"
           }
          ],
          "table": [
           {
            "cells": {
             "fill": {
              "color": "#EBF0F8"
             },
             "line": {
              "color": "white"
             }
            },
            "header": {
             "fill": {
              "color": "#C8D4E3"
             },
             "line": {
              "color": "white"
             }
            },
            "type": "table"
           }
          ]
         },
         "layout": {
          "annotationdefaults": {
           "arrowcolor": "#2a3f5f",
           "arrowhead": 0,
           "arrowwidth": 1
          },
          "colorscale": {
           "diverging": [
            [
             0,
             "#8e0152"
            ],
            [
             0.1,
             "#c51b7d"
            ],
            [
             0.2,
             "#de77ae"
            ],
            [
             0.3,
             "#f1b6da"
            ],
            [
             0.4,
             "#fde0ef"
            ],
            [
             0.5,
             "#f7f7f7"
            ],
            [
             0.6,
             "#e6f5d0"
            ],
            [
             0.7,
             "#b8e186"
            ],
            [
             0.8,
             "#7fbc41"
            ],
            [
             0.9,
             "#4d9221"
            ],
            [
             1,
             "#276419"
            ]
           ],
           "sequential": [
            [
             0,
             "#0d0887"
            ],
            [
             0.1111111111111111,
             "#46039f"
            ],
            [
             0.2222222222222222,
             "#7201a8"
            ],
            [
             0.3333333333333333,
             "#9c179e"
            ],
            [
             0.4444444444444444,
             "#bd3786"
            ],
            [
             0.5555555555555556,
             "#d8576b"
            ],
            [
             0.6666666666666666,
             "#ed7953"
            ],
            [
             0.7777777777777778,
             "#fb9f3a"
            ],
            [
             0.8888888888888888,
             "#fdca26"
            ],
            [
             1,
             "#f0f921"
            ]
           ],
           "sequentialminus": [
            [
             0,
             "#0d0887"
            ],
            [
             0.1111111111111111,
             "#46039f"
            ],
            [
             0.2222222222222222,
             "#7201a8"
            ],
            [
             0.3333333333333333,
             "#9c179e"
            ],
            [
             0.4444444444444444,
             "#bd3786"
            ],
            [
             0.5555555555555556,
             "#d8576b"
            ],
            [
             0.6666666666666666,
             "#ed7953"
            ],
            [
             0.7777777777777778,
             "#fb9f3a"
            ],
            [
             0.8888888888888888,
             "#fdca26"
            ],
            [
             1,
             "#f0f921"
            ]
           ]
          },
          "colorway": [
           "#636efa",
           "#EF553B",
           "#00cc96",
           "#ab63fa",
           "#FFA15A",
           "#19d3f3",
           "#FF6692",
           "#B6E880",
           "#FF97FF",
           "#FECB52"
          ],
          "font": {
           "color": "#2a3f5f"
          },
          "geo": {
           "bgcolor": "white",
           "lakecolor": "white",
           "landcolor": "#E5ECF6",
           "showlakes": true,
           "showland": true,
           "subunitcolor": "white"
          },
          "hoverlabel": {
           "align": "left"
          },
          "hovermode": "closest",
          "mapbox": {
           "style": "light"
          },
          "paper_bgcolor": "white",
          "plot_bgcolor": "#E5ECF6",
          "polar": {
           "angularaxis": {
            "gridcolor": "white",
            "linecolor": "white",
            "ticks": ""
           },
           "bgcolor": "#E5ECF6",
           "radialaxis": {
            "gridcolor": "white",
            "linecolor": "white",
            "ticks": ""
           }
          },
          "scene": {
           "xaxis": {
            "backgroundcolor": "#E5ECF6",
            "gridcolor": "white",
            "gridwidth": 2,
            "linecolor": "white",
            "showbackground": true,
            "ticks": "",
            "zerolinecolor": "white"
           },
           "yaxis": {
            "backgroundcolor": "#E5ECF6",
            "gridcolor": "white",
            "gridwidth": 2,
            "linecolor": "white",
            "showbackground": true,
            "ticks": "",
            "zerolinecolor": "white"
           },
           "zaxis": {
            "backgroundcolor": "#E5ECF6",
            "gridcolor": "white",
            "gridwidth": 2,
            "linecolor": "white",
            "showbackground": true,
            "ticks": "",
            "zerolinecolor": "white"
           }
          },
          "shapedefaults": {
           "line": {
            "color": "#2a3f5f"
           }
          },
          "ternary": {
           "aaxis": {
            "gridcolor": "white",
            "linecolor": "white",
            "ticks": ""
           },
           "baxis": {
            "gridcolor": "white",
            "linecolor": "white",
            "ticks": ""
           },
           "bgcolor": "#E5ECF6",
           "caxis": {
            "gridcolor": "white",
            "linecolor": "white",
            "ticks": ""
           }
          },
          "title": {
           "x": 0.05
          },
          "xaxis": {
           "automargin": true,
           "gridcolor": "white",
           "linecolor": "white",
           "ticks": "",
           "zerolinecolor": "white",
           "zerolinewidth": 2
          },
          "yaxis": {
           "automargin": true,
           "gridcolor": "white",
           "linecolor": "white",
           "ticks": "",
           "zerolinecolor": "white",
           "zerolinewidth": 2
          }
         }
        },
        "xaxis": {
         "showgrid": false,
         "showticklabels": false,
         "zeroline": false
        },
        "yaxis": {
         "showgrid": false,
         "showticklabels": false,
         "zeroline": false
        }
       }
      },
      "text/html": [
       "<div>\n",
       "        \n",
       "        \n",
       "            <div id=\"c8b29a9a-ed5a-4381-8391-d5713bd5b8f2\" class=\"plotly-graph-div\" style=\"height:525px; width:100%;\"></div>\n",
       "            <script type=\"text/javascript\">\n",
       "                require([\"plotly\"], function(Plotly) {\n",
       "                    window.PLOTLYENV=window.PLOTLYENV || {};\n",
       "                    \n",
       "                if (document.getElementById(\"c8b29a9a-ed5a-4381-8391-d5713bd5b8f2\")) {\n",
       "                    Plotly.newPlot(\n",
       "                        'c8b29a9a-ed5a-4381-8391-d5713bd5b8f2',\n",
       "                        [{\"hoverinfo\": \"text\", \"hovertext\": [\"Little Prince1.0\", \"movie0.75\", \"story0.75\", \"one0.5833333333333334\", \"make0.5833333333333334\", \"say0.4166666666666667\", \"book0.4166666666666667\", \"life0.3333333333333333\", \"re0.3333333333333333\", \"screen0.3333333333333333\", \"old0.3333333333333333\", \"review0.3333333333333333\", \"well0.3333333333333333\", \"made0.3333333333333333\", \"original0.3333333333333333\", \"kid0.3333333333333333\", \"people0.3333333333333333\", \"thing0.3333333333333333\", \"Hollywood0.3333333333333333\", \"Saint Exup\\u00e9ry0.3333333333333333\", \"read0.25\", \"French0.25\", \"Exupery0.25\", \"Little0.25\", \"Prince0.25\", \"wonder0.25\", \"written0.25\", \"director0.25\", \"will0.25\", \"girl0.25\", \"viewing0.25\", \"comments0.25\", \"year0.25\", \"line0.25\", \"Obviously0.25\", \"nothing0.25\", \"everything0.25\", \"tell0.25\", \"self0.25\", \"world0.25\", \"literary work0.25\", \"even0.16666666666666666\", \"sense0.16666666666666666\", \"now0.16666666666666666\", \"first0.16666666666666666\", \"writer0.16666666666666666\", \"artist0.16666666666666666\", \"Antoine0.16666666666666666\", \"De0.16666666666666666\", \"children0.16666666666666666\", \"tale0.16666666666666666\", \"beautiful0.16666666666666666\", \"work0.16666666666666666\", \"need0.16666666666666666\", \"see0.16666666666666666\", \"imagined0.16666666666666666\", \"Kung0.16666666666666666\", \"Fu0.16666666666666666\", \"Panda0.16666666666666666\", \"imagination0.16666666666666666\", \"done0.16666666666666666\", \"way0.16666666666666666\", \"Colombia0.16666666666666666\", \"expectations0.16666666666666666\", \"film0.16666666666666666\", \"influence0.16666666666666666\", \"take0.16666666666666666\", \"much0.16666666666666666\", \"experience0.16666666666666666\", \"Although0.16666666666666666\", \"granddaughter0.16666666666666666\", \"us0.16666666666666666\", \"case0.16666666666666666\", \"anything0.16666666666666666\", \"must0.16666666666666666\", \"watch0.16666666666666666\", \"Use0.16666666666666666\", \"purists0.16666666666666666\", \"let0.16666666666666666\", \"version0.16666666666666666\", \"number0.16666666666666666\", \"Classic0.16666666666666666\", \"SPOILER0.16666666666666666\", \"want0.16666666666666666\", \"different0.16666666666666666\", \"family0.16666666666666666\", \"might0.16666666666666666\", \"Disney0.16666666666666666\", \"cartoon0.16666666666666666\", \"better0.16666666666666666\", \"today0.16666666666666666\", \"something0.16666666666666666\", \"change0.16666666666666666\", \"thoughts0.16666666666666666\", \"put0.16666666666666666\", \"every0.16666666666666666\", \"superficial0.16666666666666666\", \"touch0.16666666666666666\", \"Someone0.16666666666666666\", \"wanted0.16666666666666666\", \"word0.16666666666666666\", \"explain0.16666666666666666\", \"long0.08333333333333333\", \"ago0.08333333333333333\", \"furred0.08333333333333333\", \"creature0.08333333333333333\", \"talked0.08333333333333333\", \"miraculous0.08333333333333333\", \"hoisted0.08333333333333333\", \"far0.08333333333333333\", \"fetched0.08333333333333333\", \"maturity0.08333333333333333\", \"sensibility0.08333333333333333\", \"presumably0.08333333333333333\", \"alien0.08333333333333333\", \"draped0.08333333333333333\", \"fur0.08333333333333333\", \"resonates0.08333333333333333\", \"louder0.08333333333333333\", \"novella0.08333333333333333\", \"published0.08333333333333333\", \"outbreak0.08333333333333333\", \"second0.08333333333333333\", \"WW0.08333333333333333\", \"Saint0.08333333333333333\", \"decode0.08333333333333333\", \"honest0.08333333333333333\", \"sincerely0.08333333333333333\", \"art0.08333333333333333\", \"child0.08333333333333333\", \"innocence0.08333333333333333\", \"naivety0.08333333333333333\", \"play0.08333333333333333\", \"stories0.08333333333333333\", \"working0.08333333333333333\", \"feel0.08333333333333333\", \"characters0.08333333333333333\", \"evolve0.08333333333333333\", \"pages0.08333333333333333\", \"identify0.08333333333333333\", \"spirit0.08333333333333333\", \"animated0.08333333333333333\", \"adaptation0.08333333333333333\", \"invention0.08333333333333333\", \"Mark0.08333333333333333\", \"Osborne0.08333333333333333\", \"name0.08333333333333333\", \"majorly0.08333333333333333\", \"awaited0.08333333333333333\", \"trailer0.08333333333333333\", \"irresistibly0.08333333333333333\", \"delicious0.08333333333333333\", \"instilling0.08333333333333333\", \"magic0.08333333333333333\", \"atmosphere0.08333333333333333\", \"equally0.08333333333333333\", \"enchanting0.08333333333333333\", \"background0.08333333333333333\", \"score0.08333333333333333\", \"Richard0.08333333333333333\", \"Harvey0.08333333333333333\", \"Hans0.08333333333333333\", \"Zimmer0.08333333333333333\", \"got0.08333333333333333\", \"amazing0.08333333333333333\", \"cast0.08333333333333333\", \"Bridges0.08333333333333333\", \"Cottilard0.08333333333333333\", \"dream0.08333333333333333\", \"fox0.08333333333333333\", \"stop0.08333333333333333\", \"motion0.08333333333333333\", \"animation0.08333333333333333\", \"resembling0.08333333333333333\", \"staying0.08333333333333333\", \"true0.08333333333333333\", \"painted0.08333333333333333\", \"images0.08333333333333333\", \"Remember0.08333333333333333\", \"dewy0.08333333333333333\", \"water0.08333333333333333\", \"color0.08333333333333333\", \"illustrations0.08333333333333333\", \"depicting0.08333333333333333\", \"asteroid0.08333333333333333\", \"magical0.08333333333333333\", \"rose0.08333333333333333\", \"grew0.08333333333333333\", \"flaxen0.08333333333333333\", \"hair0.08333333333333333\", \"scarf0.08333333333333333\", \"looked0.08333333333333333\", \"cherry0.08333333333333333\", \"boy0.08333333333333333\", \"lost0.08333333333333333\", \"Walking0.08333333333333333\", \"sands0.08333333333333333\", \"please0.08333333333333333\", \"draw0.08333333333333333\", \"sheep0.08333333333333333\"], \"mode\": \"text\", \"text\": [\"Little Prince\", \"movie\", \"story\", \"one\", \"make\", \"say\", \"book\", \"life\", \"re\", \"screen\", \"old\", \"review\", \"well\", \"made\", \"original\", \"kid\", \"people\", \"thing\", \"Hollywood\", \"Saint Exup\\u00e9ry\", \"read\", \"French\", \"Exupery\", \"Little\", \"Prince\", \"wonder\", \"written\", \"director\", \"will\", \"girl\", \"viewing\", \"comments\", \"year\", \"line\", \"Obviously\", \"nothing\", \"everything\", \"tell\", \"self\", \"world\", \"literary work\", \"even\", \"sense\", \"now\", \"first\", \"writer\", \"artist\", \"Antoine\", \"De\", \"children\", \"tale\", \"beautiful\", \"work\", \"need\", \"see\", \"imagined\", \"Kung\", \"Fu\", \"Panda\", \"imagination\", \"done\", \"way\", \"Colombia\", \"expectations\", \"film\", \"influence\", \"take\", \"much\", \"experience\", \"Although\", \"granddaughter\", \"us\", \"case\", \"anything\", \"must\", \"watch\", \"Use\", \"purists\", \"let\", \"version\", \"number\", \"Classic\", \"SPOILER\", \"want\", \"different\", \"family\", \"might\", \"Disney\", \"cartoon\", \"better\", \"today\", \"something\", \"change\", \"thoughts\", \"put\", \"every\", \"superficial\", \"touch\", \"Someone\", \"wanted\", \"word\", \"explain\", \"long\", \"ago\", \"furred\", \"creature\", \"talked\", \"miraculous\", \"hoisted\", \"far\", \"fetched\", \"maturity\", \"sensibility\", \"presumably\", \"alien\", \"draped\", \"fur\", \"resonates\", \"louder\", \"novella\", \"published\", \"outbreak\", \"second\", \"WW\", \"Saint\", \"decode\", \"honest\", \"sincerely\", \"art\", \"child\", \"innocence\", \"naivety\", \"play\", \"stories\", \"working\", \"feel\", \"characters\", \"evolve\", \"pages\", \"identify\", \"spirit\", \"animated\", \"adaptation\", \"invention\", \"Mark\", \"Osborne\", \"name\", \"majorly\", \"awaited\", \"trailer\", \"irresistibly\", \"delicious\", \"instilling\", \"magic\", \"atmosphere\", \"equally\", \"enchanting\", \"background\", \"score\", \"Richard\", \"Harvey\", \"Hans\", \"Zimmer\", \"got\", \"amazing\", \"cast\", \"Bridges\", \"Cottilard\", \"dream\", \"fox\", \"stop\", \"motion\", \"animation\", \"resembling\", \"staying\", \"true\", \"painted\", \"images\", \"Remember\", \"dewy\", \"water\", \"color\", \"illustrations\", \"depicting\", \"asteroid\", \"magical\", \"rose\", \"grew\", \"flaxen\", \"hair\", \"scarf\", \"looked\", \"cherry\", \"boy\", \"lost\", \"Walking\", \"sands\", \"please\", \"draw\", \"sheep\"], \"textfont\": {\"color\": [\"rgb(88, 199, 101)\", \"rgb(36, 135, 142)\", \"rgb(31, 162, 135)\", \"rgb(53, 183, 121)\", \"rgb(205, 225, 29)\", \"rgb(71, 46, 124)\", \"rgb(59, 187, 117)\", \"rgb(71, 45, 123)\", \"rgb(65, 66, 135)\", \"rgb(58, 83, 139)\", \"rgb(46, 109, 142)\", \"rgb(42, 118, 142)\", \"rgb(58, 83, 139)\", \"rgb(31, 160, 136)\", \"rgb(218, 227, 25)\", \"rgb(40, 124, 142)\", \"rgb(30, 155, 138)\", \"rgb(31, 159, 136)\", \"rgb(200, 224, 32)\", \"rgb(46, 110, 142)\", \"rgb(186, 222, 40)\", \"rgb(42, 119, 142)\", \"rgb(82, 197, 105)\", \"rgb(45, 113, 142)\", \"rgb(70, 52, 128)\", \"rgb(36, 134, 142)\", \"rgb(31, 161, 136)\", \"rgb(33, 165, 133)\", \"rgb(46, 109, 142)\", \"rgb(251, 231, 35)\", \"rgb(31, 148, 140)\", \"rgb(46, 110, 142)\", \"rgb(32, 163, 134)\", \"rgb(30, 156, 137)\", \"rgb(64, 69, 136)\", \"rgb(72, 27, 109)\", \"rgb(31, 149, 139)\", \"rgb(34, 168, 132)\", \"rgb(32, 146, 140)\", \"rgb(69, 5, 89)\", \"rgb(65, 66, 135)\", \"rgb(37, 132, 142)\", \"rgb(72, 36, 117)\", \"rgb(142, 214, 69)\", \"rgb(46, 110, 142)\", \"rgb(42, 118, 142)\", \"rgb(251, 231, 35)\", \"rgb(69, 4, 87)\", \"rgb(33, 145, 140)\", \"rgb(39, 128, 142)\", \"rgb(32, 146, 140)\", \"rgb(32, 164, 134)\", \"rgb(72, 33, 115)\", \"rgb(71, 16, 99)\", \"rgb(139, 214, 70)\", \"rgb(42, 120, 142)\", \"rgb(58, 186, 118)\", \"rgb(36, 170, 131)\", \"rgb(59, 81, 139)\", \"rgb(34, 140, 141)\", \"rgb(124, 210, 80)\", \"rgb(70, 52, 128)\", \"rgb(64, 69, 136)\", \"rgb(72, 27, 109)\", \"rgb(38, 130, 142)\", \"rgb(59, 82, 139)\", \"rgb(50, 182, 122)\", \"rgb(236, 229, 27)\", \"rgb(57, 86, 140)\", \"rgb(253, 231, 37)\", \"rgb(71, 42, 122)\", \"rgb(186, 222, 40)\", \"rgb(72, 36, 117)\", \"rgb(72, 33, 115)\", \"rgb(72, 22, 104)\", \"rgb(61, 78, 138)\", \"rgb(72, 35, 116)\", \"rgb(251, 231, 35)\", \"rgb(33, 142, 141)\", \"rgb(69, 4, 87)\", \"rgb(71, 17, 100)\", \"rgb(200, 224, 32)\", \"rgb(40, 124, 142)\", \"rgb(35, 138, 141)\", \"rgb(168, 219, 52)\", \"rgb(101, 203, 94)\", \"rgb(162, 218, 55)\", \"rgb(35, 169, 131)\", \"rgb(197, 224, 33)\", \"rgb(34, 168, 132)\", \"rgb(36, 135, 142)\", \"rgb(57, 85, 140)\", \"rgb(67, 62, 133)\", \"rgb(30, 156, 137)\", \"rgb(63, 188, 115)\", \"rgb(70, 50, 126)\", \"rgb(162, 218, 55)\", \"rgb(33, 142, 141)\", \"rgb(35, 169, 131)\", \"rgb(66, 64, 134)\", \"rgb(112, 207, 87)\", \"rgb(71, 46, 124)\", \"rgb(58, 186, 118)\", \"rgb(229, 228, 25)\", \"rgb(71, 14, 97)\", \"rgb(236, 229, 27)\", \"rgb(119, 209, 83)\", \"rgb(55, 184, 120)\", \"rgb(31, 161, 135)\", \"rgb(36, 135, 142)\", \"rgb(178, 221, 45)\", \"rgb(69, 53, 129)\", \"rgb(52, 182, 121)\", \"rgb(71, 19, 101)\", \"rgb(134, 213, 73)\", \"rgb(71, 17, 100)\", \"rgb(69, 4, 87)\", \"rgb(69, 53, 129)\", \"rgb(68, 57, 131)\", \"rgb(202, 225, 31)\", \"rgb(71, 46, 124)\", \"rgb(41, 121, 142)\", \"rgb(178, 221, 45)\", \"rgb(105, 205, 91)\", \"rgb(49, 181, 123)\", \"rgb(52, 96, 141)\", \"rgb(31, 161, 135)\", \"rgb(63, 72, 137)\", \"rgb(32, 163, 134)\", \"rgb(157, 217, 59)\", \"rgb(72, 24, 106)\", \"rgb(50, 182, 122)\", \"rgb(31, 161, 135)\", \"rgb(50, 182, 122)\", \"rgb(31, 154, 138)\", \"rgb(72, 26, 108)\", \"rgb(72, 31, 112)\", \"rgb(200, 224, 32)\", \"rgb(71, 17, 100)\", \"rgb(44, 114, 142)\", \"rgb(72, 35, 116)\", \"rgb(70, 51, 127)\", \"rgb(38, 173, 129)\", \"rgb(44, 114, 142)\", \"rgb(68, 59, 132)\", \"rgb(54, 93, 141)\", \"rgb(35, 137, 142)\", \"rgb(51, 98, 141)\", \"rgb(61, 188, 116)\", \"rgb(94, 201, 98)\", \"rgb(103, 204, 92)\", \"rgb(71, 19, 101)\", \"rgb(49, 104, 142)\", \"rgb(72, 36, 117)\", \"rgb(31, 149, 139)\", \"rgb(71, 14, 97)\", \"rgb(56, 89, 140)\", \"rgb(35, 137, 142)\", \"rgb(33, 144, 141)\", \"rgb(37, 133, 142)\", \"rgb(194, 223, 35)\", \"rgb(173, 220, 48)\", \"rgb(200, 224, 32)\", \"rgb(31, 159, 136)\", \"rgb(162, 218, 55)\", \"rgb(68, 57, 131)\", \"rgb(39, 126, 142)\", \"rgb(31, 152, 139)\", \"rgb(64, 69, 136)\", \"rgb(35, 138, 141)\", \"rgb(31, 158, 137)\", \"rgb(72, 20, 103)\", \"rgb(208, 225, 28)\", \"rgb(61, 188, 116)\", \"rgb(38, 130, 142)\", \"rgb(205, 225, 29)\", \"rgb(49, 104, 142)\", \"rgb(72, 33, 115)\", \"rgb(56, 185, 119)\", \"rgb(36, 170, 131)\", \"rgb(49, 104, 142)\", \"rgb(239, 229, 28)\", \"rgb(45, 178, 125)\", \"rgb(74, 193, 109)\", \"rgb(49, 102, 142)\", \"rgb(56, 88, 140)\", \"rgb(42, 120, 142)\", \"rgb(60, 79, 138)\", \"rgb(223, 227, 24)\", \"rgb(246, 230, 32)\", \"rgb(41, 123, 142)\", \"rgb(31, 153, 138)\", \"rgb(72, 33, 115)\", \"rgb(72, 27, 109)\", \"rgb(66, 65, 134)\", \"rgb(48, 106, 142)\", \"rgb(47, 108, 142)\", \"rgb(31, 161, 135)\", \"rgb(72, 36, 117)\", \"rgb(34, 141, 141)\"], \"size\": [100.0, 75.0, 75.0, 58.333333333333336, 58.333333333333336, 41.66666666666667, 41.66666666666667, 33.33333333333333, 33.33333333333333, 33.33333333333333, 33.33333333333333, 33.33333333333333, 33.33333333333333, 33.33333333333333, 33.33333333333333, 33.33333333333333, 33.33333333333333, 33.33333333333333, 33.33333333333333, 33.33333333333333, 25.0, 25.0, 25.0, 25.0, 25.0, 25.0, 25.0, 25.0, 25.0, 25.0, 25.0, 25.0, 25.0, 25.0, 25.0, 25.0, 25.0, 25.0, 25.0, 25.0, 25.0, 16.666666666666664, 16.666666666666664, 16.666666666666664, 16.666666666666664, 16.666666666666664, 16.666666666666664, 16.666666666666664, 16.666666666666664, 16.666666666666664, 16.666666666666664, 16.666666666666664, 16.666666666666664, 16.666666666666664, 16.666666666666664, 16.666666666666664, 16.666666666666664, 16.666666666666664, 16.666666666666664, 16.666666666666664, 16.666666666666664, 16.666666666666664, 16.666666666666664, 16.666666666666664, 16.666666666666664, 16.666666666666664, 16.666666666666664, 16.666666666666664, 16.666666666666664, 16.666666666666664, 16.666666666666664, 16.666666666666664, 16.666666666666664, 16.666666666666664, 16.666666666666664, 16.666666666666664, 16.666666666666664, 16.666666666666664, 16.666666666666664, 16.666666666666664, 16.666666666666664, 16.666666666666664, 16.666666666666664, 16.666666666666664, 16.666666666666664, 16.666666666666664, 16.666666666666664, 16.666666666666664, 16.666666666666664, 16.666666666666664, 16.666666666666664, 16.666666666666664, 16.666666666666664, 16.666666666666664, 16.666666666666664, 16.666666666666664, 16.666666666666664, 16.666666666666664, 16.666666666666664, 16.666666666666664, 16.666666666666664, 16.666666666666664, 8.333333333333332, 8.333333333333332, 8.333333333333332, 8.333333333333332, 8.333333333333332, 8.333333333333332, 8.333333333333332, 8.333333333333332, 8.333333333333332, 8.333333333333332, 8.333333333333332, 8.333333333333332, 8.333333333333332, 8.333333333333332, 8.333333333333332, 8.333333333333332, 8.333333333333332, 8.333333333333332, 8.333333333333332, 8.333333333333332, 8.333333333333332, 8.333333333333332, 8.333333333333332, 8.333333333333332, 8.333333333333332, 8.333333333333332, 8.333333333333332, 8.333333333333332, 8.333333333333332, 8.333333333333332, 8.333333333333332, 8.333333333333332, 8.333333333333332, 8.333333333333332, 8.333333333333332, 8.333333333333332, 8.333333333333332, 8.333333333333332, 8.333333333333332, 8.333333333333332, 8.333333333333332, 8.333333333333332, 8.333333333333332, 8.333333333333332, 8.333333333333332, 8.333333333333332, 8.333333333333332, 8.333333333333332, 8.333333333333332, 8.333333333333332, 8.333333333333332, 8.333333333333332, 8.333333333333332, 8.333333333333332, 8.333333333333332, 8.333333333333332, 8.333333333333332, 8.333333333333332, 8.333333333333332, 8.333333333333332, 8.333333333333332, 8.333333333333332, 8.333333333333332, 8.333333333333332, 8.333333333333332, 8.333333333333332, 8.333333333333332, 8.333333333333332, 8.333333333333332, 8.333333333333332, 8.333333333333332, 8.333333333333332, 8.333333333333332, 8.333333333333332, 8.333333333333332, 8.333333333333332, 8.333333333333332, 8.333333333333332, 8.333333333333332, 8.333333333333332, 8.333333333333332, 8.333333333333332, 8.333333333333332, 8.333333333333332, 8.333333333333332, 8.333333333333332, 8.333333333333332, 8.333333333333332, 8.333333333333332, 8.333333333333332, 8.333333333333332, 8.333333333333332, 8.333333333333332, 8.333333333333332, 8.333333333333332, 8.333333333333332, 8.333333333333332, 8.333333333333332]}, \"type\": \"scatter\", \"x\": [103, 38, 144, 156, 6, 32, 49, 1, 77, 3, 64, 74, 34, 169, 141, 2, 173, 146, 175, 87, 2, 21, 7, 5, 72, 23, 185, 87, 120, 135, 87, 52, 185, 187, 100, 162, 97, 143, 11, 3, 4, 39, 67, 94, 61, 31, 163, 101, 24, 190, 65, 74, 36, 125, 175, 1, 20, 158, 127, 36, 44, 9, 190, 12, 163, 11, 19, 31, 143, 72, 192, 108, 112, 190, 99, 142, 141, 27, 172, 124, 103, 38, 128, 145, 178, 141, 121, 168, 192, 74, 164, 24, 167, 192, 96, 99, 57, 34, 46, 4, 79, 94, 124, 86, 131, 38, 73, 106, 145, 158, 79, 74, 193, 18, 117, 87, 67, 35, 67, 80, 34, 6, 1, 73, 128, 169, 50, 25, 142, 96, 92, 137, 137, 171, 155, 133, 107, 83, 129, 160, 20, 91, 74, 158, 109, 42, 18, 119, 150, 164, 101, 193, 141, 129, 96, 141, 97, 192, 49, 79, 17, 99, 127, 3, 126, 60, 108, 60, 75, 43, 162, 101, 46, 120, 129, 1, 106, 81, 101, 28, 84, 187, 194, 118, 171, 128, 97, 125, 168, 88, 178, 116, 40, 178, 68, 63, 171, 177, 1, 120], \"y\": [5, 238, 93, 329, 186, 96, 150, 53, 307, 366, 62, 146, 6, 256, 224, 288, 6, 18, 89, 34, 332, 300, 160, 19, 264, 1, 328, 260, 186, 182, 18, 81, 224, 371, 152, 251, 302, 333, 334, 257, 384, 198, 3, 1, 46, 291, 3, 241, 87, 53, 129, 4, 339, 93, 234, 172, 137, 295, 257, 227, 167, 169, 156, 8, 222, 124, 278, 3, 358, 114, 231, 365, 197, 10, 109, 157, 102, 337, 215, 2, 111, 304, 25, 4, 353, 70, 120, 66, 309, 230, 43, 40, 310, 100, 57, 391, 7, 168, 232, 123, 259, 276, 115, 130, 236, 173, 352, 305, 104, 116, 272, 165, 204, 337, 295, 384, 46, 20, 28, 129, 78, 214, 240, 80, 146, 255, 194, 109, 200, 83, 126, 210, 263, 25, 1, 224, 343, 273, 205, 308, 360, 345, 183, 237, 2, 77, 31, 53, 367, 182, 27, 331, 132, 173, 123, 53, 209, 275, 333, 289, 168, 36, 346, 357, 332, 317, 176, 391, 211, 54, 116, 56, 75, 393, 375, 161, 56, 19, 146, 389, 254, 199, 354, 81, 40, 184, 290, 53, 191, 70, 383, 244, 289, 342, 307, 93, 12, 217, 5, 350]}],\n",
       "                        {\"template\": {\"data\": {\"bar\": [{\"error_x\": {\"color\": \"#2a3f5f\"}, \"error_y\": {\"color\": \"#2a3f5f\"}, \"marker\": {\"line\": {\"color\": \"#E5ECF6\", \"width\": 0.5}}, \"type\": \"bar\"}], \"barpolar\": [{\"marker\": {\"line\": {\"color\": \"#E5ECF6\", \"width\": 0.5}}, \"type\": \"barpolar\"}], \"carpet\": [{\"aaxis\": {\"endlinecolor\": \"#2a3f5f\", \"gridcolor\": \"white\", \"linecolor\": \"white\", \"minorgridcolor\": \"white\", \"startlinecolor\": \"#2a3f5f\"}, \"baxis\": {\"endlinecolor\": \"#2a3f5f\", \"gridcolor\": \"white\", \"linecolor\": \"white\", \"minorgridcolor\": \"white\", \"startlinecolor\": \"#2a3f5f\"}, \"type\": \"carpet\"}], \"choropleth\": [{\"colorbar\": {\"outlinewidth\": 0, \"ticks\": \"\"}, \"type\": \"choropleth\"}], \"contour\": [{\"colorbar\": {\"outlinewidth\": 0, \"ticks\": \"\"}, \"colorscale\": [[0.0, \"#0d0887\"], [0.1111111111111111, \"#46039f\"], [0.2222222222222222, \"#7201a8\"], [0.3333333333333333, \"#9c179e\"], [0.4444444444444444, \"#bd3786\"], [0.5555555555555556, \"#d8576b\"], [0.6666666666666666, \"#ed7953\"], [0.7777777777777778, \"#fb9f3a\"], [0.8888888888888888, \"#fdca26\"], [1.0, \"#f0f921\"]], \"type\": \"contour\"}], \"contourcarpet\": [{\"colorbar\": {\"outlinewidth\": 0, \"ticks\": \"\"}, \"type\": \"contourcarpet\"}], \"heatmap\": [{\"colorbar\": {\"outlinewidth\": 0, \"ticks\": \"\"}, \"colorscale\": [[0.0, \"#0d0887\"], [0.1111111111111111, \"#46039f\"], [0.2222222222222222, \"#7201a8\"], [0.3333333333333333, \"#9c179e\"], [0.4444444444444444, \"#bd3786\"], [0.5555555555555556, \"#d8576b\"], [0.6666666666666666, \"#ed7953\"], [0.7777777777777778, \"#fb9f3a\"], [0.8888888888888888, \"#fdca26\"], [1.0, \"#f0f921\"]], \"type\": \"heatmap\"}], \"heatmapgl\": [{\"colorbar\": {\"outlinewidth\": 0, \"ticks\": \"\"}, \"colorscale\": [[0.0, \"#0d0887\"], [0.1111111111111111, \"#46039f\"], [0.2222222222222222, \"#7201a8\"], [0.3333333333333333, \"#9c179e\"], [0.4444444444444444, \"#bd3786\"], [0.5555555555555556, \"#d8576b\"], [0.6666666666666666, \"#ed7953\"], [0.7777777777777778, \"#fb9f3a\"], [0.8888888888888888, \"#fdca26\"], [1.0, \"#f0f921\"]], \"type\": \"heatmapgl\"}], \"histogram\": [{\"marker\": {\"colorbar\": {\"outlinewidth\": 0, \"ticks\": \"\"}}, \"type\": \"histogram\"}], \"histogram2d\": [{\"colorbar\": {\"outlinewidth\": 0, \"ticks\": \"\"}, \"colorscale\": [[0.0, \"#0d0887\"], [0.1111111111111111, \"#46039f\"], [0.2222222222222222, \"#7201a8\"], [0.3333333333333333, \"#9c179e\"], [0.4444444444444444, \"#bd3786\"], [0.5555555555555556, \"#d8576b\"], [0.6666666666666666, \"#ed7953\"], [0.7777777777777778, \"#fb9f3a\"], [0.8888888888888888, \"#fdca26\"], [1.0, \"#f0f921\"]], \"type\": \"histogram2d\"}], \"histogram2dcontour\": [{\"colorbar\": {\"outlinewidth\": 0, \"ticks\": \"\"}, \"colorscale\": [[0.0, \"#0d0887\"], [0.1111111111111111, \"#46039f\"], [0.2222222222222222, \"#7201a8\"], [0.3333333333333333, \"#9c179e\"], [0.4444444444444444, \"#bd3786\"], [0.5555555555555556, \"#d8576b\"], [0.6666666666666666, \"#ed7953\"], [0.7777777777777778, \"#fb9f3a\"], [0.8888888888888888, \"#fdca26\"], [1.0, \"#f0f921\"]], \"type\": \"histogram2dcontour\"}], \"mesh3d\": [{\"colorbar\": {\"outlinewidth\": 0, \"ticks\": \"\"}, \"type\": \"mesh3d\"}], \"parcoords\": [{\"line\": {\"colorbar\": {\"outlinewidth\": 0, \"ticks\": \"\"}}, \"type\": \"parcoords\"}], \"scatter\": [{\"marker\": {\"colorbar\": {\"outlinewidth\": 0, \"ticks\": \"\"}}, \"type\": \"scatter\"}], \"scatter3d\": [{\"line\": {\"colorbar\": {\"outlinewidth\": 0, \"ticks\": \"\"}}, \"marker\": {\"colorbar\": {\"outlinewidth\": 0, \"ticks\": \"\"}}, \"type\": \"scatter3d\"}], \"scattercarpet\": [{\"marker\": {\"colorbar\": {\"outlinewidth\": 0, \"ticks\": \"\"}}, \"type\": \"scattercarpet\"}], \"scattergeo\": [{\"marker\": {\"colorbar\": {\"outlinewidth\": 0, \"ticks\": \"\"}}, \"type\": \"scattergeo\"}], \"scattergl\": [{\"marker\": {\"colorbar\": {\"outlinewidth\": 0, \"ticks\": \"\"}}, \"type\": \"scattergl\"}], \"scattermapbox\": [{\"marker\": {\"colorbar\": {\"outlinewidth\": 0, \"ticks\": \"\"}}, \"type\": \"scattermapbox\"}], \"scatterpolar\": [{\"marker\": {\"colorbar\": {\"outlinewidth\": 0, \"ticks\": \"\"}}, \"type\": \"scatterpolar\"}], \"scatterpolargl\": [{\"marker\": {\"colorbar\": {\"outlinewidth\": 0, \"ticks\": \"\"}}, \"type\": \"scatterpolargl\"}], \"scatterternary\": [{\"marker\": {\"colorbar\": {\"outlinewidth\": 0, \"ticks\": \"\"}}, \"type\": \"scatterternary\"}], \"surface\": [{\"colorbar\": {\"outlinewidth\": 0, \"ticks\": \"\"}, \"colorscale\": [[0.0, \"#0d0887\"], [0.1111111111111111, \"#46039f\"], [0.2222222222222222, \"#7201a8\"], [0.3333333333333333, \"#9c179e\"], [0.4444444444444444, \"#bd3786\"], [0.5555555555555556, \"#d8576b\"], [0.6666666666666666, \"#ed7953\"], [0.7777777777777778, \"#fb9f3a\"], [0.8888888888888888, \"#fdca26\"], [1.0, \"#f0f921\"]], \"type\": \"surface\"}], \"table\": [{\"cells\": {\"fill\": {\"color\": \"#EBF0F8\"}, \"line\": {\"color\": \"white\"}}, \"header\": {\"fill\": {\"color\": \"#C8D4E3\"}, \"line\": {\"color\": \"white\"}}, \"type\": \"table\"}]}, \"layout\": {\"annotationdefaults\": {\"arrowcolor\": \"#2a3f5f\", \"arrowhead\": 0, \"arrowwidth\": 1}, \"colorscale\": {\"diverging\": [[0, \"#8e0152\"], [0.1, \"#c51b7d\"], [0.2, \"#de77ae\"], [0.3, \"#f1b6da\"], [0.4, \"#fde0ef\"], [0.5, \"#f7f7f7\"], [0.6, \"#e6f5d0\"], [0.7, \"#b8e186\"], [0.8, \"#7fbc41\"], [0.9, \"#4d9221\"], [1, \"#276419\"]], \"sequential\": [[0.0, \"#0d0887\"], [0.1111111111111111, \"#46039f\"], [0.2222222222222222, \"#7201a8\"], [0.3333333333333333, \"#9c179e\"], [0.4444444444444444, \"#bd3786\"], [0.5555555555555556, \"#d8576b\"], [0.6666666666666666, \"#ed7953\"], [0.7777777777777778, \"#fb9f3a\"], [0.8888888888888888, \"#fdca26\"], [1.0, \"#f0f921\"]], \"sequentialminus\": [[0.0, \"#0d0887\"], [0.1111111111111111, \"#46039f\"], [0.2222222222222222, \"#7201a8\"], [0.3333333333333333, \"#9c179e\"], [0.4444444444444444, \"#bd3786\"], [0.5555555555555556, \"#d8576b\"], [0.6666666666666666, \"#ed7953\"], [0.7777777777777778, \"#fb9f3a\"], [0.8888888888888888, \"#fdca26\"], [1.0, \"#f0f921\"]]}, \"colorway\": [\"#636efa\", \"#EF553B\", \"#00cc96\", \"#ab63fa\", \"#FFA15A\", \"#19d3f3\", \"#FF6692\", \"#B6E880\", \"#FF97FF\", \"#FECB52\"], \"font\": {\"color\": \"#2a3f5f\"}, \"geo\": {\"bgcolor\": \"white\", \"lakecolor\": \"white\", \"landcolor\": \"#E5ECF6\", \"showlakes\": true, \"showland\": true, \"subunitcolor\": \"white\"}, \"hoverlabel\": {\"align\": \"left\"}, \"hovermode\": \"closest\", \"mapbox\": {\"style\": \"light\"}, \"paper_bgcolor\": \"white\", \"plot_bgcolor\": \"#E5ECF6\", \"polar\": {\"angularaxis\": {\"gridcolor\": \"white\", \"linecolor\": \"white\", \"ticks\": \"\"}, \"bgcolor\": \"#E5ECF6\", \"radialaxis\": {\"gridcolor\": \"white\", \"linecolor\": \"white\", \"ticks\": \"\"}}, \"scene\": {\"xaxis\": {\"backgroundcolor\": \"#E5ECF6\", \"gridcolor\": \"white\", \"gridwidth\": 2, \"linecolor\": \"white\", \"showbackground\": true, \"ticks\": \"\", \"zerolinecolor\": \"white\"}, \"yaxis\": {\"backgroundcolor\": \"#E5ECF6\", \"gridcolor\": \"white\", \"gridwidth\": 2, \"linecolor\": \"white\", \"showbackground\": true, \"ticks\": \"\", \"zerolinecolor\": \"white\"}, \"zaxis\": {\"backgroundcolor\": \"#E5ECF6\", \"gridcolor\": \"white\", \"gridwidth\": 2, \"linecolor\": \"white\", \"showbackground\": true, \"ticks\": \"\", \"zerolinecolor\": \"white\"}}, \"shapedefaults\": {\"line\": {\"color\": \"#2a3f5f\"}}, \"ternary\": {\"aaxis\": {\"gridcolor\": \"white\", \"linecolor\": \"white\", \"ticks\": \"\"}, \"baxis\": {\"gridcolor\": \"white\", \"linecolor\": \"white\", \"ticks\": \"\"}, \"bgcolor\": \"#E5ECF6\", \"caxis\": {\"gridcolor\": \"white\", \"linecolor\": \"white\", \"ticks\": \"\"}}, \"title\": {\"x\": 0.05}, \"xaxis\": {\"automargin\": true, \"gridcolor\": \"white\", \"linecolor\": \"white\", \"ticks\": \"\", \"zerolinecolor\": \"white\", \"zerolinewidth\": 2}, \"yaxis\": {\"automargin\": true, \"gridcolor\": \"white\", \"linecolor\": \"white\", \"ticks\": \"\", \"zerolinecolor\": \"white\", \"zerolinewidth\": 2}}}, \"xaxis\": {\"showgrid\": false, \"showticklabels\": false, \"zeroline\": false}, \"yaxis\": {\"showgrid\": false, \"showticklabels\": false, \"zeroline\": false}},\n",
       "                        {\"responsive\": true}\n",
       "                    ).then(function(){\n",
       "                            \n",
       "var gd = document.getElementById('c8b29a9a-ed5a-4381-8391-d5713bd5b8f2');\n",
       "var x = new MutationObserver(function (mutations, observer) {{\n",
       "        var display = window.getComputedStyle(gd).display;\n",
       "        if (!display || display === 'none') {{\n",
       "            console.log([gd, 'removed!']);\n",
       "            Plotly.purge(gd);\n",
       "            observer.disconnect();\n",
       "        }}\n",
       "}});\n",
       "\n",
       "// Listen for the removal of the full notebook cells\n",
       "var notebookContainer = gd.closest('#notebook-container');\n",
       "if (notebookContainer) {{\n",
       "    x.observe(notebookContainer, {childList: true});\n",
       "}}\n",
       "\n",
       "// Listen for the clearing of the current output cell\n",
       "var outputEl = gd.closest('.output');\n",
       "if (outputEl) {{\n",
       "    x.observe(outputEl, {childList: true});\n",
       "}}\n",
       "\n",
       "                        })\n",
       "                };\n",
       "                });\n",
       "            </script>\n",
       "        </div>"
      ]
     },
     "metadata": {},
     "output_type": "display_data"
    }
   ],
   "source": [
    "pos_comments = '.'.join(df_pos['content'])\n",
    "iplot(pwc(pos_comments))"
   ]
  },
  {
   "cell_type": "code",
   "execution_count": 17,
   "metadata": {},
   "outputs": [
    {
     "data": {
      "application/vnd.plotly.v1+json": {
       "config": {
        "linkText": "Export to plot.ly",
        "plotlyServerURL": "https://plot.ly",
        "showLink": false
       },
       "data": [
        {
         "hoverinfo": "text",
         "hovertext": [
          "movie1.0",
          "book0.7272727272727273",
          "story0.6363636363636364",
          "Little Prince0.4",
          "film0.38181818181818183",
          "one0.34545454545454546",
          "animation0.32727272727272727",
          "read0.3090909090909091",
          "first0.2909090909090909",
          "character0.23636363636363636",
          "make0.23636363636363636",
          "kid0.23636363636363636",
          "know0.2",
          "even0.2",
          "part0.2",
          "little0.18181818181818182",
          "see0.18181818181818182",
          "time0.18181818181818182",
          "adult0.18181818181818182",
          "original0.16363636363636364",
          "children0.16363636363636364",
          "way0.16363636363636364",
          "lot0.14545454545454545",
          "French0.14545454545454545",
          "will0.14545454545454545",
          "really0.14545454545454545",
          "people0.12727272727272726",
          "version0.12727272727272726",
          "well0.12727272727272726",
          "world0.12727272727272726",
          "great0.12727272727272726",
          "Math0.12727272727272726",
          "Le petit0.12727272727272726",
          "petit prince0.12727272727272726",
          "thing0.10909090909090909",
          "two0.10909090909090909",
          "different0.10909090909090909",
          "seen0.10909090909090909",
          "say0.10909090909090909",
          "love0.10909090909090909",
          "girl0.10909090909090909",
          "good0.10909090909090909",
          "watching0.10909090909090909",
          "take0.10909090909090909",
          "second0.10909090909090909",
          "real0.10909090909090909",
          "go0.10909090909090909",
          "little girl0.10909090909090909",
          "year0.09090909090909091",
          "Aviator0.09090909090909091",
          "name0.09090909090909091",
          "still0.09090909090909091",
          "Maybe0.09090909090909091",
          "got0.09090909090909091",
          "made0.09090909090909091",
          "thought0.09090909090909091",
          "review0.09090909090909091",
          "Yes0.07272727272727272",
          "seeing0.07272727272727272",
          "Hollywood0.07272727272727272",
          "director0.07272727272727272",
          "child0.07272727272727272",
          "whole0.07272727272727272",
          "life0.07272727272727272",
          "ending0.07272727272727272",
          "let0.07272727272727272",
          "better0.07272727272727272",
          "every0.07272727272727272",
          "friend0.07272727272727272",
          "watched0.07272727272727272",
          "France0.07272727272727272",
          "anything0.07272727272727272",
          "learn0.07272727272727272",
          "understand0.07272727272727272",
          "think0.07272727272727272",
          "modern0.07272727272727272",
          "small0.07272727272727272",
          "stop motion0.07272727272727272",
          "old man0.07272727272727272",
          "Jeff Bridge0.07272727272727272",
          "year old0.07272727272727272",
          "St Exupéry0.07272727272727272",
          "already0.05454545454545454",
          "Prince0.05454545454545454",
          "want0.05454545454545454",
          "end0.05454545454545454",
          "stories0.05454545454545454",
          "may0.05454545454545454",
          "importance0.05454545454545454",
          "childhood0.05454545454545454",
          "become0.05454545454545454",
          "eye0.05454545454545454",
          "mother0.05454545454545454",
          "minutes0.05454545454545454",
          "completely0.05454545454545454",
          "voice0.05454545454545454",
          "new0.05454545454545454",
          "kind0.05454545454545454",
          "storyline0.05454545454545454",
          "lines0.05454545454545454",
          "problem0.05454545454545454",
          "Instead0.05454545454545454",
          "wrong0.05454545454545454",
          "course0.05454545454545454",
          "expecting0.05454545454545454",
          "science0.05454545454545454",
          "create0.05454545454545454",
          "mind0.05454545454545454",
          "least0.05454545454545454",
          "perfectly0.05454545454545454",
          "detail0.05454545454545454",
          "right0.05454545454545454",
          "gets0.05454545454545454",
          "need0.05454545454545454",
          "tell0.05454545454545454",
          "open0.05454545454545454",
          "school0.05454545454545454",
          "complex0.05454545454545454",
          "always0.05454545454545454",
          "yet0.05454545454545454",
          "touching0.05454545454545454",
          "credits0.05454545454545454",
          "incredible0.05454545454545454",
          "day0.05454545454545454",
          "though0.05454545454545454",
          "actor0.05454545454545454",
          "something0.05454545454545454",
          "wonderful0.05454545454545454",
          "visual0.05454545454545454",
          "hear0.05454545454545454",
          "many0.05454545454545454",
          "put0.05454545454545454",
          "watch0.05454545454545454",
          "must0.05454545454545454",
          "best0.05454545454545454",
          "hour0.05454545454545454",
          "boring0.05454545454545454",
          "disappointed0.05454545454545454",
          "frame0.05454545454545454",
          "tale0.05454545454545454",
          "fairly0.05454545454545454",
          "fan0.05454545454545454",
          "amazing0.05454545454545454",
          "loved0.05454545454545454",
          "give0.05454545454545454",
          "beautiful0.05454545454545454",
          "age0.05454545454545454"
         ],
         "mode": "text",
         "text": [
          "movie",
          "book",
          "story",
          "Little Prince",
          "film",
          "one",
          "animation",
          "read",
          "first",
          "character",
          "make",
          "kid",
          "know",
          "even",
          "part",
          "little",
          "see",
          "time",
          "adult",
          "original",
          "children",
          "way",
          "lot",
          "French",
          "will",
          "really",
          "people",
          "version",
          "well",
          "world",
          "great",
          "Math",
          "Le petit",
          "petit prince",
          "thing",
          "two",
          "different",
          "seen",
          "say",
          "love",
          "girl",
          "good",
          "watching",
          "take",
          "second",
          "real",
          "go",
          "little girl",
          "year",
          "Aviator",
          "name",
          "still",
          "Maybe",
          "got",
          "made",
          "thought",
          "review",
          "Yes",
          "seeing",
          "Hollywood",
          "director",
          "child",
          "whole",
          "life",
          "ending",
          "let",
          "better",
          "every",
          "friend",
          "watched",
          "France",
          "anything",
          "learn",
          "understand",
          "think",
          "modern",
          "small",
          "stop motion",
          "old man",
          "Jeff Bridge",
          "year old",
          "St Exupéry",
          "already",
          "Prince",
          "want",
          "end",
          "stories",
          "may",
          "importance",
          "childhood",
          "become",
          "eye",
          "mother",
          "minutes",
          "completely",
          "voice",
          "new",
          "kind",
          "storyline",
          "lines",
          "problem",
          "Instead",
          "wrong",
          "course",
          "expecting",
          "science",
          "create",
          "mind",
          "least",
          "perfectly",
          "detail",
          "right",
          "gets",
          "need",
          "tell",
          "open",
          "school",
          "complex",
          "always",
          "yet",
          "touching",
          "credits",
          "incredible",
          "day",
          "though",
          "actor",
          "something",
          "wonderful",
          "visual",
          "hear",
          "many",
          "put",
          "watch",
          "must",
          "best",
          "hour",
          "boring",
          "disappointed",
          "frame",
          "tale",
          "fairly",
          "fan",
          "amazing",
          "loved",
          "give",
          "beautiful",
          "age"
         ],
         "textfont": {
          "color": [
           "rgb(34, 168, 132)",
           "rgb(47, 107, 142)",
           "rgb(33, 142, 141)",
           "rgb(74, 193, 109)",
           "rgb(32, 147, 140)",
           "rgb(43, 117, 142)",
           "rgb(36, 134, 142)",
           "rgb(71, 16, 99)",
           "rgb(44, 177, 126)",
           "rgb(46, 111, 142)",
           "rgb(31, 154, 138)",
           "rgb(60, 80, 139)",
           "rgb(52, 96, 141)",
           "rgb(35, 137, 142)",
           "rgb(34, 168, 132)",
           "rgb(36, 134, 142)",
           "rgb(70, 192, 111)",
           "rgb(32, 163, 134)",
           "rgb(49, 104, 142)",
           "rgb(69, 55, 129)",
           "rgb(129, 211, 77)",
           "rgb(52, 182, 121)",
           "rgb(50, 100, 142)",
           "rgb(78, 195, 107)",
           "rgb(39, 127, 142)",
           "rgb(63, 72, 137)",
           "rgb(56, 185, 119)",
           "rgb(72, 36, 117)",
           "rgb(44, 114, 142)",
           "rgb(34, 140, 141)",
           "rgb(88, 199, 101)",
           "rgb(63, 72, 137)",
           "rgb(42, 118, 142)",
           "rgb(64, 189, 114)",
           "rgb(66, 63, 133)",
           "rgb(229, 228, 25)",
           "rgb(231, 228, 25)",
           "rgb(72, 28, 110)",
           "rgb(72, 24, 106)",
           "rgb(34, 168, 132)",
           "rgb(72, 22, 104)",
           "rgb(44, 114, 142)",
           "rgb(149, 216, 64)",
           "rgb(45, 112, 142)",
           "rgb(239, 229, 28)",
           "rgb(70, 48, 126)",
           "rgb(58, 84, 140)",
           "rgb(33, 142, 141)",
           "rgb(51, 99, 141)",
           "rgb(52, 97, 141)",
           "rgb(108, 205, 90)",
           "rgb(197, 224, 33)",
           "rgb(31, 153, 138)",
           "rgb(55, 184, 120)",
           "rgb(52, 182, 121)",
           "rgb(64, 70, 136)",
           "rgb(53, 94, 141)",
           "rgb(70, 10, 93)",
           "rgb(200, 224, 32)",
           "rgb(44, 114, 142)",
           "rgb(63, 72, 137)",
           "rgb(51, 98, 141)",
           "rgb(33, 165, 133)",
           "rgb(30, 157, 137)",
           "rgb(61, 78, 138)",
           "rgb(78, 195, 107)",
           "rgb(42, 120, 142)",
           "rgb(44, 115, 142)",
           "rgb(37, 172, 130)",
           "rgb(108, 205, 90)",
           "rgb(31, 161, 136)",
           "rgb(30, 155, 138)",
           "rgb(33, 165, 133)",
           "rgb(44, 115, 142)",
           "rgb(248, 230, 33)",
           "rgb(61, 77, 138)",
           "rgb(32, 146, 140)",
           "rgb(86, 198, 103)",
           "rgb(181, 222, 43)",
           "rgb(61, 188, 116)",
           "rgb(70, 8, 92)",
           "rgb(124, 210, 80)",
           "rgb(49, 102, 142)",
           "rgb(55, 184, 120)",
           "rgb(59, 187, 117)",
           "rgb(43, 117, 142)",
           "rgb(124, 210, 80)",
           "rgb(71, 44, 122)",
           "rgb(82, 197, 105)",
           "rgb(68, 58, 131)",
           "rgb(70, 50, 126)",
           "rgb(41, 121, 142)",
           "rgb(71, 46, 124)",
           "rgb(31, 151, 139)",
           "rgb(129, 211, 77)",
           "rgb(70, 50, 126)",
           "rgb(170, 220, 50)",
           "rgb(205, 225, 29)",
           "rgb(43, 117, 142)",
           "rgb(58, 186, 118)",
           "rgb(46, 110, 142)",
           "rgb(34, 140, 141)",
           "rgb(221, 227, 24)",
           "rgb(94, 201, 98)",
           "rgb(61, 77, 138)",
           "rgb(42, 120, 142)",
           "rgb(58, 83, 139)",
           "rgb(70, 11, 94)",
           "rgb(178, 221, 45)",
           "rgb(139, 214, 70)",
           "rgb(142, 214, 69)",
           "rgb(251, 231, 35)",
           "rgb(66, 64, 134)",
           "rgb(72, 23, 105)",
           "rgb(44, 113, 142)",
           "rgb(64, 70, 136)",
           "rgb(70, 8, 92)",
           "rgb(63, 72, 137)",
           "rgb(86, 198, 103)",
           "rgb(70, 7, 90)",
           "rgb(70, 11, 94)",
           "rgb(218, 227, 25)",
           "rgb(31, 161, 135)",
           "rgb(32, 146, 140)",
           "rgb(63, 188, 115)",
           "rgb(236, 229, 27)",
           "rgb(51, 98, 141)",
           "rgb(56, 89, 140)",
           "rgb(32, 163, 134)",
           "rgb(51, 98, 141)",
           "rgb(108, 205, 90)",
           "rgb(48, 105, 142)",
           "rgb(70, 8, 92)",
           "rgb(69, 53, 129)",
           "rgb(47, 108, 142)",
           "rgb(58, 83, 139)",
           "rgb(251, 231, 35)",
           "rgb(31, 152, 139)",
           "rgb(112, 207, 87)",
           "rgb(197, 224, 33)",
           "rgb(47, 107, 142)",
           "rgb(32, 164, 134)",
           "rgb(53, 95, 141)",
           "rgb(170, 220, 50)",
           "rgb(56, 185, 119)",
           "rgb(64, 70, 136)",
           "rgb(155, 217, 60)"
          ],
          "size": [
           100,
           72.72727272727273,
           63.63636363636363,
           40,
           38.18181818181819,
           34.54545454545455,
           32.72727272727273,
           30.909090909090907,
           29.09090909090909,
           23.636363636363637,
           23.636363636363637,
           23.636363636363637,
           20,
           20,
           20,
           18.181818181818183,
           18.181818181818183,
           18.181818181818183,
           18.181818181818183,
           16.363636363636363,
           16.363636363636363,
           16.363636363636363,
           14.545454545454545,
           14.545454545454545,
           14.545454545454545,
           14.545454545454545,
           12.727272727272727,
           12.727272727272727,
           12.727272727272727,
           12.727272727272727,
           12.727272727272727,
           12.727272727272727,
           12.727272727272727,
           12.727272727272727,
           10.909090909090908,
           10.909090909090908,
           10.909090909090908,
           10.909090909090908,
           10.909090909090908,
           10.909090909090908,
           10.909090909090908,
           10.909090909090908,
           10.909090909090908,
           10.909090909090908,
           10.909090909090908,
           10.909090909090908,
           10.909090909090908,
           10.909090909090908,
           9.090909090909092,
           9.090909090909092,
           9.090909090909092,
           9.090909090909092,
           9.090909090909092,
           9.090909090909092,
           9.090909090909092,
           9.090909090909092,
           9.090909090909092,
           7.2727272727272725,
           7.2727272727272725,
           7.2727272727272725,
           7.2727272727272725,
           7.2727272727272725,
           7.2727272727272725,
           7.2727272727272725,
           7.2727272727272725,
           7.2727272727272725,
           7.2727272727272725,
           7.2727272727272725,
           7.2727272727272725,
           7.2727272727272725,
           7.2727272727272725,
           7.2727272727272725,
           7.2727272727272725,
           7.2727272727272725,
           7.2727272727272725,
           7.2727272727272725,
           7.2727272727272725,
           7.2727272727272725,
           7.2727272727272725,
           7.2727272727272725,
           7.2727272727272725,
           7.2727272727272725,
           5.454545454545454,
           5.454545454545454,
           5.454545454545454,
           5.454545454545454,
           5.454545454545454,
           5.454545454545454,
           5.454545454545454,
           5.454545454545454,
           5.454545454545454,
           5.454545454545454,
           5.454545454545454,
           5.454545454545454,
           5.454545454545454,
           5.454545454545454,
           5.454545454545454,
           5.454545454545454,
           5.454545454545454,
           5.454545454545454,
           5.454545454545454,
           5.454545454545454,
           5.454545454545454,
           5.454545454545454,
           5.454545454545454,
           5.454545454545454,
           5.454545454545454,
           5.454545454545454,
           5.454545454545454,
           5.454545454545454,
           5.454545454545454,
           5.454545454545454,
           5.454545454545454,
           5.454545454545454,
           5.454545454545454,
           5.454545454545454,
           5.454545454545454,
           5.454545454545454,
           5.454545454545454,
           5.454545454545454,
           5.454545454545454,
           5.454545454545454,
           5.454545454545454,
           5.454545454545454,
           5.454545454545454,
           5.454545454545454,
           5.454545454545454,
           5.454545454545454,
           5.454545454545454,
           5.454545454545454,
           5.454545454545454,
           5.454545454545454,
           5.454545454545454,
           5.454545454545454,
           5.454545454545454,
           5.454545454545454,
           5.454545454545454,
           5.454545454545454,
           5.454545454545454,
           5.454545454545454,
           5.454545454545454,
           5.454545454545454,
           5.454545454545454,
           5.454545454545454,
           5.454545454545454,
           5.454545454545454,
           5.454545454545454
          ]
         },
         "type": "scatter",
         "x": [
          75,
          6,
          2,
          152,
          56,
          88,
          72,
          84,
          1,
          90,
          22,
          117,
          113,
          47,
          129,
          57,
          74,
          5,
          76,
          83,
          187,
          3,
          143,
          6,
          31,
          104,
          43,
          152,
          187,
          190,
          104,
          2,
          13,
          187,
          147,
          158,
          104,
          16,
          82,
          190,
          43,
          167,
          102,
          77,
          48,
          128,
          35,
          189,
          45,
          2,
          168,
          190,
          174,
          82,
          1,
          152,
          140,
          131,
          75,
          15,
          192,
          16,
          174,
          41,
          114,
          2,
          17,
          172,
          2,
          151,
          119,
          87,
          189,
          153,
          91,
          123,
          177,
          133,
          191,
          56,
          95,
          135,
          22,
          156,
          91,
          50,
          168,
          63,
          20,
          24,
          133,
          153,
          173,
          18,
          119,
          4,
          144,
          67,
          12,
          8,
          75,
          156,
          128,
          172,
          187,
          38,
          81,
          95,
          73,
          157,
          171,
          103,
          57,
          50,
          90,
          95,
          18,
          154,
          134,
          42,
          75,
          184,
          193,
          162,
          63,
          78,
          43,
          81,
          93,
          52,
          159,
          158,
          35,
          31,
          86,
          120,
          191,
          119,
          1,
          142,
          137,
          46,
          35,
          166,
          5,
          17,
          175
         ],
         "y": [
          55,
          21,
          226,
          11,
          301,
          357,
          82,
          4,
          79,
          378,
          7,
          224,
          4,
          252,
          1,
          236,
          225,
          36,
          274,
          208,
          155,
          211,
          227,
          151,
          343,
          12,
          325,
          164,
          18,
          229,
          234,
          2,
          143,
          304,
          23,
          25,
          48,
          198,
          296,
          65,
          304,
          179,
          287,
          30,
          220,
          332,
          174,
          86,
          89,
          332,
          25,
          270,
          111,
          315,
          248,
          233,
          169,
          142,
          59,
          260,
          373,
          290,
          329,
          39,
          135,
          374,
          100,
          255,
          301,
          280,
          135,
          327,
          43,
          327,
          161,
          137,
          181,
          219,
          132,
          363,
          193,
          271,
          166,
          59,
          296,
          315,
          109,
          123,
          225,
          63,
          174,
          115,
          34,
          61,
          349,
          289,
          17,
          205,
          6,
          199,
          289,
          285,
          314,
          58,
          209,
          90,
          11,
          295,
          211,
          203,
          81,
          202,
          220,
          299,
          236,
          232,
          343,
          141,
          319,
          210,
          316,
          250,
          35,
          374,
          342,
          206,
          138,
          61,
          112,
          342,
          141,
          123,
          42,
          121,
          389,
          199,
          215,
          89,
          158,
          111,
          244,
          172,
          142,
          95,
          319,
          4,
          225
         ]
        }
       ],
       "layout": {
        "template": {
         "data": {
          "bar": [
           {
            "error_x": {
             "color": "#2a3f5f"
            },
            "error_y": {
             "color": "#2a3f5f"
            },
            "marker": {
             "line": {
              "color": "#E5ECF6",
              "width": 0.5
             }
            },
            "type": "bar"
           }
          ],
          "barpolar": [
           {
            "marker": {
             "line": {
              "color": "#E5ECF6",
              "width": 0.5
             }
            },
            "type": "barpolar"
           }
          ],
          "carpet": [
           {
            "aaxis": {
             "endlinecolor": "#2a3f5f",
             "gridcolor": "white",
             "linecolor": "white",
             "minorgridcolor": "white",
             "startlinecolor": "#2a3f5f"
            },
            "baxis": {
             "endlinecolor": "#2a3f5f",
             "gridcolor": "white",
             "linecolor": "white",
             "minorgridcolor": "white",
             "startlinecolor": "#2a3f5f"
            },
            "type": "carpet"
           }
          ],
          "choropleth": [
           {
            "colorbar": {
             "outlinewidth": 0,
             "ticks": ""
            },
            "type": "choropleth"
           }
          ],
          "contour": [
           {
            "colorbar": {
             "outlinewidth": 0,
             "ticks": ""
            },
            "colorscale": [
             [
              0,
              "#0d0887"
             ],
             [
              0.1111111111111111,
              "#46039f"
             ],
             [
              0.2222222222222222,
              "#7201a8"
             ],
             [
              0.3333333333333333,
              "#9c179e"
             ],
             [
              0.4444444444444444,
              "#bd3786"
             ],
             [
              0.5555555555555556,
              "#d8576b"
             ],
             [
              0.6666666666666666,
              "#ed7953"
             ],
             [
              0.7777777777777778,
              "#fb9f3a"
             ],
             [
              0.8888888888888888,
              "#fdca26"
             ],
             [
              1,
              "#f0f921"
             ]
            ],
            "type": "contour"
           }
          ],
          "contourcarpet": [
           {
            "colorbar": {
             "outlinewidth": 0,
             "ticks": ""
            },
            "type": "contourcarpet"
           }
          ],
          "heatmap": [
           {
            "colorbar": {
             "outlinewidth": 0,
             "ticks": ""
            },
            "colorscale": [
             [
              0,
              "#0d0887"
             ],
             [
              0.1111111111111111,
              "#46039f"
             ],
             [
              0.2222222222222222,
              "#7201a8"
             ],
             [
              0.3333333333333333,
              "#9c179e"
             ],
             [
              0.4444444444444444,
              "#bd3786"
             ],
             [
              0.5555555555555556,
              "#d8576b"
             ],
             [
              0.6666666666666666,
              "#ed7953"
             ],
             [
              0.7777777777777778,
              "#fb9f3a"
             ],
             [
              0.8888888888888888,
              "#fdca26"
             ],
             [
              1,
              "#f0f921"
             ]
            ],
            "type": "heatmap"
           }
          ],
          "heatmapgl": [
           {
            "colorbar": {
             "outlinewidth": 0,
             "ticks": ""
            },
            "colorscale": [
             [
              0,
              "#0d0887"
             ],
             [
              0.1111111111111111,
              "#46039f"
             ],
             [
              0.2222222222222222,
              "#7201a8"
             ],
             [
              0.3333333333333333,
              "#9c179e"
             ],
             [
              0.4444444444444444,
              "#bd3786"
             ],
             [
              0.5555555555555556,
              "#d8576b"
             ],
             [
              0.6666666666666666,
              "#ed7953"
             ],
             [
              0.7777777777777778,
              "#fb9f3a"
             ],
             [
              0.8888888888888888,
              "#fdca26"
             ],
             [
              1,
              "#f0f921"
             ]
            ],
            "type": "heatmapgl"
           }
          ],
          "histogram": [
           {
            "marker": {
             "colorbar": {
              "outlinewidth": 0,
              "ticks": ""
             }
            },
            "type": "histogram"
           }
          ],
          "histogram2d": [
           {
            "colorbar": {
             "outlinewidth": 0,
             "ticks": ""
            },
            "colorscale": [
             [
              0,
              "#0d0887"
             ],
             [
              0.1111111111111111,
              "#46039f"
             ],
             [
              0.2222222222222222,
              "#7201a8"
             ],
             [
              0.3333333333333333,
              "#9c179e"
             ],
             [
              0.4444444444444444,
              "#bd3786"
             ],
             [
              0.5555555555555556,
              "#d8576b"
             ],
             [
              0.6666666666666666,
              "#ed7953"
             ],
             [
              0.7777777777777778,
              "#fb9f3a"
             ],
             [
              0.8888888888888888,
              "#fdca26"
             ],
             [
              1,
              "#f0f921"
             ]
            ],
            "type": "histogram2d"
           }
          ],
          "histogram2dcontour": [
           {
            "colorbar": {
             "outlinewidth": 0,
             "ticks": ""
            },
            "colorscale": [
             [
              0,
              "#0d0887"
             ],
             [
              0.1111111111111111,
              "#46039f"
             ],
             [
              0.2222222222222222,
              "#7201a8"
             ],
             [
              0.3333333333333333,
              "#9c179e"
             ],
             [
              0.4444444444444444,
              "#bd3786"
             ],
             [
              0.5555555555555556,
              "#d8576b"
             ],
             [
              0.6666666666666666,
              "#ed7953"
             ],
             [
              0.7777777777777778,
              "#fb9f3a"
             ],
             [
              0.8888888888888888,
              "#fdca26"
             ],
             [
              1,
              "#f0f921"
             ]
            ],
            "type": "histogram2dcontour"
           }
          ],
          "mesh3d": [
           {
            "colorbar": {
             "outlinewidth": 0,
             "ticks": ""
            },
            "type": "mesh3d"
           }
          ],
          "parcoords": [
           {
            "line": {
             "colorbar": {
              "outlinewidth": 0,
              "ticks": ""
             }
            },
            "type": "parcoords"
           }
          ],
          "scatter": [
           {
            "marker": {
             "colorbar": {
              "outlinewidth": 0,
              "ticks": ""
             }
            },
            "type": "scatter"
           }
          ],
          "scatter3d": [
           {
            "line": {
             "colorbar": {
              "outlinewidth": 0,
              "ticks": ""
             }
            },
            "marker": {
             "colorbar": {
              "outlinewidth": 0,
              "ticks": ""
             }
            },
            "type": "scatter3d"
           }
          ],
          "scattercarpet": [
           {
            "marker": {
             "colorbar": {
              "outlinewidth": 0,
              "ticks": ""
             }
            },
            "type": "scattercarpet"
           }
          ],
          "scattergeo": [
           {
            "marker": {
             "colorbar": {
              "outlinewidth": 0,
              "ticks": ""
             }
            },
            "type": "scattergeo"
           }
          ],
          "scattergl": [
           {
            "marker": {
             "colorbar": {
              "outlinewidth": 0,
              "ticks": ""
             }
            },
            "type": "scattergl"
           }
          ],
          "scattermapbox": [
           {
            "marker": {
             "colorbar": {
              "outlinewidth": 0,
              "ticks": ""
             }
            },
            "type": "scattermapbox"
           }
          ],
          "scatterpolar": [
           {
            "marker": {
             "colorbar": {
              "outlinewidth": 0,
              "ticks": ""
             }
            },
            "type": "scatterpolar"
           }
          ],
          "scatterpolargl": [
           {
            "marker": {
             "colorbar": {
              "outlinewidth": 0,
              "ticks": ""
             }
            },
            "type": "scatterpolargl"
           }
          ],
          "scatterternary": [
           {
            "marker": {
             "colorbar": {
              "outlinewidth": 0,
              "ticks": ""
             }
            },
            "type": "scatterternary"
           }
          ],
          "surface": [
           {
            "colorbar": {
             "outlinewidth": 0,
             "ticks": ""
            },
            "colorscale": [
             [
              0,
              "#0d0887"
             ],
             [
              0.1111111111111111,
              "#46039f"
             ],
             [
              0.2222222222222222,
              "#7201a8"
             ],
             [
              0.3333333333333333,
              "#9c179e"
             ],
             [
              0.4444444444444444,
              "#bd3786"
             ],
             [
              0.5555555555555556,
              "#d8576b"
             ],
             [
              0.6666666666666666,
              "#ed7953"
             ],
             [
              0.7777777777777778,
              "#fb9f3a"
             ],
             [
              0.8888888888888888,
              "#fdca26"
             ],
             [
              1,
              "#f0f921"
             ]
            ],
            "type": "surface"
           }
          ],
          "table": [
           {
            "cells": {
             "fill": {
              "color": "#EBF0F8"
             },
             "line": {
              "color": "white"
             }
            },
            "header": {
             "fill": {
              "color": "#C8D4E3"
             },
             "line": {
              "color": "white"
             }
            },
            "type": "table"
           }
          ]
         },
         "layout": {
          "annotationdefaults": {
           "arrowcolor": "#2a3f5f",
           "arrowhead": 0,
           "arrowwidth": 1
          },
          "colorscale": {
           "diverging": [
            [
             0,
             "#8e0152"
            ],
            [
             0.1,
             "#c51b7d"
            ],
            [
             0.2,
             "#de77ae"
            ],
            [
             0.3,
             "#f1b6da"
            ],
            [
             0.4,
             "#fde0ef"
            ],
            [
             0.5,
             "#f7f7f7"
            ],
            [
             0.6,
             "#e6f5d0"
            ],
            [
             0.7,
             "#b8e186"
            ],
            [
             0.8,
             "#7fbc41"
            ],
            [
             0.9,
             "#4d9221"
            ],
            [
             1,
             "#276419"
            ]
           ],
           "sequential": [
            [
             0,
             "#0d0887"
            ],
            [
             0.1111111111111111,
             "#46039f"
            ],
            [
             0.2222222222222222,
             "#7201a8"
            ],
            [
             0.3333333333333333,
             "#9c179e"
            ],
            [
             0.4444444444444444,
             "#bd3786"
            ],
            [
             0.5555555555555556,
             "#d8576b"
            ],
            [
             0.6666666666666666,
             "#ed7953"
            ],
            [
             0.7777777777777778,
             "#fb9f3a"
            ],
            [
             0.8888888888888888,
             "#fdca26"
            ],
            [
             1,
             "#f0f921"
            ]
           ],
           "sequentialminus": [
            [
             0,
             "#0d0887"
            ],
            [
             0.1111111111111111,
             "#46039f"
            ],
            [
             0.2222222222222222,
             "#7201a8"
            ],
            [
             0.3333333333333333,
             "#9c179e"
            ],
            [
             0.4444444444444444,
             "#bd3786"
            ],
            [
             0.5555555555555556,
             "#d8576b"
            ],
            [
             0.6666666666666666,
             "#ed7953"
            ],
            [
             0.7777777777777778,
             "#fb9f3a"
            ],
            [
             0.8888888888888888,
             "#fdca26"
            ],
            [
             1,
             "#f0f921"
            ]
           ]
          },
          "colorway": [
           "#636efa",
           "#EF553B",
           "#00cc96",
           "#ab63fa",
           "#FFA15A",
           "#19d3f3",
           "#FF6692",
           "#B6E880",
           "#FF97FF",
           "#FECB52"
          ],
          "font": {
           "color": "#2a3f5f"
          },
          "geo": {
           "bgcolor": "white",
           "lakecolor": "white",
           "landcolor": "#E5ECF6",
           "showlakes": true,
           "showland": true,
           "subunitcolor": "white"
          },
          "hoverlabel": {
           "align": "left"
          },
          "hovermode": "closest",
          "mapbox": {
           "style": "light"
          },
          "paper_bgcolor": "white",
          "plot_bgcolor": "#E5ECF6",
          "polar": {
           "angularaxis": {
            "gridcolor": "white",
            "linecolor": "white",
            "ticks": ""
           },
           "bgcolor": "#E5ECF6",
           "radialaxis": {
            "gridcolor": "white",
            "linecolor": "white",
            "ticks": ""
           }
          },
          "scene": {
           "xaxis": {
            "backgroundcolor": "#E5ECF6",
            "gridcolor": "white",
            "gridwidth": 2,
            "linecolor": "white",
            "showbackground": true,
            "ticks": "",
            "zerolinecolor": "white"
           },
           "yaxis": {
            "backgroundcolor": "#E5ECF6",
            "gridcolor": "white",
            "gridwidth": 2,
            "linecolor": "white",
            "showbackground": true,
            "ticks": "",
            "zerolinecolor": "white"
           },
           "zaxis": {
            "backgroundcolor": "#E5ECF6",
            "gridcolor": "white",
            "gridwidth": 2,
            "linecolor": "white",
            "showbackground": true,
            "ticks": "",
            "zerolinecolor": "white"
           }
          },
          "shapedefaults": {
           "line": {
            "color": "#2a3f5f"
           }
          },
          "ternary": {
           "aaxis": {
            "gridcolor": "white",
            "linecolor": "white",
            "ticks": ""
           },
           "baxis": {
            "gridcolor": "white",
            "linecolor": "white",
            "ticks": ""
           },
           "bgcolor": "#E5ECF6",
           "caxis": {
            "gridcolor": "white",
            "linecolor": "white",
            "ticks": ""
           }
          },
          "title": {
           "x": 0.05
          },
          "xaxis": {
           "automargin": true,
           "gridcolor": "white",
           "linecolor": "white",
           "ticks": "",
           "zerolinecolor": "white",
           "zerolinewidth": 2
          },
          "yaxis": {
           "automargin": true,
           "gridcolor": "white",
           "linecolor": "white",
           "ticks": "",
           "zerolinecolor": "white",
           "zerolinewidth": 2
          }
         }
        },
        "xaxis": {
         "showgrid": false,
         "showticklabels": false,
         "zeroline": false
        },
        "yaxis": {
         "showgrid": false,
         "showticklabels": false,
         "zeroline": false
        }
       }
      },
      "text/html": [
       "<div>\n",
       "        \n",
       "        \n",
       "            <div id=\"217a0e43-ef8f-441d-9dc0-dadf08d1656d\" class=\"plotly-graph-div\" style=\"height:525px; width:100%;\"></div>\n",
       "            <script type=\"text/javascript\">\n",
       "                require([\"plotly\"], function(Plotly) {\n",
       "                    window.PLOTLYENV=window.PLOTLYENV || {};\n",
       "                    \n",
       "                if (document.getElementById(\"217a0e43-ef8f-441d-9dc0-dadf08d1656d\")) {\n",
       "                    Plotly.newPlot(\n",
       "                        '217a0e43-ef8f-441d-9dc0-dadf08d1656d',\n",
       "                        [{\"hoverinfo\": \"text\", \"hovertext\": [\"movie1.0\", \"book0.7272727272727273\", \"story0.6363636363636364\", \"Little Prince0.4\", \"film0.38181818181818183\", \"one0.34545454545454546\", \"animation0.32727272727272727\", \"read0.3090909090909091\", \"first0.2909090909090909\", \"character0.23636363636363636\", \"make0.23636363636363636\", \"kid0.23636363636363636\", \"know0.2\", \"even0.2\", \"part0.2\", \"little0.18181818181818182\", \"see0.18181818181818182\", \"time0.18181818181818182\", \"adult0.18181818181818182\", \"original0.16363636363636364\", \"children0.16363636363636364\", \"way0.16363636363636364\", \"lot0.14545454545454545\", \"French0.14545454545454545\", \"will0.14545454545454545\", \"really0.14545454545454545\", \"people0.12727272727272726\", \"version0.12727272727272726\", \"well0.12727272727272726\", \"world0.12727272727272726\", \"great0.12727272727272726\", \"Math0.12727272727272726\", \"Le petit0.12727272727272726\", \"petit prince0.12727272727272726\", \"thing0.10909090909090909\", \"two0.10909090909090909\", \"different0.10909090909090909\", \"seen0.10909090909090909\", \"say0.10909090909090909\", \"love0.10909090909090909\", \"girl0.10909090909090909\", \"good0.10909090909090909\", \"watching0.10909090909090909\", \"take0.10909090909090909\", \"second0.10909090909090909\", \"real0.10909090909090909\", \"go0.10909090909090909\", \"little girl0.10909090909090909\", \"year0.09090909090909091\", \"Aviator0.09090909090909091\", \"name0.09090909090909091\", \"still0.09090909090909091\", \"Maybe0.09090909090909091\", \"got0.09090909090909091\", \"made0.09090909090909091\", \"thought0.09090909090909091\", \"review0.09090909090909091\", \"Yes0.07272727272727272\", \"seeing0.07272727272727272\", \"Hollywood0.07272727272727272\", \"director0.07272727272727272\", \"child0.07272727272727272\", \"whole0.07272727272727272\", \"life0.07272727272727272\", \"ending0.07272727272727272\", \"let0.07272727272727272\", \"better0.07272727272727272\", \"every0.07272727272727272\", \"friend0.07272727272727272\", \"watched0.07272727272727272\", \"France0.07272727272727272\", \"anything0.07272727272727272\", \"learn0.07272727272727272\", \"understand0.07272727272727272\", \"think0.07272727272727272\", \"modern0.07272727272727272\", \"small0.07272727272727272\", \"stop motion0.07272727272727272\", \"old man0.07272727272727272\", \"Jeff Bridge0.07272727272727272\", \"year old0.07272727272727272\", \"St Exup\\u00e9ry0.07272727272727272\", \"already0.05454545454545454\", \"Prince0.05454545454545454\", \"want0.05454545454545454\", \"end0.05454545454545454\", \"stories0.05454545454545454\", \"may0.05454545454545454\", \"importance0.05454545454545454\", \"childhood0.05454545454545454\", \"become0.05454545454545454\", \"eye0.05454545454545454\", \"mother0.05454545454545454\", \"minutes0.05454545454545454\", \"completely0.05454545454545454\", \"voice0.05454545454545454\", \"new0.05454545454545454\", \"kind0.05454545454545454\", \"storyline0.05454545454545454\", \"lines0.05454545454545454\", \"problem0.05454545454545454\", \"Instead0.05454545454545454\", \"wrong0.05454545454545454\", \"course0.05454545454545454\", \"expecting0.05454545454545454\", \"science0.05454545454545454\", \"create0.05454545454545454\", \"mind0.05454545454545454\", \"least0.05454545454545454\", \"perfectly0.05454545454545454\", \"detail0.05454545454545454\", \"right0.05454545454545454\", \"gets0.05454545454545454\", \"need0.05454545454545454\", \"tell0.05454545454545454\", \"open0.05454545454545454\", \"school0.05454545454545454\", \"complex0.05454545454545454\", \"always0.05454545454545454\", \"yet0.05454545454545454\", \"touching0.05454545454545454\", \"credits0.05454545454545454\", \"incredible0.05454545454545454\", \"day0.05454545454545454\", \"though0.05454545454545454\", \"actor0.05454545454545454\", \"something0.05454545454545454\", \"wonderful0.05454545454545454\", \"visual0.05454545454545454\", \"hear0.05454545454545454\", \"many0.05454545454545454\", \"put0.05454545454545454\", \"watch0.05454545454545454\", \"must0.05454545454545454\", \"best0.05454545454545454\", \"hour0.05454545454545454\", \"boring0.05454545454545454\", \"disappointed0.05454545454545454\", \"frame0.05454545454545454\", \"tale0.05454545454545454\", \"fairly0.05454545454545454\", \"fan0.05454545454545454\", \"amazing0.05454545454545454\", \"loved0.05454545454545454\", \"give0.05454545454545454\", \"beautiful0.05454545454545454\", \"age0.05454545454545454\"], \"mode\": \"text\", \"text\": [\"movie\", \"book\", \"story\", \"Little Prince\", \"film\", \"one\", \"animation\", \"read\", \"first\", \"character\", \"make\", \"kid\", \"know\", \"even\", \"part\", \"little\", \"see\", \"time\", \"adult\", \"original\", \"children\", \"way\", \"lot\", \"French\", \"will\", \"really\", \"people\", \"version\", \"well\", \"world\", \"great\", \"Math\", \"Le petit\", \"petit prince\", \"thing\", \"two\", \"different\", \"seen\", \"say\", \"love\", \"girl\", \"good\", \"watching\", \"take\", \"second\", \"real\", \"go\", \"little girl\", \"year\", \"Aviator\", \"name\", \"still\", \"Maybe\", \"got\", \"made\", \"thought\", \"review\", \"Yes\", \"seeing\", \"Hollywood\", \"director\", \"child\", \"whole\", \"life\", \"ending\", \"let\", \"better\", \"every\", \"friend\", \"watched\", \"France\", \"anything\", \"learn\", \"understand\", \"think\", \"modern\", \"small\", \"stop motion\", \"old man\", \"Jeff Bridge\", \"year old\", \"St Exup\\u00e9ry\", \"already\", \"Prince\", \"want\", \"end\", \"stories\", \"may\", \"importance\", \"childhood\", \"become\", \"eye\", \"mother\", \"minutes\", \"completely\", \"voice\", \"new\", \"kind\", \"storyline\", \"lines\", \"problem\", \"Instead\", \"wrong\", \"course\", \"expecting\", \"science\", \"create\", \"mind\", \"least\", \"perfectly\", \"detail\", \"right\", \"gets\", \"need\", \"tell\", \"open\", \"school\", \"complex\", \"always\", \"yet\", \"touching\", \"credits\", \"incredible\", \"day\", \"though\", \"actor\", \"something\", \"wonderful\", \"visual\", \"hear\", \"many\", \"put\", \"watch\", \"must\", \"best\", \"hour\", \"boring\", \"disappointed\", \"frame\", \"tale\", \"fairly\", \"fan\", \"amazing\", \"loved\", \"give\", \"beautiful\", \"age\"], \"textfont\": {\"color\": [\"rgb(34, 168, 132)\", \"rgb(47, 107, 142)\", \"rgb(33, 142, 141)\", \"rgb(74, 193, 109)\", \"rgb(32, 147, 140)\", \"rgb(43, 117, 142)\", \"rgb(36, 134, 142)\", \"rgb(71, 16, 99)\", \"rgb(44, 177, 126)\", \"rgb(46, 111, 142)\", \"rgb(31, 154, 138)\", \"rgb(60, 80, 139)\", \"rgb(52, 96, 141)\", \"rgb(35, 137, 142)\", \"rgb(34, 168, 132)\", \"rgb(36, 134, 142)\", \"rgb(70, 192, 111)\", \"rgb(32, 163, 134)\", \"rgb(49, 104, 142)\", \"rgb(69, 55, 129)\", \"rgb(129, 211, 77)\", \"rgb(52, 182, 121)\", \"rgb(50, 100, 142)\", \"rgb(78, 195, 107)\", \"rgb(39, 127, 142)\", \"rgb(63, 72, 137)\", \"rgb(56, 185, 119)\", \"rgb(72, 36, 117)\", \"rgb(44, 114, 142)\", \"rgb(34, 140, 141)\", \"rgb(88, 199, 101)\", \"rgb(63, 72, 137)\", \"rgb(42, 118, 142)\", \"rgb(64, 189, 114)\", \"rgb(66, 63, 133)\", \"rgb(229, 228, 25)\", \"rgb(231, 228, 25)\", \"rgb(72, 28, 110)\", \"rgb(72, 24, 106)\", \"rgb(34, 168, 132)\", \"rgb(72, 22, 104)\", \"rgb(44, 114, 142)\", \"rgb(149, 216, 64)\", \"rgb(45, 112, 142)\", \"rgb(239, 229, 28)\", \"rgb(70, 48, 126)\", \"rgb(58, 84, 140)\", \"rgb(33, 142, 141)\", \"rgb(51, 99, 141)\", \"rgb(52, 97, 141)\", \"rgb(108, 205, 90)\", \"rgb(197, 224, 33)\", \"rgb(31, 153, 138)\", \"rgb(55, 184, 120)\", \"rgb(52, 182, 121)\", \"rgb(64, 70, 136)\", \"rgb(53, 94, 141)\", \"rgb(70, 10, 93)\", \"rgb(200, 224, 32)\", \"rgb(44, 114, 142)\", \"rgb(63, 72, 137)\", \"rgb(51, 98, 141)\", \"rgb(33, 165, 133)\", \"rgb(30, 157, 137)\", \"rgb(61, 78, 138)\", \"rgb(78, 195, 107)\", \"rgb(42, 120, 142)\", \"rgb(44, 115, 142)\", \"rgb(37, 172, 130)\", \"rgb(108, 205, 90)\", \"rgb(31, 161, 136)\", \"rgb(30, 155, 138)\", \"rgb(33, 165, 133)\", \"rgb(44, 115, 142)\", \"rgb(248, 230, 33)\", \"rgb(61, 77, 138)\", \"rgb(32, 146, 140)\", \"rgb(86, 198, 103)\", \"rgb(181, 222, 43)\", \"rgb(61, 188, 116)\", \"rgb(70, 8, 92)\", \"rgb(124, 210, 80)\", \"rgb(49, 102, 142)\", \"rgb(55, 184, 120)\", \"rgb(59, 187, 117)\", \"rgb(43, 117, 142)\", \"rgb(124, 210, 80)\", \"rgb(71, 44, 122)\", \"rgb(82, 197, 105)\", \"rgb(68, 58, 131)\", \"rgb(70, 50, 126)\", \"rgb(41, 121, 142)\", \"rgb(71, 46, 124)\", \"rgb(31, 151, 139)\", \"rgb(129, 211, 77)\", \"rgb(70, 50, 126)\", \"rgb(170, 220, 50)\", \"rgb(205, 225, 29)\", \"rgb(43, 117, 142)\", \"rgb(58, 186, 118)\", \"rgb(46, 110, 142)\", \"rgb(34, 140, 141)\", \"rgb(221, 227, 24)\", \"rgb(94, 201, 98)\", \"rgb(61, 77, 138)\", \"rgb(42, 120, 142)\", \"rgb(58, 83, 139)\", \"rgb(70, 11, 94)\", \"rgb(178, 221, 45)\", \"rgb(139, 214, 70)\", \"rgb(142, 214, 69)\", \"rgb(251, 231, 35)\", \"rgb(66, 64, 134)\", \"rgb(72, 23, 105)\", \"rgb(44, 113, 142)\", \"rgb(64, 70, 136)\", \"rgb(70, 8, 92)\", \"rgb(63, 72, 137)\", \"rgb(86, 198, 103)\", \"rgb(70, 7, 90)\", \"rgb(70, 11, 94)\", \"rgb(218, 227, 25)\", \"rgb(31, 161, 135)\", \"rgb(32, 146, 140)\", \"rgb(63, 188, 115)\", \"rgb(236, 229, 27)\", \"rgb(51, 98, 141)\", \"rgb(56, 89, 140)\", \"rgb(32, 163, 134)\", \"rgb(51, 98, 141)\", \"rgb(108, 205, 90)\", \"rgb(48, 105, 142)\", \"rgb(70, 8, 92)\", \"rgb(69, 53, 129)\", \"rgb(47, 108, 142)\", \"rgb(58, 83, 139)\", \"rgb(251, 231, 35)\", \"rgb(31, 152, 139)\", \"rgb(112, 207, 87)\", \"rgb(197, 224, 33)\", \"rgb(47, 107, 142)\", \"rgb(32, 164, 134)\", \"rgb(53, 95, 141)\", \"rgb(170, 220, 50)\", \"rgb(56, 185, 119)\", \"rgb(64, 70, 136)\", \"rgb(155, 217, 60)\"], \"size\": [100.0, 72.72727272727273, 63.63636363636363, 40.0, 38.18181818181819, 34.54545454545455, 32.72727272727273, 30.909090909090907, 29.09090909090909, 23.636363636363637, 23.636363636363637, 23.636363636363637, 20.0, 20.0, 20.0, 18.181818181818183, 18.181818181818183, 18.181818181818183, 18.181818181818183, 16.363636363636363, 16.363636363636363, 16.363636363636363, 14.545454545454545, 14.545454545454545, 14.545454545454545, 14.545454545454545, 12.727272727272727, 12.727272727272727, 12.727272727272727, 12.727272727272727, 12.727272727272727, 12.727272727272727, 12.727272727272727, 12.727272727272727, 10.909090909090908, 10.909090909090908, 10.909090909090908, 10.909090909090908, 10.909090909090908, 10.909090909090908, 10.909090909090908, 10.909090909090908, 10.909090909090908, 10.909090909090908, 10.909090909090908, 10.909090909090908, 10.909090909090908, 10.909090909090908, 9.090909090909092, 9.090909090909092, 9.090909090909092, 9.090909090909092, 9.090909090909092, 9.090909090909092, 9.090909090909092, 9.090909090909092, 9.090909090909092, 7.2727272727272725, 7.2727272727272725, 7.2727272727272725, 7.2727272727272725, 7.2727272727272725, 7.2727272727272725, 7.2727272727272725, 7.2727272727272725, 7.2727272727272725, 7.2727272727272725, 7.2727272727272725, 7.2727272727272725, 7.2727272727272725, 7.2727272727272725, 7.2727272727272725, 7.2727272727272725, 7.2727272727272725, 7.2727272727272725, 7.2727272727272725, 7.2727272727272725, 7.2727272727272725, 7.2727272727272725, 7.2727272727272725, 7.2727272727272725, 7.2727272727272725, 5.454545454545454, 5.454545454545454, 5.454545454545454, 5.454545454545454, 5.454545454545454, 5.454545454545454, 5.454545454545454, 5.454545454545454, 5.454545454545454, 5.454545454545454, 5.454545454545454, 5.454545454545454, 5.454545454545454, 5.454545454545454, 5.454545454545454, 5.454545454545454, 5.454545454545454, 5.454545454545454, 5.454545454545454, 5.454545454545454, 5.454545454545454, 5.454545454545454, 5.454545454545454, 5.454545454545454, 5.454545454545454, 5.454545454545454, 5.454545454545454, 5.454545454545454, 5.454545454545454, 5.454545454545454, 5.454545454545454, 5.454545454545454, 5.454545454545454, 5.454545454545454, 5.454545454545454, 5.454545454545454, 5.454545454545454, 5.454545454545454, 5.454545454545454, 5.454545454545454, 5.454545454545454, 5.454545454545454, 5.454545454545454, 5.454545454545454, 5.454545454545454, 5.454545454545454, 5.454545454545454, 5.454545454545454, 5.454545454545454, 5.454545454545454, 5.454545454545454, 5.454545454545454, 5.454545454545454, 5.454545454545454, 5.454545454545454, 5.454545454545454, 5.454545454545454, 5.454545454545454, 5.454545454545454, 5.454545454545454, 5.454545454545454, 5.454545454545454, 5.454545454545454, 5.454545454545454, 5.454545454545454]}, \"type\": \"scatter\", \"x\": [75, 6, 2, 152, 56, 88, 72, 84, 1, 90, 22, 117, 113, 47, 129, 57, 74, 5, 76, 83, 187, 3, 143, 6, 31, 104, 43, 152, 187, 190, 104, 2, 13, 187, 147, 158, 104, 16, 82, 190, 43, 167, 102, 77, 48, 128, 35, 189, 45, 2, 168, 190, 174, 82, 1, 152, 140, 131, 75, 15, 192, 16, 174, 41, 114, 2, 17, 172, 2, 151, 119, 87, 189, 153, 91, 123, 177, 133, 191, 56, 95, 135, 22, 156, 91, 50, 168, 63, 20, 24, 133, 153, 173, 18, 119, 4, 144, 67, 12, 8, 75, 156, 128, 172, 187, 38, 81, 95, 73, 157, 171, 103, 57, 50, 90, 95, 18, 154, 134, 42, 75, 184, 193, 162, 63, 78, 43, 81, 93, 52, 159, 158, 35, 31, 86, 120, 191, 119, 1, 142, 137, 46, 35, 166, 5, 17, 175], \"y\": [55, 21, 226, 11, 301, 357, 82, 4, 79, 378, 7, 224, 4, 252, 1, 236, 225, 36, 274, 208, 155, 211, 227, 151, 343, 12, 325, 164, 18, 229, 234, 2, 143, 304, 23, 25, 48, 198, 296, 65, 304, 179, 287, 30, 220, 332, 174, 86, 89, 332, 25, 270, 111, 315, 248, 233, 169, 142, 59, 260, 373, 290, 329, 39, 135, 374, 100, 255, 301, 280, 135, 327, 43, 327, 161, 137, 181, 219, 132, 363, 193, 271, 166, 59, 296, 315, 109, 123, 225, 63, 174, 115, 34, 61, 349, 289, 17, 205, 6, 199, 289, 285, 314, 58, 209, 90, 11, 295, 211, 203, 81, 202, 220, 299, 236, 232, 343, 141, 319, 210, 316, 250, 35, 374, 342, 206, 138, 61, 112, 342, 141, 123, 42, 121, 389, 199, 215, 89, 158, 111, 244, 172, 142, 95, 319, 4, 225]}],\n",
       "                        {\"template\": {\"data\": {\"bar\": [{\"error_x\": {\"color\": \"#2a3f5f\"}, \"error_y\": {\"color\": \"#2a3f5f\"}, \"marker\": {\"line\": {\"color\": \"#E5ECF6\", \"width\": 0.5}}, \"type\": \"bar\"}], \"barpolar\": [{\"marker\": {\"line\": {\"color\": \"#E5ECF6\", \"width\": 0.5}}, \"type\": \"barpolar\"}], \"carpet\": [{\"aaxis\": {\"endlinecolor\": \"#2a3f5f\", \"gridcolor\": \"white\", \"linecolor\": \"white\", \"minorgridcolor\": \"white\", \"startlinecolor\": \"#2a3f5f\"}, \"baxis\": {\"endlinecolor\": \"#2a3f5f\", \"gridcolor\": \"white\", \"linecolor\": \"white\", \"minorgridcolor\": \"white\", \"startlinecolor\": \"#2a3f5f\"}, \"type\": \"carpet\"}], \"choropleth\": [{\"colorbar\": {\"outlinewidth\": 0, \"ticks\": \"\"}, \"type\": \"choropleth\"}], \"contour\": [{\"colorbar\": {\"outlinewidth\": 0, \"ticks\": \"\"}, \"colorscale\": [[0.0, \"#0d0887\"], [0.1111111111111111, \"#46039f\"], [0.2222222222222222, \"#7201a8\"], [0.3333333333333333, \"#9c179e\"], [0.4444444444444444, \"#bd3786\"], [0.5555555555555556, \"#d8576b\"], [0.6666666666666666, \"#ed7953\"], [0.7777777777777778, \"#fb9f3a\"], [0.8888888888888888, \"#fdca26\"], [1.0, \"#f0f921\"]], \"type\": \"contour\"}], \"contourcarpet\": [{\"colorbar\": {\"outlinewidth\": 0, \"ticks\": \"\"}, \"type\": \"contourcarpet\"}], \"heatmap\": [{\"colorbar\": {\"outlinewidth\": 0, \"ticks\": \"\"}, \"colorscale\": [[0.0, \"#0d0887\"], [0.1111111111111111, \"#46039f\"], [0.2222222222222222, \"#7201a8\"], [0.3333333333333333, \"#9c179e\"], [0.4444444444444444, \"#bd3786\"], [0.5555555555555556, \"#d8576b\"], [0.6666666666666666, \"#ed7953\"], [0.7777777777777778, \"#fb9f3a\"], [0.8888888888888888, \"#fdca26\"], [1.0, \"#f0f921\"]], \"type\": \"heatmap\"}], \"heatmapgl\": [{\"colorbar\": {\"outlinewidth\": 0, \"ticks\": \"\"}, \"colorscale\": [[0.0, \"#0d0887\"], [0.1111111111111111, \"#46039f\"], [0.2222222222222222, \"#7201a8\"], [0.3333333333333333, \"#9c179e\"], [0.4444444444444444, \"#bd3786\"], [0.5555555555555556, \"#d8576b\"], [0.6666666666666666, \"#ed7953\"], [0.7777777777777778, \"#fb9f3a\"], [0.8888888888888888, \"#fdca26\"], [1.0, \"#f0f921\"]], \"type\": \"heatmapgl\"}], \"histogram\": [{\"marker\": {\"colorbar\": {\"outlinewidth\": 0, \"ticks\": \"\"}}, \"type\": \"histogram\"}], \"histogram2d\": [{\"colorbar\": {\"outlinewidth\": 0, \"ticks\": \"\"}, \"colorscale\": [[0.0, \"#0d0887\"], [0.1111111111111111, \"#46039f\"], [0.2222222222222222, \"#7201a8\"], [0.3333333333333333, \"#9c179e\"], [0.4444444444444444, \"#bd3786\"], [0.5555555555555556, \"#d8576b\"], [0.6666666666666666, \"#ed7953\"], [0.7777777777777778, \"#fb9f3a\"], [0.8888888888888888, \"#fdca26\"], [1.0, \"#f0f921\"]], \"type\": \"histogram2d\"}], \"histogram2dcontour\": [{\"colorbar\": {\"outlinewidth\": 0, \"ticks\": \"\"}, \"colorscale\": [[0.0, \"#0d0887\"], [0.1111111111111111, \"#46039f\"], [0.2222222222222222, \"#7201a8\"], [0.3333333333333333, \"#9c179e\"], [0.4444444444444444, \"#bd3786\"], [0.5555555555555556, \"#d8576b\"], [0.6666666666666666, \"#ed7953\"], [0.7777777777777778, \"#fb9f3a\"], [0.8888888888888888, \"#fdca26\"], [1.0, \"#f0f921\"]], \"type\": \"histogram2dcontour\"}], \"mesh3d\": [{\"colorbar\": {\"outlinewidth\": 0, \"ticks\": \"\"}, \"type\": \"mesh3d\"}], \"parcoords\": [{\"line\": {\"colorbar\": {\"outlinewidth\": 0, \"ticks\": \"\"}}, \"type\": \"parcoords\"}], \"scatter\": [{\"marker\": {\"colorbar\": {\"outlinewidth\": 0, \"ticks\": \"\"}}, \"type\": \"scatter\"}], \"scatter3d\": [{\"line\": {\"colorbar\": {\"outlinewidth\": 0, \"ticks\": \"\"}}, \"marker\": {\"colorbar\": {\"outlinewidth\": 0, \"ticks\": \"\"}}, \"type\": \"scatter3d\"}], \"scattercarpet\": [{\"marker\": {\"colorbar\": {\"outlinewidth\": 0, \"ticks\": \"\"}}, \"type\": \"scattercarpet\"}], \"scattergeo\": [{\"marker\": {\"colorbar\": {\"outlinewidth\": 0, \"ticks\": \"\"}}, \"type\": \"scattergeo\"}], \"scattergl\": [{\"marker\": {\"colorbar\": {\"outlinewidth\": 0, \"ticks\": \"\"}}, \"type\": \"scattergl\"}], \"scattermapbox\": [{\"marker\": {\"colorbar\": {\"outlinewidth\": 0, \"ticks\": \"\"}}, \"type\": \"scattermapbox\"}], \"scatterpolar\": [{\"marker\": {\"colorbar\": {\"outlinewidth\": 0, \"ticks\": \"\"}}, \"type\": \"scatterpolar\"}], \"scatterpolargl\": [{\"marker\": {\"colorbar\": {\"outlinewidth\": 0, \"ticks\": \"\"}}, \"type\": \"scatterpolargl\"}], \"scatterternary\": [{\"marker\": {\"colorbar\": {\"outlinewidth\": 0, \"ticks\": \"\"}}, \"type\": \"scatterternary\"}], \"surface\": [{\"colorbar\": {\"outlinewidth\": 0, \"ticks\": \"\"}, \"colorscale\": [[0.0, \"#0d0887\"], [0.1111111111111111, \"#46039f\"], [0.2222222222222222, \"#7201a8\"], [0.3333333333333333, \"#9c179e\"], [0.4444444444444444, \"#bd3786\"], [0.5555555555555556, \"#d8576b\"], [0.6666666666666666, \"#ed7953\"], [0.7777777777777778, \"#fb9f3a\"], [0.8888888888888888, \"#fdca26\"], [1.0, \"#f0f921\"]], \"type\": \"surface\"}], \"table\": [{\"cells\": {\"fill\": {\"color\": \"#EBF0F8\"}, \"line\": {\"color\": \"white\"}}, \"header\": {\"fill\": {\"color\": \"#C8D4E3\"}, \"line\": {\"color\": \"white\"}}, \"type\": \"table\"}]}, \"layout\": {\"annotationdefaults\": {\"arrowcolor\": \"#2a3f5f\", \"arrowhead\": 0, \"arrowwidth\": 1}, \"colorscale\": {\"diverging\": [[0, \"#8e0152\"], [0.1, \"#c51b7d\"], [0.2, \"#de77ae\"], [0.3, \"#f1b6da\"], [0.4, \"#fde0ef\"], [0.5, \"#f7f7f7\"], [0.6, \"#e6f5d0\"], [0.7, \"#b8e186\"], [0.8, \"#7fbc41\"], [0.9, \"#4d9221\"], [1, \"#276419\"]], \"sequential\": [[0.0, \"#0d0887\"], [0.1111111111111111, \"#46039f\"], [0.2222222222222222, \"#7201a8\"], [0.3333333333333333, \"#9c179e\"], [0.4444444444444444, \"#bd3786\"], [0.5555555555555556, \"#d8576b\"], [0.6666666666666666, \"#ed7953\"], [0.7777777777777778, \"#fb9f3a\"], [0.8888888888888888, \"#fdca26\"], [1.0, \"#f0f921\"]], \"sequentialminus\": [[0.0, \"#0d0887\"], [0.1111111111111111, \"#46039f\"], [0.2222222222222222, \"#7201a8\"], [0.3333333333333333, \"#9c179e\"], [0.4444444444444444, \"#bd3786\"], [0.5555555555555556, \"#d8576b\"], [0.6666666666666666, \"#ed7953\"], [0.7777777777777778, \"#fb9f3a\"], [0.8888888888888888, \"#fdca26\"], [1.0, \"#f0f921\"]]}, \"colorway\": [\"#636efa\", \"#EF553B\", \"#00cc96\", \"#ab63fa\", \"#FFA15A\", \"#19d3f3\", \"#FF6692\", \"#B6E880\", \"#FF97FF\", \"#FECB52\"], \"font\": {\"color\": \"#2a3f5f\"}, \"geo\": {\"bgcolor\": \"white\", \"lakecolor\": \"white\", \"landcolor\": \"#E5ECF6\", \"showlakes\": true, \"showland\": true, \"subunitcolor\": \"white\"}, \"hoverlabel\": {\"align\": \"left\"}, \"hovermode\": \"closest\", \"mapbox\": {\"style\": \"light\"}, \"paper_bgcolor\": \"white\", \"plot_bgcolor\": \"#E5ECF6\", \"polar\": {\"angularaxis\": {\"gridcolor\": \"white\", \"linecolor\": \"white\", \"ticks\": \"\"}, \"bgcolor\": \"#E5ECF6\", \"radialaxis\": {\"gridcolor\": \"white\", \"linecolor\": \"white\", \"ticks\": \"\"}}, \"scene\": {\"xaxis\": {\"backgroundcolor\": \"#E5ECF6\", \"gridcolor\": \"white\", \"gridwidth\": 2, \"linecolor\": \"white\", \"showbackground\": true, \"ticks\": \"\", \"zerolinecolor\": \"white\"}, \"yaxis\": {\"backgroundcolor\": \"#E5ECF6\", \"gridcolor\": \"white\", \"gridwidth\": 2, \"linecolor\": \"white\", \"showbackground\": true, \"ticks\": \"\", \"zerolinecolor\": \"white\"}, \"zaxis\": {\"backgroundcolor\": \"#E5ECF6\", \"gridcolor\": \"white\", \"gridwidth\": 2, \"linecolor\": \"white\", \"showbackground\": true, \"ticks\": \"\", \"zerolinecolor\": \"white\"}}, \"shapedefaults\": {\"line\": {\"color\": \"#2a3f5f\"}}, \"ternary\": {\"aaxis\": {\"gridcolor\": \"white\", \"linecolor\": \"white\", \"ticks\": \"\"}, \"baxis\": {\"gridcolor\": \"white\", \"linecolor\": \"white\", \"ticks\": \"\"}, \"bgcolor\": \"#E5ECF6\", \"caxis\": {\"gridcolor\": \"white\", \"linecolor\": \"white\", \"ticks\": \"\"}}, \"title\": {\"x\": 0.05}, \"xaxis\": {\"automargin\": true, \"gridcolor\": \"white\", \"linecolor\": \"white\", \"ticks\": \"\", \"zerolinecolor\": \"white\", \"zerolinewidth\": 2}, \"yaxis\": {\"automargin\": true, \"gridcolor\": \"white\", \"linecolor\": \"white\", \"ticks\": \"\", \"zerolinecolor\": \"white\", \"zerolinewidth\": 2}}}, \"xaxis\": {\"showgrid\": false, \"showticklabels\": false, \"zeroline\": false}, \"yaxis\": {\"showgrid\": false, \"showticklabels\": false, \"zeroline\": false}},\n",
       "                        {\"responsive\": true}\n",
       "                    ).then(function(){\n",
       "                            \n",
       "var gd = document.getElementById('217a0e43-ef8f-441d-9dc0-dadf08d1656d');\n",
       "var x = new MutationObserver(function (mutations, observer) {{\n",
       "        var display = window.getComputedStyle(gd).display;\n",
       "        if (!display || display === 'none') {{\n",
       "            console.log([gd, 'removed!']);\n",
       "            Plotly.purge(gd);\n",
       "            observer.disconnect();\n",
       "        }}\n",
       "}});\n",
       "\n",
       "// Listen for the removal of the full notebook cells\n",
       "var notebookContainer = gd.closest('#notebook-container');\n",
       "if (notebookContainer) {{\n",
       "    x.observe(notebookContainer, {childList: true});\n",
       "}}\n",
       "\n",
       "// Listen for the clearing of the current output cell\n",
       "var outputEl = gd.closest('.output');\n",
       "if (outputEl) {{\n",
       "    x.observe(outputEl, {childList: true});\n",
       "}}\n",
       "\n",
       "                        })\n",
       "                };\n",
       "                });\n",
       "            </script>\n",
       "        </div>"
      ]
     },
     "metadata": {},
     "output_type": "display_data"
    }
   ],
   "source": [
    "neg_comments = '.'.join(df_neg['content'])\n",
    "iplot(pwc(neg_comments))"
   ]
  },
  {
   "cell_type": "code",
   "execution_count": 18,
   "metadata": {},
   "outputs": [
    {
     "data": {
      "application/vnd.plotly.v1+json": {
       "config": {
        "linkText": "Export to plot.ly",
        "plotlyServerURL": "https://plot.ly",
        "showLink": false
       },
       "data": [
        {
         "hoverinfo": "text",
         "hovertext": [
          "story1.0",
          "Little Prince1.0",
          "book0.8947368421052632",
          "movie0.7368421052631579",
          "Aviator0.42105263157894735",
          "girl0.3684210526315789",
          "original0.3684210526315789",
          "Little0.3157894736842105",
          "first0.3157894736842105",
          "animation0.3157894736842105",
          "child0.3157894736842105",
          "think0.2631578947368421",
          "see0.2631578947368421",
          "characters0.2631578947368421",
          "Exupery0.21052631578947367",
          "second0.21052631578947367",
          "adaptation0.21052631578947367",
          "really0.21052631578947367",
          "something0.21052631578947367",
          "act0.21052631578947367",
          "SUCK0.21052631578947367",
          "SUCKY SUCKY0.21052631578947367",
          "made0.15789473684210525",
          "read0.15789473684210525",
          "childhood0.15789473684210525",
          "old0.15789473684210525",
          "eyes0.15789473684210525",
          "scene0.15789473684210525",
          "open0.15789473684210525",
          "well0.15789473684210525",
          "telling0.15789473684210525",
          "better0.15789473684210525",
          "watch0.15789473684210525",
          "bad0.15789473684210525",
          "minutes0.15789473684210525",
          "time0.15789473684210525",
          "seen0.15789473684210525",
          "treated0.15789473684210525",
          "filmmakers0.15789473684210525",
          "spoiler0.15789473684210525",
          "thing0.15789473684210525",
          "wonder0.15789473684210525",
          "part0.15789473684210525",
          "Star0.15789473684210525",
          "successful0.10526315789473684",
          "today0.10526315789473684",
          "living0.10526315789473684",
          "became0.10526315789473684",
          "mind0.10526315789473684",
          "similar0.10526315789473684",
          "watching0.10526315789473684",
          "everyone0.10526315789473684",
          "life0.10526315789473684",
          "must0.10526315789473684",
          "deep0.10526315789473684",
          "believe0.10526315789473684",
          "yet0.10526315789473684",
          "hope0.10526315789473684",
          "grown0.10526315789473684",
          "new0.10526315789473684",
          "stay0.10526315789473684",
          "half0.10526315789473684",
          "last0.10526315789473684",
          "audience0.10526315789473684",
          "beautiful0.10526315789473684",
          "literature0.10526315789473684",
          "left0.10526315789473684",
          "human0.10526315789473684",
          "probably0.10526315789473684",
          "may0.10526315789473684",
          "interpretation0.10526315789473684",
          "kid0.10526315789473684",
          "adult0.10526315789473684",
          "still0.10526315789473684",
          "saw0.10526315789473684",
          "going0.10526315789473684",
          "sweet0.10526315789473684",
          "sweetest0.10526315789473684",
          "insult0.10526315789473684",
          "Saint0.10526315789473684",
          "away0.10526315789473684",
          "main0.10526315789473684",
          "Fox0.10526315789473684",
          "thought0.10526315789473684",
          "make0.10526315789473684",
          "without0.10526315789473684",
          "extra0.10526315789473684",
          "making0.10526315789473684",
          "wrote0.10526315789473684",
          "excuse0.10526315789473684",
          "move0.10526315789473684",
          "real0.10526315789473684",
          "never0.10526315789473684",
          "goes0.10526315789473684",
          "even0.10526315789473684",
          "way0.10526315789473684",
          "small0.10526315789473684",
          "thinking0.10526315789473684",
          "straight0.10526315789473684",
          "another0.10526315789473684",
          "become0.10526315789473684",
          "sense0.10526315789473684",
          "man0.10526315789473684",
          "full0.10526315789473684",
          "want0.10526315789473684",
          "travesty0.10526315789473684",
          "wrong0.10526315789473684",
          "Wars0.10526315789473684",
          "writers0.10526315789473684",
          "work0.10526315789473684",
          "said0.10526315789473684",
          "exploited0.10526315789473684",
          "zero0.10526315789473684",
          "nothing0.10526315789473684",
          "mother0.10526315789473684",
          "oh0.10526315789473684",
          "poor0.10526315789473684",
          "bringing0.05263157894736842",
          "learn0.05263157894736842",
          "challenge0.05263157894736842",
          "natural0.05263157894736842",
          "modern0.05263157894736842",
          "fully0.05263157894736842",
          "alive0.05263157894736842",
          "neighbor0.05263157894736842",
          "long0.05263157894736842",
          "white0.05263157894736842",
          "hair0.05263157894736842",
          "jacket0.05263157894736842",
          "magic0.05263157894736842",
          "smile0.05263157894736842",
          "memories0.05263157894736842",
          "animated0.05263157894736842",
          "front0.05263157894736842",
          "Maybe0.05263157894736842",
          "someone0.05263157894736842",
          "find0.05263157894736842",
          "snake0.05263157894736842",
          "peace0.05263157894736842",
          "marvelous0.05263157894736842",
          "many0.05263157894736842",
          "naive0.05263157894736842",
          "school0.05263157894736842",
          "boy0.05263157894736842",
          "years0.05263157894736842",
          "later0.05263157894736842",
          "enjoyed0.05263157894736842",
          "reading0.05263157894736842",
          "languages0.05263157894736842",
          "excited0.05263157894736842",
          "watched0.05263157894736842",
          "minded0.05263157894736842",
          "somehow0.05263157894736842",
          "acceptable0.05263157894736842",
          "St0.05263157894736842",
          "days0.05263157894736842",
          "mixed0.05263157894736842",
          "tried0.05263157894736842",
          "understand0.05263157894736842",
          "director0.05263157894736842",
          "viewpoint0.05263157894736842",
          "present0.05263157894736842",
          "classic0.05263157894736842",
          "yes0.05263157894736842",
          "visuals0.05263157894736842",
          "colors0.05263157894736842",
          "textures0.05263157894736842",
          "touching0.05263157894736842",
          "indeed0.05263157894736842",
          "Bravo0.05263157894736842",
          "century0.05263157894736842",
          "rather0.05263157894736842",
          "average0.05263157894736842",
          "ending0.05263157894736842",
          "less0.05263157894736842",
          "disappointing0.05263157894736842",
          "music0.05263157894736842",
          "art0.05263157894736842",
          "reinterpreted0.05263157894736842",
          "carefully0.05263157894736842",
          "pure0.05263157894736842",
          "form0.05263157894736842",
          "feel0.05263157894736842",
          "category0.05263157894736842",
          "value0.05263157894736842",
          "treasure0.05263157894736842",
          "know0.05263157894736842",
          "enjoy0.05263157894736842",
          "least0.05263157894736842",
          "sensitivity0.05263157894736842",
          "using0.05263157894736842",
          "title0.05263157894736842",
          "fan0.05263157894736842",
          "young0.05263157894736842",
          "now0.05263157894736842",
          "middle0.05263157894736842",
          "aged0.05263157894736842",
          "holds0.05263157894736842",
          "tons0.05263157894736842",
          "surprises0.05263157894736842"
         ],
         "mode": "text",
         "text": [
          "story",
          "Little Prince",
          "book",
          "movie",
          "Aviator",
          "girl",
          "original",
          "Little",
          "first",
          "animation",
          "child",
          "think",
          "see",
          "characters",
          "Exupery",
          "second",
          "adaptation",
          "really",
          "something",
          "act",
          "SUCK",
          "SUCKY SUCKY",
          "made",
          "read",
          "childhood",
          "old",
          "eyes",
          "scene",
          "open",
          "well",
          "telling",
          "better",
          "watch",
          "bad",
          "minutes",
          "time",
          "seen",
          "treated",
          "filmmakers",
          "spoiler",
          "thing",
          "wonder",
          "part",
          "Star",
          "successful",
          "today",
          "living",
          "became",
          "mind",
          "similar",
          "watching",
          "everyone",
          "life",
          "must",
          "deep",
          "believe",
          "yet",
          "hope",
          "grown",
          "new",
          "stay",
          "half",
          "last",
          "audience",
          "beautiful",
          "literature",
          "left",
          "human",
          "probably",
          "may",
          "interpretation",
          "kid",
          "adult",
          "still",
          "saw",
          "going",
          "sweet",
          "sweetest",
          "insult",
          "Saint",
          "away",
          "main",
          "Fox",
          "thought",
          "make",
          "without",
          "extra",
          "making",
          "wrote",
          "excuse",
          "move",
          "real",
          "never",
          "goes",
          "even",
          "way",
          "small",
          "thinking",
          "straight",
          "another",
          "become",
          "sense",
          "man",
          "full",
          "want",
          "travesty",
          "wrong",
          "Wars",
          "writers",
          "work",
          "said",
          "exploited",
          "zero",
          "nothing",
          "mother",
          "oh",
          "poor",
          "bringing",
          "learn",
          "challenge",
          "natural",
          "modern",
          "fully",
          "alive",
          "neighbor",
          "long",
          "white",
          "hair",
          "jacket",
          "magic",
          "smile",
          "memories",
          "animated",
          "front",
          "Maybe",
          "someone",
          "find",
          "snake",
          "peace",
          "marvelous",
          "many",
          "naive",
          "school",
          "boy",
          "years",
          "later",
          "enjoyed",
          "reading",
          "languages",
          "excited",
          "watched",
          "minded",
          "somehow",
          "acceptable",
          "St",
          "days",
          "mixed",
          "tried",
          "understand",
          "director",
          "viewpoint",
          "present",
          "classic",
          "yes",
          "visuals",
          "colors",
          "textures",
          "touching",
          "indeed",
          "Bravo",
          "century",
          "rather",
          "average",
          "ending",
          "less",
          "disappointing",
          "music",
          "art",
          "reinterpreted",
          "carefully",
          "pure",
          "form",
          "feel",
          "category",
          "value",
          "treasure",
          "know",
          "enjoy",
          "least",
          "sensitivity",
          "using",
          "title",
          "fan",
          "young",
          "now",
          "middle",
          "aged",
          "holds",
          "tons",
          "surprises"
         ],
         "textfont": {
          "color": [
           "rgb(31, 150, 139)",
           "rgb(44, 113, 142)",
           "rgb(110, 206, 88)",
           "rgb(56, 185, 119)",
           "rgb(52, 182, 121)",
           "rgb(132, 212, 75)",
           "rgb(42, 119, 142)",
           "rgb(40, 174, 128)",
           "rgb(72, 29, 111)",
           "rgb(31, 153, 138)",
           "rgb(54, 92, 141)",
           "rgb(66, 65, 134)",
           "rgb(38, 129, 142)",
           "rgb(178, 221, 45)",
           "rgb(33, 143, 141)",
           "rgb(66, 64, 134)",
           "rgb(32, 164, 134)",
           "rgb(39, 127, 142)",
           "rgb(66, 65, 134)",
           "rgb(194, 223, 35)",
           "rgb(229, 228, 25)",
           "rgb(103, 204, 92)",
           "rgb(34, 139, 141)",
           "rgb(202, 225, 31)",
           "rgb(71, 17, 100)",
           "rgb(35, 137, 142)",
           "rgb(44, 113, 142)",
           "rgb(132, 212, 75)",
           "rgb(70, 11, 94)",
           "rgb(48, 106, 142)",
           "rgb(52, 182, 121)",
           "rgb(36, 170, 131)",
           "rgb(70, 48, 126)",
           "rgb(35, 169, 131)",
           "rgb(32, 163, 134)",
           "rgb(72, 41, 121)",
           "rgb(72, 29, 111)",
           "rgb(142, 214, 69)",
           "rgb(239, 229, 28)",
           "rgb(64, 69, 136)",
           "rgb(200, 224, 32)",
           "rgb(213, 226, 26)",
           "rgb(31, 153, 138)",
           "rgb(142, 214, 69)",
           "rgb(137, 213, 72)",
           "rgb(152, 216, 62)",
           "rgb(184, 222, 41)",
           "rgb(33, 165, 133)",
           "rgb(42, 118, 142)",
           "rgb(30, 155, 138)",
           "rgb(162, 218, 55)",
           "rgb(70, 52, 128)",
           "rgb(30, 156, 137)",
           "rgb(205, 225, 29)",
           "rgb(35, 137, 142)",
           "rgb(70, 8, 92)",
           "rgb(72, 24, 106)",
           "rgb(40, 174, 128)",
           "rgb(103, 204, 92)",
           "rgb(59, 187, 117)",
           "rgb(71, 14, 97)",
           "rgb(43, 116, 142)",
           "rgb(108, 205, 90)",
           "rgb(51, 98, 141)",
           "rgb(70, 10, 93)",
           "rgb(46, 179, 124)",
           "rgb(71, 45, 123)",
           "rgb(152, 216, 62)",
           "rgb(63, 72, 137)",
           "rgb(42, 176, 127)",
           "rgb(39, 127, 142)",
           "rgb(39, 127, 142)",
           "rgb(44, 177, 126)",
           "rgb(34, 141, 141)",
           "rgb(71, 45, 123)",
           "rgb(41, 121, 142)",
           "rgb(37, 132, 142)",
           "rgb(31, 161, 135)",
           "rgb(71, 17, 100)",
           "rgb(149, 216, 64)",
           "rgb(56, 185, 119)",
           "rgb(96, 202, 96)",
           "rgb(86, 198, 103)",
           "rgb(176, 221, 47)",
           "rgb(49, 103, 142)",
           "rgb(137, 213, 72)",
           "rgb(56, 185, 119)",
           "rgb(149, 216, 64)",
           "rgb(192, 223, 37)",
           "rgb(38, 130, 142)",
           "rgb(202, 225, 31)",
           "rgb(33, 145, 140)",
           "rgb(37, 133, 142)",
           "rgb(58, 84, 140)",
           "rgb(71, 13, 96)",
           "rgb(216, 226, 25)",
           "rgb(71, 16, 99)",
           "rgb(35, 136, 142)",
           "rgb(49, 102, 142)",
           "rgb(45, 178, 125)",
           "rgb(184, 222, 41)",
           "rgb(36, 135, 142)",
           "rgb(31, 152, 139)",
           "rgb(43, 117, 142)",
           "rgb(36, 135, 142)",
           "rgb(63, 188, 115)",
           "rgb(246, 230, 32)",
           "rgb(117, 208, 84)",
           "rgb(223, 227, 24)",
           "rgb(147, 215, 65)",
           "rgb(37, 171, 130)",
           "rgb(176, 221, 47)",
           "rgb(72, 23, 105)",
           "rgb(71, 47, 125)",
           "rgb(72, 27, 109)",
           "rgb(47, 107, 142)",
           "rgb(32, 146, 140)",
           "rgb(38, 129, 142)",
           "rgb(64, 69, 136)",
           "rgb(69, 55, 129)",
           "rgb(57, 85, 140)",
           "rgb(38, 130, 142)",
           "rgb(57, 85, 140)",
           "rgb(52, 182, 121)",
           "rgb(71, 13, 96)",
           "rgb(31, 149, 139)",
           "rgb(69, 55, 129)",
           "rgb(30, 157, 137)",
           "rgb(72, 26, 108)",
           "rgb(34, 140, 141)",
           "rgb(59, 187, 117)",
           "rgb(70, 11, 94)",
           "rgb(33, 144, 141)",
           "rgb(194, 223, 35)",
           "rgb(65, 66, 135)",
           "rgb(155, 217, 60)",
           "rgb(44, 114, 142)",
           "rgb(165, 219, 54)",
           "rgb(165, 219, 54)",
           "rgb(157, 217, 59)",
           "rgb(61, 77, 138)",
           "rgb(168, 219, 52)",
           "rgb(72, 28, 110)",
           "rgb(178, 221, 45)",
           "rgb(68, 2, 86)",
           "rgb(53, 94, 141)",
           "rgb(42, 120, 142)",
           "rgb(115, 208, 86)",
           "rgb(72, 38, 119)",
           "rgb(189, 223, 38)",
           "rgb(46, 109, 142)",
           "rgb(49, 104, 142)",
           "rgb(68, 58, 131)",
           "rgb(69, 4, 87)",
           "rgb(55, 91, 141)",
           "rgb(46, 110, 142)",
           "rgb(72, 40, 120)",
           "rgb(160, 218, 57)",
           "rgb(152, 216, 62)",
           "rgb(72, 32, 113)",
           "rgb(44, 177, 126)",
           "rgb(45, 112, 142)",
           "rgb(176, 221, 47)",
           "rgb(149, 216, 64)",
           "rgb(51, 99, 141)",
           "rgb(90, 200, 100)",
           "rgb(69, 56, 130)",
           "rgb(47, 107, 142)",
           "rgb(117, 208, 84)",
           "rgb(71, 19, 101)",
           "rgb(37, 172, 130)",
           "rgb(31, 153, 138)",
           "rgb(64, 189, 114)",
           "rgb(137, 213, 72)",
           "rgb(35, 138, 141)",
           "rgb(72, 31, 112)",
           "rgb(31, 162, 135)",
           "rgb(40, 174, 128)",
           "rgb(37, 133, 142)",
           "rgb(72, 31, 112)",
           "rgb(155, 217, 60)",
           "rgb(71, 17, 100)",
           "rgb(229, 228, 25)",
           "rgb(71, 47, 125)",
           "rgb(144, 215, 67)",
           "rgb(59, 187, 117)",
           "rgb(72, 40, 120)",
           "rgb(241, 229, 29)",
           "rgb(45, 113, 142)",
           "rgb(33, 142, 141)",
           "rgb(253, 231, 37)",
           "rgb(72, 27, 109)",
           "rgb(69, 53, 129)",
           "rgb(37, 132, 142)",
           "rgb(47, 180, 124)",
           "rgb(112, 207, 87)",
           "rgb(253, 231, 37)",
           "rgb(57, 85, 140)",
           "rgb(74, 193, 109)",
           "rgb(210, 226, 27)"
          ],
          "size": [
           100,
           100,
           89.47368421052632,
           73.68421052631578,
           42.10526315789473,
           36.84210526315789,
           36.84210526315789,
           31.57894736842105,
           31.57894736842105,
           31.57894736842105,
           31.57894736842105,
           26.31578947368421,
           26.31578947368421,
           26.31578947368421,
           21.052631578947366,
           21.052631578947366,
           21.052631578947366,
           21.052631578947366,
           21.052631578947366,
           21.052631578947366,
           21.052631578947366,
           21.052631578947366,
           15.789473684210526,
           15.789473684210526,
           15.789473684210526,
           15.789473684210526,
           15.789473684210526,
           15.789473684210526,
           15.789473684210526,
           15.789473684210526,
           15.789473684210526,
           15.789473684210526,
           15.789473684210526,
           15.789473684210526,
           15.789473684210526,
           15.789473684210526,
           15.789473684210526,
           15.789473684210526,
           15.789473684210526,
           15.789473684210526,
           15.789473684210526,
           15.789473684210526,
           15.789473684210526,
           15.789473684210526,
           10.526315789473683,
           10.526315789473683,
           10.526315789473683,
           10.526315789473683,
           10.526315789473683,
           10.526315789473683,
           10.526315789473683,
           10.526315789473683,
           10.526315789473683,
           10.526315789473683,
           10.526315789473683,
           10.526315789473683,
           10.526315789473683,
           10.526315789473683,
           10.526315789473683,
           10.526315789473683,
           10.526315789473683,
           10.526315789473683,
           10.526315789473683,
           10.526315789473683,
           10.526315789473683,
           10.526315789473683,
           10.526315789473683,
           10.526315789473683,
           10.526315789473683,
           10.526315789473683,
           10.526315789473683,
           10.526315789473683,
           10.526315789473683,
           10.526315789473683,
           10.526315789473683,
           10.526315789473683,
           10.526315789473683,
           10.526315789473683,
           10.526315789473683,
           10.526315789473683,
           10.526315789473683,
           10.526315789473683,
           10.526315789473683,
           10.526315789473683,
           10.526315789473683,
           10.526315789473683,
           10.526315789473683,
           10.526315789473683,
           10.526315789473683,
           10.526315789473683,
           10.526315789473683,
           10.526315789473683,
           10.526315789473683,
           10.526315789473683,
           10.526315789473683,
           10.526315789473683,
           10.526315789473683,
           10.526315789473683,
           10.526315789473683,
           10.526315789473683,
           10.526315789473683,
           10.526315789473683,
           10.526315789473683,
           10.526315789473683,
           10.526315789473683,
           10.526315789473683,
           10.526315789473683,
           10.526315789473683,
           10.526315789473683,
           10.526315789473683,
           10.526315789473683,
           10.526315789473683,
           10.526315789473683,
           10.526315789473683,
           10.526315789473683,
           10.526315789473683,
           10.526315789473683,
           5.263157894736842,
           5.263157894736842,
           5.263157894736842,
           5.263157894736842,
           5.263157894736842,
           5.263157894736842,
           5.263157894736842,
           5.263157894736842,
           5.263157894736842,
           5.263157894736842,
           5.263157894736842,
           5.263157894736842,
           5.263157894736842,
           5.263157894736842,
           5.263157894736842,
           5.263157894736842,
           5.263157894736842,
           5.263157894736842,
           5.263157894736842,
           5.263157894736842,
           5.263157894736842,
           5.263157894736842,
           5.263157894736842,
           5.263157894736842,
           5.263157894736842,
           5.263157894736842,
           5.263157894736842,
           5.263157894736842,
           5.263157894736842,
           5.263157894736842,
           5.263157894736842,
           5.263157894736842,
           5.263157894736842,
           5.263157894736842,
           5.263157894736842,
           5.263157894736842,
           5.263157894736842,
           5.263157894736842,
           5.263157894736842,
           5.263157894736842,
           5.263157894736842,
           5.263157894736842,
           5.263157894736842,
           5.263157894736842,
           5.263157894736842,
           5.263157894736842,
           5.263157894736842,
           5.263157894736842,
           5.263157894736842,
           5.263157894736842,
           5.263157894736842,
           5.263157894736842,
           5.263157894736842,
           5.263157894736842,
           5.263157894736842,
           5.263157894736842,
           5.263157894736842,
           5.263157894736842,
           5.263157894736842,
           5.263157894736842,
           5.263157894736842,
           5.263157894736842,
           5.263157894736842,
           5.263157894736842,
           5.263157894736842,
           5.263157894736842,
           5.263157894736842,
           5.263157894736842,
           5.263157894736842,
           5.263157894736842,
           5.263157894736842,
           5.263157894736842,
           5.263157894736842,
           5.263157894736842,
           5.263157894736842,
           5.263157894736842,
           5.263157894736842,
           5.263157894736842,
           5.263157894736842,
           5.263157894736842,
           5.263157894736842,
           5.263157894736842,
           5.263157894736842
          ]
         },
         "type": "scatter",
         "x": [
          15,
          127,
          13,
          85,
          165,
          84,
          165,
          2,
          2,
          108,
          2,
          173,
          167,
          5,
          120,
          24,
          44,
          43,
          122,
          91,
          105,
          186,
          145,
          101,
          17,
          57,
          46,
          124,
          145,
          124,
          67,
          184,
          158,
          70,
          186,
          53,
          3,
          2,
          118,
          43,
          134,
          188,
          9,
          79,
          85,
          16,
          41,
          190,
          86,
          91,
          41,
          1,
          144,
          51,
          53,
          63,
          26,
          5,
          171,
          81,
          26,
          146,
          157,
          132,
          42,
          191,
          155,
          86,
          85,
          114,
          191,
          59,
          129,
          100,
          191,
          133,
          131,
          165,
          130,
          114,
          131,
          126,
          127,
          108,
          67,
          45,
          176,
          63,
          67,
          9,
          19,
          146,
          127,
          106,
          192,
          7,
          179,
          27,
          134,
          152,
          22,
          23,
          41,
          176,
          92,
          60,
          82,
          144,
          122,
          193,
          23,
          118,
          31,
          146,
          165,
          170,
          74,
          2,
          126,
          40,
          92,
          34,
          165,
          162,
          74,
          22,
          152,
          2,
          34,
          8,
          53,
          78,
          131,
          153,
          67,
          194,
          12,
          151,
          54,
          9,
          43,
          193,
          194,
          149,
          119,
          53,
          165,
          114,
          114,
          23,
          24,
          37,
          25,
          50,
          154,
          95,
          39,
          155,
          2,
          85,
          153,
          57,
          194,
          129,
          116,
          39,
          79,
          153,
          130,
          12,
          72,
          1,
          133,
          119,
          113,
          22,
          140,
          70,
          88,
          74,
          16,
          152,
          37,
          130,
          166,
          152,
          100,
          105,
          135,
          99,
          171,
          40,
          101,
          166,
          182,
          149,
          8,
          146,
          122,
          1
         ],
         "y": [
          18,
          7,
          324,
          5,
          51,
          180,
          242,
          213,
          132,
          204,
          20,
          189,
          13,
          367,
          146,
          6,
          382,
          317,
          311,
          139,
          145,
          184,
          260,
          309,
          20,
          234,
          111,
          245,
          19,
          20,
          227,
          2,
          184,
          78,
          319,
          70,
          93,
          309,
          62,
          223,
          185,
          360,
          309,
          255,
          3,
          108,
          60,
          259,
          256,
          301,
          129,
          386,
          185,
          159,
          197,
          17,
          189,
          80,
          371,
          222,
          279,
          115,
          259,
          2,
          361,
          86,
          228,
          160,
          102,
          133,
          18,
          163,
          262,
          287,
          152,
          21,
          62,
          190,
          308,
          158,
          295,
          114,
          204,
          303,
          302,
          119,
          27,
          307,
          70,
          362,
          314,
          87,
          378,
          362,
          131,
          4,
          376,
          18,
          244,
          18,
          204,
          131,
          279,
          8,
          251,
          68,
          182,
          145,
          218,
          338,
          311,
          1,
          135,
          347,
          76,
          47,
          240,
          352,
          92,
          39,
          161,
          192,
          108,
          230,
          191,
          258,
          184,
          224,
          286,
          103,
          220,
          394,
          114,
          87,
          164,
          188,
          171,
          356,
          328,
          336,
          162,
          302,
          166,
          151,
          45,
          342,
          145,
          302,
          362,
          163,
          107,
          321,
          64,
          236,
          319,
          364,
          113,
          297,
          168,
          135,
          116,
          253,
          226,
          87,
          188,
          251,
          8,
          56,
          152,
          93,
          10,
          122,
          55,
          126,
          147,
          229,
          334,
          89,
          58,
          87,
          7,
          394,
          348,
          335,
          119,
          196,
          254,
          78,
          149,
          152,
          321,
          192,
          101,
          226,
          38,
          295,
          122,
          207,
          281,
          2
         ]
        }
       ],
       "layout": {
        "template": {
         "data": {
          "bar": [
           {
            "error_x": {
             "color": "#2a3f5f"
            },
            "error_y": {
             "color": "#2a3f5f"
            },
            "marker": {
             "line": {
              "color": "#E5ECF6",
              "width": 0.5
             }
            },
            "type": "bar"
           }
          ],
          "barpolar": [
           {
            "marker": {
             "line": {
              "color": "#E5ECF6",
              "width": 0.5
             }
            },
            "type": "barpolar"
           }
          ],
          "carpet": [
           {
            "aaxis": {
             "endlinecolor": "#2a3f5f",
             "gridcolor": "white",
             "linecolor": "white",
             "minorgridcolor": "white",
             "startlinecolor": "#2a3f5f"
            },
            "baxis": {
             "endlinecolor": "#2a3f5f",
             "gridcolor": "white",
             "linecolor": "white",
             "minorgridcolor": "white",
             "startlinecolor": "#2a3f5f"
            },
            "type": "carpet"
           }
          ],
          "choropleth": [
           {
            "colorbar": {
             "outlinewidth": 0,
             "ticks": ""
            },
            "type": "choropleth"
           }
          ],
          "contour": [
           {
            "colorbar": {
             "outlinewidth": 0,
             "ticks": ""
            },
            "colorscale": [
             [
              0,
              "#0d0887"
             ],
             [
              0.1111111111111111,
              "#46039f"
             ],
             [
              0.2222222222222222,
              "#7201a8"
             ],
             [
              0.3333333333333333,
              "#9c179e"
             ],
             [
              0.4444444444444444,
              "#bd3786"
             ],
             [
              0.5555555555555556,
              "#d8576b"
             ],
             [
              0.6666666666666666,
              "#ed7953"
             ],
             [
              0.7777777777777778,
              "#fb9f3a"
             ],
             [
              0.8888888888888888,
              "#fdca26"
             ],
             [
              1,
              "#f0f921"
             ]
            ],
            "type": "contour"
           }
          ],
          "contourcarpet": [
           {
            "colorbar": {
             "outlinewidth": 0,
             "ticks": ""
            },
            "type": "contourcarpet"
           }
          ],
          "heatmap": [
           {
            "colorbar": {
             "outlinewidth": 0,
             "ticks": ""
            },
            "colorscale": [
             [
              0,
              "#0d0887"
             ],
             [
              0.1111111111111111,
              "#46039f"
             ],
             [
              0.2222222222222222,
              "#7201a8"
             ],
             [
              0.3333333333333333,
              "#9c179e"
             ],
             [
              0.4444444444444444,
              "#bd3786"
             ],
             [
              0.5555555555555556,
              "#d8576b"
             ],
             [
              0.6666666666666666,
              "#ed7953"
             ],
             [
              0.7777777777777778,
              "#fb9f3a"
             ],
             [
              0.8888888888888888,
              "#fdca26"
             ],
             [
              1,
              "#f0f921"
             ]
            ],
            "type": "heatmap"
           }
          ],
          "heatmapgl": [
           {
            "colorbar": {
             "outlinewidth": 0,
             "ticks": ""
            },
            "colorscale": [
             [
              0,
              "#0d0887"
             ],
             [
              0.1111111111111111,
              "#46039f"
             ],
             [
              0.2222222222222222,
              "#7201a8"
             ],
             [
              0.3333333333333333,
              "#9c179e"
             ],
             [
              0.4444444444444444,
              "#bd3786"
             ],
             [
              0.5555555555555556,
              "#d8576b"
             ],
             [
              0.6666666666666666,
              "#ed7953"
             ],
             [
              0.7777777777777778,
              "#fb9f3a"
             ],
             [
              0.8888888888888888,
              "#fdca26"
             ],
             [
              1,
              "#f0f921"
             ]
            ],
            "type": "heatmapgl"
           }
          ],
          "histogram": [
           {
            "marker": {
             "colorbar": {
              "outlinewidth": 0,
              "ticks": ""
             }
            },
            "type": "histogram"
           }
          ],
          "histogram2d": [
           {
            "colorbar": {
             "outlinewidth": 0,
             "ticks": ""
            },
            "colorscale": [
             [
              0,
              "#0d0887"
             ],
             [
              0.1111111111111111,
              "#46039f"
             ],
             [
              0.2222222222222222,
              "#7201a8"
             ],
             [
              0.3333333333333333,
              "#9c179e"
             ],
             [
              0.4444444444444444,
              "#bd3786"
             ],
             [
              0.5555555555555556,
              "#d8576b"
             ],
             [
              0.6666666666666666,
              "#ed7953"
             ],
             [
              0.7777777777777778,
              "#fb9f3a"
             ],
             [
              0.8888888888888888,
              "#fdca26"
             ],
             [
              1,
              "#f0f921"
             ]
            ],
            "type": "histogram2d"
           }
          ],
          "histogram2dcontour": [
           {
            "colorbar": {
             "outlinewidth": 0,
             "ticks": ""
            },
            "colorscale": [
             [
              0,
              "#0d0887"
             ],
             [
              0.1111111111111111,
              "#46039f"
             ],
             [
              0.2222222222222222,
              "#7201a8"
             ],
             [
              0.3333333333333333,
              "#9c179e"
             ],
             [
              0.4444444444444444,
              "#bd3786"
             ],
             [
              0.5555555555555556,
              "#d8576b"
             ],
             [
              0.6666666666666666,
              "#ed7953"
             ],
             [
              0.7777777777777778,
              "#fb9f3a"
             ],
             [
              0.8888888888888888,
              "#fdca26"
             ],
             [
              1,
              "#f0f921"
             ]
            ],
            "type": "histogram2dcontour"
           }
          ],
          "mesh3d": [
           {
            "colorbar": {
             "outlinewidth": 0,
             "ticks": ""
            },
            "type": "mesh3d"
           }
          ],
          "parcoords": [
           {
            "line": {
             "colorbar": {
              "outlinewidth": 0,
              "ticks": ""
             }
            },
            "type": "parcoords"
           }
          ],
          "scatter": [
           {
            "marker": {
             "colorbar": {
              "outlinewidth": 0,
              "ticks": ""
             }
            },
            "type": "scatter"
           }
          ],
          "scatter3d": [
           {
            "line": {
             "colorbar": {
              "outlinewidth": 0,
              "ticks": ""
             }
            },
            "marker": {
             "colorbar": {
              "outlinewidth": 0,
              "ticks": ""
             }
            },
            "type": "scatter3d"
           }
          ],
          "scattercarpet": [
           {
            "marker": {
             "colorbar": {
              "outlinewidth": 0,
              "ticks": ""
             }
            },
            "type": "scattercarpet"
           }
          ],
          "scattergeo": [
           {
            "marker": {
             "colorbar": {
              "outlinewidth": 0,
              "ticks": ""
             }
            },
            "type": "scattergeo"
           }
          ],
          "scattergl": [
           {
            "marker": {
             "colorbar": {
              "outlinewidth": 0,
              "ticks": ""
             }
            },
            "type": "scattergl"
           }
          ],
          "scattermapbox": [
           {
            "marker": {
             "colorbar": {
              "outlinewidth": 0,
              "ticks": ""
             }
            },
            "type": "scattermapbox"
           }
          ],
          "scatterpolar": [
           {
            "marker": {
             "colorbar": {
              "outlinewidth": 0,
              "ticks": ""
             }
            },
            "type": "scatterpolar"
           }
          ],
          "scatterpolargl": [
           {
            "marker": {
             "colorbar": {
              "outlinewidth": 0,
              "ticks": ""
             }
            },
            "type": "scatterpolargl"
           }
          ],
          "scatterternary": [
           {
            "marker": {
             "colorbar": {
              "outlinewidth": 0,
              "ticks": ""
             }
            },
            "type": "scatterternary"
           }
          ],
          "surface": [
           {
            "colorbar": {
             "outlinewidth": 0,
             "ticks": ""
            },
            "colorscale": [
             [
              0,
              "#0d0887"
             ],
             [
              0.1111111111111111,
              "#46039f"
             ],
             [
              0.2222222222222222,
              "#7201a8"
             ],
             [
              0.3333333333333333,
              "#9c179e"
             ],
             [
              0.4444444444444444,
              "#bd3786"
             ],
             [
              0.5555555555555556,
              "#d8576b"
             ],
             [
              0.6666666666666666,
              "#ed7953"
             ],
             [
              0.7777777777777778,
              "#fb9f3a"
             ],
             [
              0.8888888888888888,
              "#fdca26"
             ],
             [
              1,
              "#f0f921"
             ]
            ],
            "type": "surface"
           }
          ],
          "table": [
           {
            "cells": {
             "fill": {
              "color": "#EBF0F8"
             },
             "line": {
              "color": "white"
             }
            },
            "header": {
             "fill": {
              "color": "#C8D4E3"
             },
             "line": {
              "color": "white"
             }
            },
            "type": "table"
           }
          ]
         },
         "layout": {
          "annotationdefaults": {
           "arrowcolor": "#2a3f5f",
           "arrowhead": 0,
           "arrowwidth": 1
          },
          "colorscale": {
           "diverging": [
            [
             0,
             "#8e0152"
            ],
            [
             0.1,
             "#c51b7d"
            ],
            [
             0.2,
             "#de77ae"
            ],
            [
             0.3,
             "#f1b6da"
            ],
            [
             0.4,
             "#fde0ef"
            ],
            [
             0.5,
             "#f7f7f7"
            ],
            [
             0.6,
             "#e6f5d0"
            ],
            [
             0.7,
             "#b8e186"
            ],
            [
             0.8,
             "#7fbc41"
            ],
            [
             0.9,
             "#4d9221"
            ],
            [
             1,
             "#276419"
            ]
           ],
           "sequential": [
            [
             0,
             "#0d0887"
            ],
            [
             0.1111111111111111,
             "#46039f"
            ],
            [
             0.2222222222222222,
             "#7201a8"
            ],
            [
             0.3333333333333333,
             "#9c179e"
            ],
            [
             0.4444444444444444,
             "#bd3786"
            ],
            [
             0.5555555555555556,
             "#d8576b"
            ],
            [
             0.6666666666666666,
             "#ed7953"
            ],
            [
             0.7777777777777778,
             "#fb9f3a"
            ],
            [
             0.8888888888888888,
             "#fdca26"
            ],
            [
             1,
             "#f0f921"
            ]
           ],
           "sequentialminus": [
            [
             0,
             "#0d0887"
            ],
            [
             0.1111111111111111,
             "#46039f"
            ],
            [
             0.2222222222222222,
             "#7201a8"
            ],
            [
             0.3333333333333333,
             "#9c179e"
            ],
            [
             0.4444444444444444,
             "#bd3786"
            ],
            [
             0.5555555555555556,
             "#d8576b"
            ],
            [
             0.6666666666666666,
             "#ed7953"
            ],
            [
             0.7777777777777778,
             "#fb9f3a"
            ],
            [
             0.8888888888888888,
             "#fdca26"
            ],
            [
             1,
             "#f0f921"
            ]
           ]
          },
          "colorway": [
           "#636efa",
           "#EF553B",
           "#00cc96",
           "#ab63fa",
           "#FFA15A",
           "#19d3f3",
           "#FF6692",
           "#B6E880",
           "#FF97FF",
           "#FECB52"
          ],
          "font": {
           "color": "#2a3f5f"
          },
          "geo": {
           "bgcolor": "white",
           "lakecolor": "white",
           "landcolor": "#E5ECF6",
           "showlakes": true,
           "showland": true,
           "subunitcolor": "white"
          },
          "hoverlabel": {
           "align": "left"
          },
          "hovermode": "closest",
          "mapbox": {
           "style": "light"
          },
          "paper_bgcolor": "white",
          "plot_bgcolor": "#E5ECF6",
          "polar": {
           "angularaxis": {
            "gridcolor": "white",
            "linecolor": "white",
            "ticks": ""
           },
           "bgcolor": "#E5ECF6",
           "radialaxis": {
            "gridcolor": "white",
            "linecolor": "white",
            "ticks": ""
           }
          },
          "scene": {
           "xaxis": {
            "backgroundcolor": "#E5ECF6",
            "gridcolor": "white",
            "gridwidth": 2,
            "linecolor": "white",
            "showbackground": true,
            "ticks": "",
            "zerolinecolor": "white"
           },
           "yaxis": {
            "backgroundcolor": "#E5ECF6",
            "gridcolor": "white",
            "gridwidth": 2,
            "linecolor": "white",
            "showbackground": true,
            "ticks": "",
            "zerolinecolor": "white"
           },
           "zaxis": {
            "backgroundcolor": "#E5ECF6",
            "gridcolor": "white",
            "gridwidth": 2,
            "linecolor": "white",
            "showbackground": true,
            "ticks": "",
            "zerolinecolor": "white"
           }
          },
          "shapedefaults": {
           "line": {
            "color": "#2a3f5f"
           }
          },
          "ternary": {
           "aaxis": {
            "gridcolor": "white",
            "linecolor": "white",
            "ticks": ""
           },
           "baxis": {
            "gridcolor": "white",
            "linecolor": "white",
            "ticks": ""
           },
           "bgcolor": "#E5ECF6",
           "caxis": {
            "gridcolor": "white",
            "linecolor": "white",
            "ticks": ""
           }
          },
          "title": {
           "x": 0.05
          },
          "xaxis": {
           "automargin": true,
           "gridcolor": "white",
           "linecolor": "white",
           "ticks": "",
           "zerolinecolor": "white",
           "zerolinewidth": 2
          },
          "yaxis": {
           "automargin": true,
           "gridcolor": "white",
           "linecolor": "white",
           "ticks": "",
           "zerolinecolor": "white",
           "zerolinewidth": 2
          }
         }
        },
        "xaxis": {
         "showgrid": false,
         "showticklabels": false,
         "zeroline": false
        },
        "yaxis": {
         "showgrid": false,
         "showticklabels": false,
         "zeroline": false
        }
       }
      },
      "text/html": [
       "<div>\n",
       "        \n",
       "        \n",
       "            <div id=\"ec05827a-d79c-428b-a2d1-c97826ac775c\" class=\"plotly-graph-div\" style=\"height:525px; width:100%;\"></div>\n",
       "            <script type=\"text/javascript\">\n",
       "                require([\"plotly\"], function(Plotly) {\n",
       "                    window.PLOTLYENV=window.PLOTLYENV || {};\n",
       "                    \n",
       "                if (document.getElementById(\"ec05827a-d79c-428b-a2d1-c97826ac775c\")) {\n",
       "                    Plotly.newPlot(\n",
       "                        'ec05827a-d79c-428b-a2d1-c97826ac775c',\n",
       "                        [{\"hoverinfo\": \"text\", \"hovertext\": [\"story1.0\", \"Little Prince1.0\", \"book0.8947368421052632\", \"movie0.7368421052631579\", \"Aviator0.42105263157894735\", \"girl0.3684210526315789\", \"original0.3684210526315789\", \"Little0.3157894736842105\", \"first0.3157894736842105\", \"animation0.3157894736842105\", \"child0.3157894736842105\", \"think0.2631578947368421\", \"see0.2631578947368421\", \"characters0.2631578947368421\", \"Exupery0.21052631578947367\", \"second0.21052631578947367\", \"adaptation0.21052631578947367\", \"really0.21052631578947367\", \"something0.21052631578947367\", \"act0.21052631578947367\", \"SUCK0.21052631578947367\", \"SUCKY SUCKY0.21052631578947367\", \"made0.15789473684210525\", \"read0.15789473684210525\", \"childhood0.15789473684210525\", \"old0.15789473684210525\", \"eyes0.15789473684210525\", \"scene0.15789473684210525\", \"open0.15789473684210525\", \"well0.15789473684210525\", \"telling0.15789473684210525\", \"better0.15789473684210525\", \"watch0.15789473684210525\", \"bad0.15789473684210525\", \"minutes0.15789473684210525\", \"time0.15789473684210525\", \"seen0.15789473684210525\", \"treated0.15789473684210525\", \"filmmakers0.15789473684210525\", \"spoiler0.15789473684210525\", \"thing0.15789473684210525\", \"wonder0.15789473684210525\", \"part0.15789473684210525\", \"Star0.15789473684210525\", \"successful0.10526315789473684\", \"today0.10526315789473684\", \"living0.10526315789473684\", \"became0.10526315789473684\", \"mind0.10526315789473684\", \"similar0.10526315789473684\", \"watching0.10526315789473684\", \"everyone0.10526315789473684\", \"life0.10526315789473684\", \"must0.10526315789473684\", \"deep0.10526315789473684\", \"believe0.10526315789473684\", \"yet0.10526315789473684\", \"hope0.10526315789473684\", \"grown0.10526315789473684\", \"new0.10526315789473684\", \"stay0.10526315789473684\", \"half0.10526315789473684\", \"last0.10526315789473684\", \"audience0.10526315789473684\", \"beautiful0.10526315789473684\", \"literature0.10526315789473684\", \"left0.10526315789473684\", \"human0.10526315789473684\", \"probably0.10526315789473684\", \"may0.10526315789473684\", \"interpretation0.10526315789473684\", \"kid0.10526315789473684\", \"adult0.10526315789473684\", \"still0.10526315789473684\", \"saw0.10526315789473684\", \"going0.10526315789473684\", \"sweet0.10526315789473684\", \"sweetest0.10526315789473684\", \"insult0.10526315789473684\", \"Saint0.10526315789473684\", \"away0.10526315789473684\", \"main0.10526315789473684\", \"Fox0.10526315789473684\", \"thought0.10526315789473684\", \"make0.10526315789473684\", \"without0.10526315789473684\", \"extra0.10526315789473684\", \"making0.10526315789473684\", \"wrote0.10526315789473684\", \"excuse0.10526315789473684\", \"move0.10526315789473684\", \"real0.10526315789473684\", \"never0.10526315789473684\", \"goes0.10526315789473684\", \"even0.10526315789473684\", \"way0.10526315789473684\", \"small0.10526315789473684\", \"thinking0.10526315789473684\", \"straight0.10526315789473684\", \"another0.10526315789473684\", \"become0.10526315789473684\", \"sense0.10526315789473684\", \"man0.10526315789473684\", \"full0.10526315789473684\", \"want0.10526315789473684\", \"travesty0.10526315789473684\", \"wrong0.10526315789473684\", \"Wars0.10526315789473684\", \"writers0.10526315789473684\", \"work0.10526315789473684\", \"said0.10526315789473684\", \"exploited0.10526315789473684\", \"zero0.10526315789473684\", \"nothing0.10526315789473684\", \"mother0.10526315789473684\", \"oh0.10526315789473684\", \"poor0.10526315789473684\", \"bringing0.05263157894736842\", \"learn0.05263157894736842\", \"challenge0.05263157894736842\", \"natural0.05263157894736842\", \"modern0.05263157894736842\", \"fully0.05263157894736842\", \"alive0.05263157894736842\", \"neighbor0.05263157894736842\", \"long0.05263157894736842\", \"white0.05263157894736842\", \"hair0.05263157894736842\", \"jacket0.05263157894736842\", \"magic0.05263157894736842\", \"smile0.05263157894736842\", \"memories0.05263157894736842\", \"animated0.05263157894736842\", \"front0.05263157894736842\", \"Maybe0.05263157894736842\", \"someone0.05263157894736842\", \"find0.05263157894736842\", \"snake0.05263157894736842\", \"peace0.05263157894736842\", \"marvelous0.05263157894736842\", \"many0.05263157894736842\", \"naive0.05263157894736842\", \"school0.05263157894736842\", \"boy0.05263157894736842\", \"years0.05263157894736842\", \"later0.05263157894736842\", \"enjoyed0.05263157894736842\", \"reading0.05263157894736842\", \"languages0.05263157894736842\", \"excited0.05263157894736842\", \"watched0.05263157894736842\", \"minded0.05263157894736842\", \"somehow0.05263157894736842\", \"acceptable0.05263157894736842\", \"St0.05263157894736842\", \"days0.05263157894736842\", \"mixed0.05263157894736842\", \"tried0.05263157894736842\", \"understand0.05263157894736842\", \"director0.05263157894736842\", \"viewpoint0.05263157894736842\", \"present0.05263157894736842\", \"classic0.05263157894736842\", \"yes0.05263157894736842\", \"visuals0.05263157894736842\", \"colors0.05263157894736842\", \"textures0.05263157894736842\", \"touching0.05263157894736842\", \"indeed0.05263157894736842\", \"Bravo0.05263157894736842\", \"century0.05263157894736842\", \"rather0.05263157894736842\", \"average0.05263157894736842\", \"ending0.05263157894736842\", \"less0.05263157894736842\", \"disappointing0.05263157894736842\", \"music0.05263157894736842\", \"art0.05263157894736842\", \"reinterpreted0.05263157894736842\", \"carefully0.05263157894736842\", \"pure0.05263157894736842\", \"form0.05263157894736842\", \"feel0.05263157894736842\", \"category0.05263157894736842\", \"value0.05263157894736842\", \"treasure0.05263157894736842\", \"know0.05263157894736842\", \"enjoy0.05263157894736842\", \"least0.05263157894736842\", \"sensitivity0.05263157894736842\", \"using0.05263157894736842\", \"title0.05263157894736842\", \"fan0.05263157894736842\", \"young0.05263157894736842\", \"now0.05263157894736842\", \"middle0.05263157894736842\", \"aged0.05263157894736842\", \"holds0.05263157894736842\", \"tons0.05263157894736842\", \"surprises0.05263157894736842\"], \"mode\": \"text\", \"text\": [\"story\", \"Little Prince\", \"book\", \"movie\", \"Aviator\", \"girl\", \"original\", \"Little\", \"first\", \"animation\", \"child\", \"think\", \"see\", \"characters\", \"Exupery\", \"second\", \"adaptation\", \"really\", \"something\", \"act\", \"SUCK\", \"SUCKY SUCKY\", \"made\", \"read\", \"childhood\", \"old\", \"eyes\", \"scene\", \"open\", \"well\", \"telling\", \"better\", \"watch\", \"bad\", \"minutes\", \"time\", \"seen\", \"treated\", \"filmmakers\", \"spoiler\", \"thing\", \"wonder\", \"part\", \"Star\", \"successful\", \"today\", \"living\", \"became\", \"mind\", \"similar\", \"watching\", \"everyone\", \"life\", \"must\", \"deep\", \"believe\", \"yet\", \"hope\", \"grown\", \"new\", \"stay\", \"half\", \"last\", \"audience\", \"beautiful\", \"literature\", \"left\", \"human\", \"probably\", \"may\", \"interpretation\", \"kid\", \"adult\", \"still\", \"saw\", \"going\", \"sweet\", \"sweetest\", \"insult\", \"Saint\", \"away\", \"main\", \"Fox\", \"thought\", \"make\", \"without\", \"extra\", \"making\", \"wrote\", \"excuse\", \"move\", \"real\", \"never\", \"goes\", \"even\", \"way\", \"small\", \"thinking\", \"straight\", \"another\", \"become\", \"sense\", \"man\", \"full\", \"want\", \"travesty\", \"wrong\", \"Wars\", \"writers\", \"work\", \"said\", \"exploited\", \"zero\", \"nothing\", \"mother\", \"oh\", \"poor\", \"bringing\", \"learn\", \"challenge\", \"natural\", \"modern\", \"fully\", \"alive\", \"neighbor\", \"long\", \"white\", \"hair\", \"jacket\", \"magic\", \"smile\", \"memories\", \"animated\", \"front\", \"Maybe\", \"someone\", \"find\", \"snake\", \"peace\", \"marvelous\", \"many\", \"naive\", \"school\", \"boy\", \"years\", \"later\", \"enjoyed\", \"reading\", \"languages\", \"excited\", \"watched\", \"minded\", \"somehow\", \"acceptable\", \"St\", \"days\", \"mixed\", \"tried\", \"understand\", \"director\", \"viewpoint\", \"present\", \"classic\", \"yes\", \"visuals\", \"colors\", \"textures\", \"touching\", \"indeed\", \"Bravo\", \"century\", \"rather\", \"average\", \"ending\", \"less\", \"disappointing\", \"music\", \"art\", \"reinterpreted\", \"carefully\", \"pure\", \"form\", \"feel\", \"category\", \"value\", \"treasure\", \"know\", \"enjoy\", \"least\", \"sensitivity\", \"using\", \"title\", \"fan\", \"young\", \"now\", \"middle\", \"aged\", \"holds\", \"tons\", \"surprises\"], \"textfont\": {\"color\": [\"rgb(31, 150, 139)\", \"rgb(44, 113, 142)\", \"rgb(110, 206, 88)\", \"rgb(56, 185, 119)\", \"rgb(52, 182, 121)\", \"rgb(132, 212, 75)\", \"rgb(42, 119, 142)\", \"rgb(40, 174, 128)\", \"rgb(72, 29, 111)\", \"rgb(31, 153, 138)\", \"rgb(54, 92, 141)\", \"rgb(66, 65, 134)\", \"rgb(38, 129, 142)\", \"rgb(178, 221, 45)\", \"rgb(33, 143, 141)\", \"rgb(66, 64, 134)\", \"rgb(32, 164, 134)\", \"rgb(39, 127, 142)\", \"rgb(66, 65, 134)\", \"rgb(194, 223, 35)\", \"rgb(229, 228, 25)\", \"rgb(103, 204, 92)\", \"rgb(34, 139, 141)\", \"rgb(202, 225, 31)\", \"rgb(71, 17, 100)\", \"rgb(35, 137, 142)\", \"rgb(44, 113, 142)\", \"rgb(132, 212, 75)\", \"rgb(70, 11, 94)\", \"rgb(48, 106, 142)\", \"rgb(52, 182, 121)\", \"rgb(36, 170, 131)\", \"rgb(70, 48, 126)\", \"rgb(35, 169, 131)\", \"rgb(32, 163, 134)\", \"rgb(72, 41, 121)\", \"rgb(72, 29, 111)\", \"rgb(142, 214, 69)\", \"rgb(239, 229, 28)\", \"rgb(64, 69, 136)\", \"rgb(200, 224, 32)\", \"rgb(213, 226, 26)\", \"rgb(31, 153, 138)\", \"rgb(142, 214, 69)\", \"rgb(137, 213, 72)\", \"rgb(152, 216, 62)\", \"rgb(184, 222, 41)\", \"rgb(33, 165, 133)\", \"rgb(42, 118, 142)\", \"rgb(30, 155, 138)\", \"rgb(162, 218, 55)\", \"rgb(70, 52, 128)\", \"rgb(30, 156, 137)\", \"rgb(205, 225, 29)\", \"rgb(35, 137, 142)\", \"rgb(70, 8, 92)\", \"rgb(72, 24, 106)\", \"rgb(40, 174, 128)\", \"rgb(103, 204, 92)\", \"rgb(59, 187, 117)\", \"rgb(71, 14, 97)\", \"rgb(43, 116, 142)\", \"rgb(108, 205, 90)\", \"rgb(51, 98, 141)\", \"rgb(70, 10, 93)\", \"rgb(46, 179, 124)\", \"rgb(71, 45, 123)\", \"rgb(152, 216, 62)\", \"rgb(63, 72, 137)\", \"rgb(42, 176, 127)\", \"rgb(39, 127, 142)\", \"rgb(39, 127, 142)\", \"rgb(44, 177, 126)\", \"rgb(34, 141, 141)\", \"rgb(71, 45, 123)\", \"rgb(41, 121, 142)\", \"rgb(37, 132, 142)\", \"rgb(31, 161, 135)\", \"rgb(71, 17, 100)\", \"rgb(149, 216, 64)\", \"rgb(56, 185, 119)\", \"rgb(96, 202, 96)\", \"rgb(86, 198, 103)\", \"rgb(176, 221, 47)\", \"rgb(49, 103, 142)\", \"rgb(137, 213, 72)\", \"rgb(56, 185, 119)\", \"rgb(149, 216, 64)\", \"rgb(192, 223, 37)\", \"rgb(38, 130, 142)\", \"rgb(202, 225, 31)\", \"rgb(33, 145, 140)\", \"rgb(37, 133, 142)\", \"rgb(58, 84, 140)\", \"rgb(71, 13, 96)\", \"rgb(216, 226, 25)\", \"rgb(71, 16, 99)\", \"rgb(35, 136, 142)\", \"rgb(49, 102, 142)\", \"rgb(45, 178, 125)\", \"rgb(184, 222, 41)\", \"rgb(36, 135, 142)\", \"rgb(31, 152, 139)\", \"rgb(43, 117, 142)\", \"rgb(36, 135, 142)\", \"rgb(63, 188, 115)\", \"rgb(246, 230, 32)\", \"rgb(117, 208, 84)\", \"rgb(223, 227, 24)\", \"rgb(147, 215, 65)\", \"rgb(37, 171, 130)\", \"rgb(176, 221, 47)\", \"rgb(72, 23, 105)\", \"rgb(71, 47, 125)\", \"rgb(72, 27, 109)\", \"rgb(47, 107, 142)\", \"rgb(32, 146, 140)\", \"rgb(38, 129, 142)\", \"rgb(64, 69, 136)\", \"rgb(69, 55, 129)\", \"rgb(57, 85, 140)\", \"rgb(38, 130, 142)\", \"rgb(57, 85, 140)\", \"rgb(52, 182, 121)\", \"rgb(71, 13, 96)\", \"rgb(31, 149, 139)\", \"rgb(69, 55, 129)\", \"rgb(30, 157, 137)\", \"rgb(72, 26, 108)\", \"rgb(34, 140, 141)\", \"rgb(59, 187, 117)\", \"rgb(70, 11, 94)\", \"rgb(33, 144, 141)\", \"rgb(194, 223, 35)\", \"rgb(65, 66, 135)\", \"rgb(155, 217, 60)\", \"rgb(44, 114, 142)\", \"rgb(165, 219, 54)\", \"rgb(165, 219, 54)\", \"rgb(157, 217, 59)\", \"rgb(61, 77, 138)\", \"rgb(168, 219, 52)\", \"rgb(72, 28, 110)\", \"rgb(178, 221, 45)\", \"rgb(68, 2, 86)\", \"rgb(53, 94, 141)\", \"rgb(42, 120, 142)\", \"rgb(115, 208, 86)\", \"rgb(72, 38, 119)\", \"rgb(189, 223, 38)\", \"rgb(46, 109, 142)\", \"rgb(49, 104, 142)\", \"rgb(68, 58, 131)\", \"rgb(69, 4, 87)\", \"rgb(55, 91, 141)\", \"rgb(46, 110, 142)\", \"rgb(72, 40, 120)\", \"rgb(160, 218, 57)\", \"rgb(152, 216, 62)\", \"rgb(72, 32, 113)\", \"rgb(44, 177, 126)\", \"rgb(45, 112, 142)\", \"rgb(176, 221, 47)\", \"rgb(149, 216, 64)\", \"rgb(51, 99, 141)\", \"rgb(90, 200, 100)\", \"rgb(69, 56, 130)\", \"rgb(47, 107, 142)\", \"rgb(117, 208, 84)\", \"rgb(71, 19, 101)\", \"rgb(37, 172, 130)\", \"rgb(31, 153, 138)\", \"rgb(64, 189, 114)\", \"rgb(137, 213, 72)\", \"rgb(35, 138, 141)\", \"rgb(72, 31, 112)\", \"rgb(31, 162, 135)\", \"rgb(40, 174, 128)\", \"rgb(37, 133, 142)\", \"rgb(72, 31, 112)\", \"rgb(155, 217, 60)\", \"rgb(71, 17, 100)\", \"rgb(229, 228, 25)\", \"rgb(71, 47, 125)\", \"rgb(144, 215, 67)\", \"rgb(59, 187, 117)\", \"rgb(72, 40, 120)\", \"rgb(241, 229, 29)\", \"rgb(45, 113, 142)\", \"rgb(33, 142, 141)\", \"rgb(253, 231, 37)\", \"rgb(72, 27, 109)\", \"rgb(69, 53, 129)\", \"rgb(37, 132, 142)\", \"rgb(47, 180, 124)\", \"rgb(112, 207, 87)\", \"rgb(253, 231, 37)\", \"rgb(57, 85, 140)\", \"rgb(74, 193, 109)\", \"rgb(210, 226, 27)\"], \"size\": [100.0, 100.0, 89.47368421052632, 73.68421052631578, 42.10526315789473, 36.84210526315789, 36.84210526315789, 31.57894736842105, 31.57894736842105, 31.57894736842105, 31.57894736842105, 26.31578947368421, 26.31578947368421, 26.31578947368421, 21.052631578947366, 21.052631578947366, 21.052631578947366, 21.052631578947366, 21.052631578947366, 21.052631578947366, 21.052631578947366, 21.052631578947366, 15.789473684210526, 15.789473684210526, 15.789473684210526, 15.789473684210526, 15.789473684210526, 15.789473684210526, 15.789473684210526, 15.789473684210526, 15.789473684210526, 15.789473684210526, 15.789473684210526, 15.789473684210526, 15.789473684210526, 15.789473684210526, 15.789473684210526, 15.789473684210526, 15.789473684210526, 15.789473684210526, 15.789473684210526, 15.789473684210526, 15.789473684210526, 15.789473684210526, 10.526315789473683, 10.526315789473683, 10.526315789473683, 10.526315789473683, 10.526315789473683, 10.526315789473683, 10.526315789473683, 10.526315789473683, 10.526315789473683, 10.526315789473683, 10.526315789473683, 10.526315789473683, 10.526315789473683, 10.526315789473683, 10.526315789473683, 10.526315789473683, 10.526315789473683, 10.526315789473683, 10.526315789473683, 10.526315789473683, 10.526315789473683, 10.526315789473683, 10.526315789473683, 10.526315789473683, 10.526315789473683, 10.526315789473683, 10.526315789473683, 10.526315789473683, 10.526315789473683, 10.526315789473683, 10.526315789473683, 10.526315789473683, 10.526315789473683, 10.526315789473683, 10.526315789473683, 10.526315789473683, 10.526315789473683, 10.526315789473683, 10.526315789473683, 10.526315789473683, 10.526315789473683, 10.526315789473683, 10.526315789473683, 10.526315789473683, 10.526315789473683, 10.526315789473683, 10.526315789473683, 10.526315789473683, 10.526315789473683, 10.526315789473683, 10.526315789473683, 10.526315789473683, 10.526315789473683, 10.526315789473683, 10.526315789473683, 10.526315789473683, 10.526315789473683, 10.526315789473683, 10.526315789473683, 10.526315789473683, 10.526315789473683, 10.526315789473683, 10.526315789473683, 10.526315789473683, 10.526315789473683, 10.526315789473683, 10.526315789473683, 10.526315789473683, 10.526315789473683, 10.526315789473683, 10.526315789473683, 10.526315789473683, 10.526315789473683, 5.263157894736842, 5.263157894736842, 5.263157894736842, 5.263157894736842, 5.263157894736842, 5.263157894736842, 5.263157894736842, 5.263157894736842, 5.263157894736842, 5.263157894736842, 5.263157894736842, 5.263157894736842, 5.263157894736842, 5.263157894736842, 5.263157894736842, 5.263157894736842, 5.263157894736842, 5.263157894736842, 5.263157894736842, 5.263157894736842, 5.263157894736842, 5.263157894736842, 5.263157894736842, 5.263157894736842, 5.263157894736842, 5.263157894736842, 5.263157894736842, 5.263157894736842, 5.263157894736842, 5.263157894736842, 5.263157894736842, 5.263157894736842, 5.263157894736842, 5.263157894736842, 5.263157894736842, 5.263157894736842, 5.263157894736842, 5.263157894736842, 5.263157894736842, 5.263157894736842, 5.263157894736842, 5.263157894736842, 5.263157894736842, 5.263157894736842, 5.263157894736842, 5.263157894736842, 5.263157894736842, 5.263157894736842, 5.263157894736842, 5.263157894736842, 5.263157894736842, 5.263157894736842, 5.263157894736842, 5.263157894736842, 5.263157894736842, 5.263157894736842, 5.263157894736842, 5.263157894736842, 5.263157894736842, 5.263157894736842, 5.263157894736842, 5.263157894736842, 5.263157894736842, 5.263157894736842, 5.263157894736842, 5.263157894736842, 5.263157894736842, 5.263157894736842, 5.263157894736842, 5.263157894736842, 5.263157894736842, 5.263157894736842, 5.263157894736842, 5.263157894736842, 5.263157894736842, 5.263157894736842, 5.263157894736842, 5.263157894736842, 5.263157894736842, 5.263157894736842, 5.263157894736842, 5.263157894736842, 5.263157894736842]}, \"type\": \"scatter\", \"x\": [15, 127, 13, 85, 165, 84, 165, 2, 2, 108, 2, 173, 167, 5, 120, 24, 44, 43, 122, 91, 105, 186, 145, 101, 17, 57, 46, 124, 145, 124, 67, 184, 158, 70, 186, 53, 3, 2, 118, 43, 134, 188, 9, 79, 85, 16, 41, 190, 86, 91, 41, 1, 144, 51, 53, 63, 26, 5, 171, 81, 26, 146, 157, 132, 42, 191, 155, 86, 85, 114, 191, 59, 129, 100, 191, 133, 131, 165, 130, 114, 131, 126, 127, 108, 67, 45, 176, 63, 67, 9, 19, 146, 127, 106, 192, 7, 179, 27, 134, 152, 22, 23, 41, 176, 92, 60, 82, 144, 122, 193, 23, 118, 31, 146, 165, 170, 74, 2, 126, 40, 92, 34, 165, 162, 74, 22, 152, 2, 34, 8, 53, 78, 131, 153, 67, 194, 12, 151, 54, 9, 43, 193, 194, 149, 119, 53, 165, 114, 114, 23, 24, 37, 25, 50, 154, 95, 39, 155, 2, 85, 153, 57, 194, 129, 116, 39, 79, 153, 130, 12, 72, 1, 133, 119, 113, 22, 140, 70, 88, 74, 16, 152, 37, 130, 166, 152, 100, 105, 135, 99, 171, 40, 101, 166, 182, 149, 8, 146, 122, 1], \"y\": [18, 7, 324, 5, 51, 180, 242, 213, 132, 204, 20, 189, 13, 367, 146, 6, 382, 317, 311, 139, 145, 184, 260, 309, 20, 234, 111, 245, 19, 20, 227, 2, 184, 78, 319, 70, 93, 309, 62, 223, 185, 360, 309, 255, 3, 108, 60, 259, 256, 301, 129, 386, 185, 159, 197, 17, 189, 80, 371, 222, 279, 115, 259, 2, 361, 86, 228, 160, 102, 133, 18, 163, 262, 287, 152, 21, 62, 190, 308, 158, 295, 114, 204, 303, 302, 119, 27, 307, 70, 362, 314, 87, 378, 362, 131, 4, 376, 18, 244, 18, 204, 131, 279, 8, 251, 68, 182, 145, 218, 338, 311, 1, 135, 347, 76, 47, 240, 352, 92, 39, 161, 192, 108, 230, 191, 258, 184, 224, 286, 103, 220, 394, 114, 87, 164, 188, 171, 356, 328, 336, 162, 302, 166, 151, 45, 342, 145, 302, 362, 163, 107, 321, 64, 236, 319, 364, 113, 297, 168, 135, 116, 253, 226, 87, 188, 251, 8, 56, 152, 93, 10, 122, 55, 126, 147, 229, 334, 89, 58, 87, 7, 394, 348, 335, 119, 196, 254, 78, 149, 152, 321, 192, 101, 226, 38, 295, 122, 207, 281, 2]}],\n",
       "                        {\"template\": {\"data\": {\"bar\": [{\"error_x\": {\"color\": \"#2a3f5f\"}, \"error_y\": {\"color\": \"#2a3f5f\"}, \"marker\": {\"line\": {\"color\": \"#E5ECF6\", \"width\": 0.5}}, \"type\": \"bar\"}], \"barpolar\": [{\"marker\": {\"line\": {\"color\": \"#E5ECF6\", \"width\": 0.5}}, \"type\": \"barpolar\"}], \"carpet\": [{\"aaxis\": {\"endlinecolor\": \"#2a3f5f\", \"gridcolor\": \"white\", \"linecolor\": \"white\", \"minorgridcolor\": \"white\", \"startlinecolor\": \"#2a3f5f\"}, \"baxis\": {\"endlinecolor\": \"#2a3f5f\", \"gridcolor\": \"white\", \"linecolor\": \"white\", \"minorgridcolor\": \"white\", \"startlinecolor\": \"#2a3f5f\"}, \"type\": \"carpet\"}], \"choropleth\": [{\"colorbar\": {\"outlinewidth\": 0, \"ticks\": \"\"}, \"type\": \"choropleth\"}], \"contour\": [{\"colorbar\": {\"outlinewidth\": 0, \"ticks\": \"\"}, \"colorscale\": [[0.0, \"#0d0887\"], [0.1111111111111111, \"#46039f\"], [0.2222222222222222, \"#7201a8\"], [0.3333333333333333, \"#9c179e\"], [0.4444444444444444, \"#bd3786\"], [0.5555555555555556, \"#d8576b\"], [0.6666666666666666, \"#ed7953\"], [0.7777777777777778, \"#fb9f3a\"], [0.8888888888888888, \"#fdca26\"], [1.0, \"#f0f921\"]], \"type\": \"contour\"}], \"contourcarpet\": [{\"colorbar\": {\"outlinewidth\": 0, \"ticks\": \"\"}, \"type\": \"contourcarpet\"}], \"heatmap\": [{\"colorbar\": {\"outlinewidth\": 0, \"ticks\": \"\"}, \"colorscale\": [[0.0, \"#0d0887\"], [0.1111111111111111, \"#46039f\"], [0.2222222222222222, \"#7201a8\"], [0.3333333333333333, \"#9c179e\"], [0.4444444444444444, \"#bd3786\"], [0.5555555555555556, \"#d8576b\"], [0.6666666666666666, \"#ed7953\"], [0.7777777777777778, \"#fb9f3a\"], [0.8888888888888888, \"#fdca26\"], [1.0, \"#f0f921\"]], \"type\": \"heatmap\"}], \"heatmapgl\": [{\"colorbar\": {\"outlinewidth\": 0, \"ticks\": \"\"}, \"colorscale\": [[0.0, \"#0d0887\"], [0.1111111111111111, \"#46039f\"], [0.2222222222222222, \"#7201a8\"], [0.3333333333333333, \"#9c179e\"], [0.4444444444444444, \"#bd3786\"], [0.5555555555555556, \"#d8576b\"], [0.6666666666666666, \"#ed7953\"], [0.7777777777777778, \"#fb9f3a\"], [0.8888888888888888, \"#fdca26\"], [1.0, \"#f0f921\"]], \"type\": \"heatmapgl\"}], \"histogram\": [{\"marker\": {\"colorbar\": {\"outlinewidth\": 0, \"ticks\": \"\"}}, \"type\": \"histogram\"}], \"histogram2d\": [{\"colorbar\": {\"outlinewidth\": 0, \"ticks\": \"\"}, \"colorscale\": [[0.0, \"#0d0887\"], [0.1111111111111111, \"#46039f\"], [0.2222222222222222, \"#7201a8\"], [0.3333333333333333, \"#9c179e\"], [0.4444444444444444, \"#bd3786\"], [0.5555555555555556, \"#d8576b\"], [0.6666666666666666, \"#ed7953\"], [0.7777777777777778, \"#fb9f3a\"], [0.8888888888888888, \"#fdca26\"], [1.0, \"#f0f921\"]], \"type\": \"histogram2d\"}], \"histogram2dcontour\": [{\"colorbar\": {\"outlinewidth\": 0, \"ticks\": \"\"}, \"colorscale\": [[0.0, \"#0d0887\"], [0.1111111111111111, \"#46039f\"], [0.2222222222222222, \"#7201a8\"], [0.3333333333333333, \"#9c179e\"], [0.4444444444444444, \"#bd3786\"], [0.5555555555555556, \"#d8576b\"], [0.6666666666666666, \"#ed7953\"], [0.7777777777777778, \"#fb9f3a\"], [0.8888888888888888, \"#fdca26\"], [1.0, \"#f0f921\"]], \"type\": \"histogram2dcontour\"}], \"mesh3d\": [{\"colorbar\": {\"outlinewidth\": 0, \"ticks\": \"\"}, \"type\": \"mesh3d\"}], \"parcoords\": [{\"line\": {\"colorbar\": {\"outlinewidth\": 0, \"ticks\": \"\"}}, \"type\": \"parcoords\"}], \"scatter\": [{\"marker\": {\"colorbar\": {\"outlinewidth\": 0, \"ticks\": \"\"}}, \"type\": \"scatter\"}], \"scatter3d\": [{\"line\": {\"colorbar\": {\"outlinewidth\": 0, \"ticks\": \"\"}}, \"marker\": {\"colorbar\": {\"outlinewidth\": 0, \"ticks\": \"\"}}, \"type\": \"scatter3d\"}], \"scattercarpet\": [{\"marker\": {\"colorbar\": {\"outlinewidth\": 0, \"ticks\": \"\"}}, \"type\": \"scattercarpet\"}], \"scattergeo\": [{\"marker\": {\"colorbar\": {\"outlinewidth\": 0, \"ticks\": \"\"}}, \"type\": \"scattergeo\"}], \"scattergl\": [{\"marker\": {\"colorbar\": {\"outlinewidth\": 0, \"ticks\": \"\"}}, \"type\": \"scattergl\"}], \"scattermapbox\": [{\"marker\": {\"colorbar\": {\"outlinewidth\": 0, \"ticks\": \"\"}}, \"type\": \"scattermapbox\"}], \"scatterpolar\": [{\"marker\": {\"colorbar\": {\"outlinewidth\": 0, \"ticks\": \"\"}}, \"type\": \"scatterpolar\"}], \"scatterpolargl\": [{\"marker\": {\"colorbar\": {\"outlinewidth\": 0, \"ticks\": \"\"}}, \"type\": \"scatterpolargl\"}], \"scatterternary\": [{\"marker\": {\"colorbar\": {\"outlinewidth\": 0, \"ticks\": \"\"}}, \"type\": \"scatterternary\"}], \"surface\": [{\"colorbar\": {\"outlinewidth\": 0, \"ticks\": \"\"}, \"colorscale\": [[0.0, \"#0d0887\"], [0.1111111111111111, \"#46039f\"], [0.2222222222222222, \"#7201a8\"], [0.3333333333333333, \"#9c179e\"], [0.4444444444444444, \"#bd3786\"], [0.5555555555555556, \"#d8576b\"], [0.6666666666666666, \"#ed7953\"], [0.7777777777777778, \"#fb9f3a\"], [0.8888888888888888, \"#fdca26\"], [1.0, \"#f0f921\"]], \"type\": \"surface\"}], \"table\": [{\"cells\": {\"fill\": {\"color\": \"#EBF0F8\"}, \"line\": {\"color\": \"white\"}}, \"header\": {\"fill\": {\"color\": \"#C8D4E3\"}, \"line\": {\"color\": \"white\"}}, \"type\": \"table\"}]}, \"layout\": {\"annotationdefaults\": {\"arrowcolor\": \"#2a3f5f\", \"arrowhead\": 0, \"arrowwidth\": 1}, \"colorscale\": {\"diverging\": [[0, \"#8e0152\"], [0.1, \"#c51b7d\"], [0.2, \"#de77ae\"], [0.3, \"#f1b6da\"], [0.4, \"#fde0ef\"], [0.5, \"#f7f7f7\"], [0.6, \"#e6f5d0\"], [0.7, \"#b8e186\"], [0.8, \"#7fbc41\"], [0.9, \"#4d9221\"], [1, \"#276419\"]], \"sequential\": [[0.0, \"#0d0887\"], [0.1111111111111111, \"#46039f\"], [0.2222222222222222, \"#7201a8\"], [0.3333333333333333, \"#9c179e\"], [0.4444444444444444, \"#bd3786\"], [0.5555555555555556, \"#d8576b\"], [0.6666666666666666, \"#ed7953\"], [0.7777777777777778, \"#fb9f3a\"], [0.8888888888888888, \"#fdca26\"], [1.0, \"#f0f921\"]], \"sequentialminus\": [[0.0, \"#0d0887\"], [0.1111111111111111, \"#46039f\"], [0.2222222222222222, \"#7201a8\"], [0.3333333333333333, \"#9c179e\"], [0.4444444444444444, \"#bd3786\"], [0.5555555555555556, \"#d8576b\"], [0.6666666666666666, \"#ed7953\"], [0.7777777777777778, \"#fb9f3a\"], [0.8888888888888888, \"#fdca26\"], [1.0, \"#f0f921\"]]}, \"colorway\": [\"#636efa\", \"#EF553B\", \"#00cc96\", \"#ab63fa\", \"#FFA15A\", \"#19d3f3\", \"#FF6692\", \"#B6E880\", \"#FF97FF\", \"#FECB52\"], \"font\": {\"color\": \"#2a3f5f\"}, \"geo\": {\"bgcolor\": \"white\", \"lakecolor\": \"white\", \"landcolor\": \"#E5ECF6\", \"showlakes\": true, \"showland\": true, \"subunitcolor\": \"white\"}, \"hoverlabel\": {\"align\": \"left\"}, \"hovermode\": \"closest\", \"mapbox\": {\"style\": \"light\"}, \"paper_bgcolor\": \"white\", \"plot_bgcolor\": \"#E5ECF6\", \"polar\": {\"angularaxis\": {\"gridcolor\": \"white\", \"linecolor\": \"white\", \"ticks\": \"\"}, \"bgcolor\": \"#E5ECF6\", \"radialaxis\": {\"gridcolor\": \"white\", \"linecolor\": \"white\", \"ticks\": \"\"}}, \"scene\": {\"xaxis\": {\"backgroundcolor\": \"#E5ECF6\", \"gridcolor\": \"white\", \"gridwidth\": 2, \"linecolor\": \"white\", \"showbackground\": true, \"ticks\": \"\", \"zerolinecolor\": \"white\"}, \"yaxis\": {\"backgroundcolor\": \"#E5ECF6\", \"gridcolor\": \"white\", \"gridwidth\": 2, \"linecolor\": \"white\", \"showbackground\": true, \"ticks\": \"\", \"zerolinecolor\": \"white\"}, \"zaxis\": {\"backgroundcolor\": \"#E5ECF6\", \"gridcolor\": \"white\", \"gridwidth\": 2, \"linecolor\": \"white\", \"showbackground\": true, \"ticks\": \"\", \"zerolinecolor\": \"white\"}}, \"shapedefaults\": {\"line\": {\"color\": \"#2a3f5f\"}}, \"ternary\": {\"aaxis\": {\"gridcolor\": \"white\", \"linecolor\": \"white\", \"ticks\": \"\"}, \"baxis\": {\"gridcolor\": \"white\", \"linecolor\": \"white\", \"ticks\": \"\"}, \"bgcolor\": \"#E5ECF6\", \"caxis\": {\"gridcolor\": \"white\", \"linecolor\": \"white\", \"ticks\": \"\"}}, \"title\": {\"x\": 0.05}, \"xaxis\": {\"automargin\": true, \"gridcolor\": \"white\", \"linecolor\": \"white\", \"ticks\": \"\", \"zerolinecolor\": \"white\", \"zerolinewidth\": 2}, \"yaxis\": {\"automargin\": true, \"gridcolor\": \"white\", \"linecolor\": \"white\", \"ticks\": \"\", \"zerolinecolor\": \"white\", \"zerolinewidth\": 2}}}, \"xaxis\": {\"showgrid\": false, \"showticklabels\": false, \"zeroline\": false}, \"yaxis\": {\"showgrid\": false, \"showticklabels\": false, \"zeroline\": false}},\n",
       "                        {\"responsive\": true}\n",
       "                    ).then(function(){\n",
       "                            \n",
       "var gd = document.getElementById('ec05827a-d79c-428b-a2d1-c97826ac775c');\n",
       "var x = new MutationObserver(function (mutations, observer) {{\n",
       "        var display = window.getComputedStyle(gd).display;\n",
       "        if (!display || display === 'none') {{\n",
       "            console.log([gd, 'removed!']);\n",
       "            Plotly.purge(gd);\n",
       "            observer.disconnect();\n",
       "        }}\n",
       "}});\n",
       "\n",
       "// Listen for the removal of the full notebook cells\n",
       "var notebookContainer = gd.closest('#notebook-container');\n",
       "if (notebookContainer) {{\n",
       "    x.observe(notebookContainer, {childList: true});\n",
       "}}\n",
       "\n",
       "// Listen for the clearing of the current output cell\n",
       "var outputEl = gd.closest('.output');\n",
       "if (outputEl) {{\n",
       "    x.observe(outputEl, {childList: true});\n",
       "}}\n",
       "\n",
       "                        })\n",
       "                };\n",
       "                });\n",
       "            </script>\n",
       "        </div>"
      ]
     },
     "metadata": {},
     "output_type": "display_data"
    }
   ],
   "source": [
    "neutral_comments = '.'.join(df_nutral['content'])\n",
    "iplot(pwc(neutral_comments))"
   ]
  },
  {
   "cell_type": "code",
   "execution_count": null,
   "metadata": {},
   "outputs": [],
   "source": []
  }
 ],
 "metadata": {
  "kernelspec": {
   "display_name": "Python 3",
   "language": "python",
   "name": "python3"
  },
  "language_info": {
   "codemirror_mode": {
    "name": "ipython",
    "version": 3
   },
   "file_extension": ".py",
   "mimetype": "text/x-python",
   "name": "python",
   "nbconvert_exporter": "python",
   "pygments_lexer": "ipython3",
   "version": "3.7.3"
  }
 },
 "nbformat": 4,
 "nbformat_minor": 2
}
